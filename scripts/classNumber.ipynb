{
 "cells": [
  {
   "cell_type": "code",
   "execution_count": 1,
   "metadata": {},
   "outputs": [],
   "source": [
    "import os\n",
    "from math import log, ceil\n",
    "import matplotlib.pyplot as plt\n",
    "from sklearn.feature_selection import SelectKBest,chi2\n",
    "import pandas as pd\n",
    "import numpy as np\n",
    "from sklearn.feature_extraction.text import TfidfVectorizer  \n",
    "from sklearn.naive_bayes import ComplementNB,MultinomialNB\n",
    "from sklearn.multiclass import OneVsRestClassifier,OneVsOneClassifier,OutputCodeClassifier\n",
    "from sklearn.svm import LinearSVC,SVC\n",
    "from sklearn.metrics import classification_report,confusion_matrix,accuracy_score,f1_score"
   ]
  },
  {
   "cell_type": "code",
   "execution_count": 2,
   "metadata": {},
   "outputs": [],
   "source": [
    "def plotDifferentNumFeatureInfluence(numlists,MNBCscores,CNBCscores,OVRSVC, OVOSVC):\n",
    "    fig, ax = plt.subplots()\n",
    "    ax.plot(numlists, MNBCscores,color='tab:red',label='MNBC')\n",
    "    ax.plot(numlists, CNBCscores,color='tab:blue',label='CNBC')\n",
    "    ax.plot(numlists, OVRSVC,color='tab:orange',label='OvRSVC')\n",
    "    ax.plot(numlists ,OVOSVC,color='tab:red',label='OVOSVC')\n",
    "    ax.set(xlabel='Number of classes', ylabel='Accuracy')\n",
    "    ax.legend()\n",
    "    title= 'Accuracy compare with different number of classes in different approach'\n",
    "    ax.set_title(title)\n",
    "    ax.grid()\n",
    "    fig.savefig(\"Classnum.png\")"
   ]
  },
  {
   "cell_type": "code",
   "execution_count": 3,
   "metadata": {},
   "outputs": [],
   "source": [
    "def plotDifferentNumFeatureInfluenceMacro(numlists,MNBCscores,CNBCscores,OVRSVC, OVOSVC):\n",
    "    fig, ax = plt.subplots()\n",
    "    ax.plot(numlists, MNBCscores,color='tab:red',label='MNBC')\n",
    "    ax.plot(numlists, CNBCscores,color='tab:blue',label='CNBC')\n",
    "    ax.plot(numlists, OVRSVC,color='tab:orange',label='OvRSVC')\n",
    "    ax.plot(numlists ,OVOSVC,color='tab:red',label='OVOSVC')\n",
    "    ax.set(xlabel='Number of classes', ylabel='Accuracy')\n",
    "    ax.legend()\n",
    "    title= 'Accuracy compare with different number of classes in different approach'\n",
    "    ax.set_title(title)\n",
    "    ax.grid()\n",
    "    fig.savefig(\"ClassnumMacro.png\")"
   ]
  },
  {
   "cell_type": "code",
   "execution_count": 4,
   "metadata": {},
   "outputs": [],
   "source": [
    "# Choose folder\n",
    "folder = ['Amazon','FlipKart','Combine','Walmart']\n",
    "class OpenData:\n",
    "    def __init__(self,num):\n",
    "        self.num = num\n",
    "    def openFile(self):\n",
    "        num = self.num\n",
    "        trainData = pd.read_csv(folder[num]+'/X_train.csv')\n",
    "        trainLabel = pd.read_csv(folder[num]+'/y_train.csv')\n",
    "        testData = pd.read_csv(folder[num]+'/X_test.csv')\n",
    "        testLabel = pd.read_csv(folder[num]+'/y_test.csv')\n",
    "        if(num==0 or num==2):\n",
    "            # For Description has nan row\n",
    "            df = pd.concat([trainData,trainLabel], axis = 1)\n",
    "            df = df.dropna(subset=['X_train'])\n",
    "            trainData = pd.DataFrame({'X_train':df.X_train})\n",
    "            trainLabel = pd.DataFrame({'category':df.category,'subcategory':df.subcategory})\n",
    "            df = pd.concat([testData,testLabel], axis = 1)\n",
    "            df = df.dropna(subset=['X_test'])\n",
    "            testData = pd.DataFrame({'X_test':df.X_test})\n",
    "            testLabel = pd.DataFrame({'category':df.category,'subcategory':df.subcategory})\n",
    "        return trainData,trainLabel,testData,testLabel\n",
    "            "
   ]
  },
  {
   "cell_type": "code",
   "execution_count": 5,
   "metadata": {},
   "outputs": [],
   "source": [
    "df_label = pd.read_csv('Walmart/label.csv')\n",
    "od = OpenData((3))\n",
    "trainData,trainLabel,testData,testLabel = od.openFile()"
   ]
  },
  {
   "cell_type": "code",
   "execution_count": 6,
   "metadata": {},
   "outputs": [],
   "source": [
    "df_train = pd.DataFrame({'X_train':trainData['X_train'],'y_train':trainLabel['category']})\n",
    "df_test = pd.DataFrame({'X_test':testData['X_test'],'y_test':testLabel['category']})"
   ]
  },
  {
   "cell_type": "code",
   "execution_count": 7,
   "metadata": {},
   "outputs": [
    {
     "data": {
      "text/plain": [
       "(5     24152\n",
       " 12    18128\n",
       " 2      9376\n",
       " 3      8362\n",
       " 15     6098\n",
       " 4      4362\n",
       " 25     4002\n",
       " 22     3460\n",
       " 19     2665\n",
       " 8      2235\n",
       " 9      1575\n",
       " 21     1118\n",
       " 1       992\n",
       " 11      968\n",
       " 23      853\n",
       " 24      820\n",
       " 16      764\n",
       " 18      700\n",
       " 13      539\n",
       " 0       518\n",
       " 26      461\n",
       " 17      456\n",
       " 31      277\n",
       " 29      275\n",
       " 10      173\n",
       " 7       162\n",
       " 6       156\n",
       " 20      127\n",
       " 30       58\n",
       " 27       46\n",
       " 14       30\n",
       " 28       30\n",
       " Name: y_train, dtype: int64, 5     5988\n",
       " 12    4572\n",
       " 2     2404\n",
       " 3     2047\n",
       " 15    1567\n",
       " 4     1031\n",
       " 25     999\n",
       " 22     814\n",
       " 19     669\n",
       " 8      573\n",
       " 9      362\n",
       " 21     282\n",
       " 1      277\n",
       " 11     239\n",
       " 24     222\n",
       " 23     207\n",
       " 18     193\n",
       " 16     190\n",
       " 26     152\n",
       " 13     129\n",
       " 17     123\n",
       " 0      114\n",
       " 29      70\n",
       " 31      69\n",
       " 7       50\n",
       " 10      38\n",
       " 6       36\n",
       " 20      30\n",
       " 27      13\n",
       " 30      11\n",
       " 14      10\n",
       " 28       4\n",
       " Name: y_test, dtype: int64)"
      ]
     },
     "execution_count": 7,
     "metadata": {},
     "output_type": "execute_result"
    }
   ],
   "source": [
    "df_train.y_train.value_counts(),df_test.y_test.value_counts()"
   ]
  },
  {
   "cell_type": "code",
   "execution_count": 8,
   "metadata": {},
   "outputs": [
    {
     "name": "stdout",
     "output_type": "stream",
     "text": [
      "32\n",
      "----- Origin Class Num 32\n",
      "\n",
      "28\n",
      "----- Second Class Num 28\n",
      "\n",
      "24\n",
      "----- Third Class Num 24\n",
      "\n",
      "20\n",
      "----- Fourth Class Num 20\n",
      "\n",
      "16\n",
      "----- Fifth Class Num 16\n",
      "\n",
      "12\n",
      "----- Sixth Class Num 12\n",
      "\n"
     ]
    }
   ],
   "source": [
    "# Origin \n",
    "OuputNum = len(df_train.y_train.unique())\n",
    "target = df_label['targetName'].values\n",
    "print(len(target))\n",
    "print(\"----- Origin Class Num \" + str(OuputNum) + '\\n')\n",
    "df_train_nd = df_train[(df_train.y_train!=5) & (df_train.y_train!=28)& (df_train.y_train!=12) & (df_train.y_train!=14)]\n",
    "df_test_nd = df_test[(df_test.y_test!=5) & (df_test.y_test!=28) & (df_test.y_test!=12) & (df_test.y_test!=14)]\n",
    "OuputNumnd = len(df_train_nd.y_train.unique())\n",
    "target1 = df_label[(df_label.newLabel!=5) & (df_label.newLabel!=28)& (df_label.newLabel!=12) & (df_label.newLabel!=14)]['targetName'].values\n",
    "df_label = df_label[(df_label.newLabel!=5) & (df_label.newLabel!=28)& (df_label.newLabel!=12) & (df_label.newLabel!=14)]\n",
    "print(len(target1))\n",
    "print(\"----- Second Class Num \" + str(OuputNumnd) + '\\n')\n",
    "df_train_rd = df_train_nd[(df_train_nd.y_train!=30) & (df_train_nd.y_train!=27)& (df_train_nd.y_train!=2) & (df_train_nd.y_train!=3)]\n",
    "df_test_rd = df_test_nd[(df_test_nd.y_test!=30) & (df_test_nd.y_test!=27) & (df_test_nd.y_test!=2) & (df_test_nd.y_test!=3)]\n",
    "OuputNumrd = len(df_train_rd.y_train.unique())\n",
    "target2 = df_label[(df_label.newLabel!=30) & (df_label.newLabel!=27)& (df_label.newLabel!=2) & (df_label.newLabel!=3)]['targetName'].values\n",
    "df_label = df_label[(df_label.newLabel!=30) & (df_label.newLabel!=27)& (df_label.newLabel!=2) & (df_label.newLabel!=3)]\n",
    "print(len(target2))\n",
    "\n",
    "print(\"----- Third Class Num \" + str(OuputNumrd) + '\\n')\n",
    "df_train_or = df_train_rd[(df_train_rd.y_train!=20) & (df_train_rd.y_train!=6)& (df_train_rd.y_train!=15) & (df_train_rd.y_train!=4)]\n",
    "df_test_or = df_test_rd[(df_test_rd.y_test!=20) & (df_test_rd.y_test!=6) & (df_test_rd.y_test!=15) & (df_test_rd.y_test!=4)]\n",
    "OuputNumor = len(df_train_or.y_train.unique())\n",
    "target3 = df_label[(df_label.newLabel!=20) & (df_label.newLabel!=6)& (df_label.newLabel!=15) & (df_label.newLabel!=4)]['targetName'].values\n",
    "df_label = df_label[(df_label.newLabel!=20) & (df_label.newLabel!=6)& (df_label.newLabel!=15) & (df_label.newLabel!=4)]\n",
    "print(len(target3))\n",
    "\n",
    "print(\"----- Fourth Class Num \" + str(OuputNumor) + '\\n')\n",
    "df_train_fif = df_train_or[(df_train_or.y_train!=10) & (df_train_or.y_train!=7)& (df_train_or.y_train!=25) & (df_train_or.y_train!=22)]\n",
    "df_test_fif = df_test_or[(df_test_or.y_test!=10) & (df_test_or.y_test!=7) & (df_test_or.y_test!=25) & (df_test_or.y_test!=22)]\n",
    "OuputNumfif = len(df_train_fif.y_train.unique())\n",
    "target4 = df_label[(df_label.newLabel!=10) & (df_label.newLabel!=7)& (df_label.newLabel!=25) & (df_label.newLabel!=22)]['targetName'].values\n",
    "df_label = df_label[(df_label.newLabel!=10) & (df_label.newLabel!=7)& (df_label.newLabel!=25) & (df_label.newLabel!=22)]\n",
    "print(len(target4))\n",
    "\n",
    "print(\"----- Fifth Class Num \" + str(OuputNumfif) + '\\n')\n",
    "df_train_six = df_train_fif[(df_train_fif.y_train!=31) & (df_train_fif.y_train!=29)& (df_train_fif.y_train!=19) & (df_train_fif.y_train!=8)]\n",
    "df_test_six = df_test_fif[(df_test_fif.y_test!=31) & (df_test_fif.y_test!=29) & (df_test_fif.y_test!=19) & (df_test_fif.y_test!=8)]\n",
    "OuputNumsix = len(df_train_six.y_train.unique())\n",
    "target5 = df_label[(df_label.newLabel!=31) & (df_label.newLabel!=29)& (df_label.newLabel!=19) & (df_label.newLabel!=8)]['targetName'].values\n",
    "df_label =  df_label[(df_label.newLabel!=31) & (df_label.newLabel!=29)& (df_label.newLabel!=19) & (df_label.newLabel!=8)]\n",
    "print(len(target5))\n",
    "\n",
    "print(\"----- Sixth Class Num \" + str(OuputNumsix) + '\\n')\n",
    "dfTrain = [df_train,df_train_nd,df_train_rd,df_train_or,df_train_fif,df_train_six]\n",
    "dfTest = [df_test,df_test_nd,df_test_rd,df_test_or,df_test_fif,df_test_six]\n",
    "OuputClassNum = [OuputNum,OuputNumnd,OuputNumrd,OuputNumor,OuputNumfif,OuputNumsix]\n",
    "targets = [target,target1,target2,target3,target4,target5]\n",
    "\n",
    "\n"
   ]
  },
  {
   "cell_type": "code",
   "execution_count": 9,
   "metadata": {},
   "outputs": [],
   "source": [
    "class MachineLearningModel:\n",
    "    def __init__(self, Train,Test):\n",
    "        tfidfconverter = TfidfVectorizer(min_df=5, max_df=0.7)  \n",
    "        tfidfconverter.fit(Train['X_train'])\n",
    "        XTrain = tfidfconverter.transform(Train['X_train'])\n",
    "        XTest = tfidfconverter.transform(Test['X_test'])\n",
    "        print(XTrain.shape)\n",
    "        print(XTest.shape)\n",
    "        num = 8000\n",
    "        selectBest = SelectKBest(chi2, k=num).fit(XTrain, Train['y_train'])\n",
    "        select_feature = selectBest.transform(XTrain)\n",
    "        test_features = selectBest.transform(XTest)\n",
    "        self.X_train = select_feature\n",
    "        self.X_test = test_features\n",
    "        self.y_train = Train['y_train']\n",
    "        self.y_test = Test['y_test']\n",
    "    def MNBC(self,n):\n",
    "        X_train = self.X_train\n",
    "        y_train = self.y_train\n",
    "        X_test = self.X_test\n",
    "        y_test= self.y_test\n",
    "        self.target = np.sort(y_train.unique())\n",
    "        MNBC = MultinomialNB()\n",
    "        MNBC.fit(X_train,y_train)\n",
    "        %time\n",
    "        score = MNBC.score(X_test,y_test)\n",
    "        yPred = MNBC.predict(X_test)\n",
    "        report = classification_report(y_test, yPred,target_names=targets[n])\n",
    "        macro_score= f1_score(y_test, yPred, average='macro')  \n",
    "        return score,report,macro_score \n",
    "    def CNBC(self,n):\n",
    "        X_train = self.X_train\n",
    "        y_train = self.y_train\n",
    "        X_test = self.X_test\n",
    "        y_test= self.y_test\n",
    "        self.target = np.sort(y_train.unique())\n",
    "        CNBC = ComplementNB()\n",
    "        CNBC.fit(X_train,y_train)\n",
    "        %time\n",
    "        score = CNBC.score(X_test,y_test)\n",
    "        yPred = CNBC.predict(X_test)\n",
    "        report = classification_report(y_test, yPred,target_names=targets[n])\n",
    "        macro_score= f1_score(y_test, yPred, average='macro')  \n",
    "        return score,report,macro_score \n",
    "    def OvRSVM(self,n):\n",
    "        X_train = self.X_train\n",
    "        y_train = self.y_train\n",
    "        X_test = self.X_test\n",
    "        y_test= self.y_test\n",
    "        self.target = np.sort(y_train.unique())\n",
    "        linearSVM = LinearSVC(random_state=42,tol=1e-5,class_weight=\"balanced\")\n",
    "        linearSVM.fit(X_train,y_train)\n",
    "        %time\n",
    "        score = linearSVM.score(X_test,y_test)\n",
    "        yPred = linearSVM.predict(X_test)\n",
    "        report = classification_report(y_test, yPred,target_names=targets[n])\n",
    "        macro_score= f1_score(y_test, yPred, average='macro')  \n",
    "        return score,report,macro_score \n",
    "    def OvOSVM(self,n):\n",
    "        X_train = self.X_train\n",
    "        y_train = self.y_train\n",
    "        X_test = self.X_test\n",
    "        y_test= self.y_test\n",
    "        self.target = np.sort(y_train.unique())\n",
    "        OvOSVC = SVC(gamma='scale', decision_function_shape='ovo')\n",
    "        OvOSVC.fit(X_train,y_train)\n",
    "        %time\n",
    "        score = OvOSVC.score(X_test,y_test)\n",
    "        yPred = OvOSVC.predict(X_test)\n",
    "        report = classification_report(y_test, yPred,target_names=targets[n])\n",
    "        macro_score= f1_score(y_test, yPred, average='macro')  \n",
    "        return score,report,macro_score "
   ]
  },
  {
   "cell_type": "code",
   "execution_count": 10,
   "metadata": {},
   "outputs": [
    {
     "name": "stdout",
     "output_type": "stream",
     "text": [
      "(93938, 24650)\n",
      "(23485, 24650)\n",
      "CPU times: user 5 µs, sys: 1 µs, total: 6 µs\n",
      "Wall time: 12.4 µs\n"
     ]
    },
    {
     "name": "stderr",
     "output_type": "stream",
     "text": [
      "/home/justin/mscproject/app/lib/python3.6/site-packages/sklearn/metrics/classification.py:1143: UndefinedMetricWarning: Precision and F-score are ill-defined and being set to 0.0 in labels with no predicted samples.\n",
      "  'precision', 'predicted', average, warn_for)\n",
      "/home/justin/mscproject/app/lib/python3.6/site-packages/sklearn/metrics/classification.py:1143: UndefinedMetricWarning: F-score is ill-defined and being set to 0.0 in labels with no predicted samples.\n",
      "  'precision', 'predicted', average, warn_for)\n"
     ]
    },
    {
     "name": "stdout",
     "output_type": "stream",
     "text": [
      "(51598, 18897)\n",
      "(12911, 18897)\n",
      "CPU times: user 4 µs, sys: 0 ns, total: 4 µs\n",
      "Wall time: 8.34 µs\n"
     ]
    },
    {
     "name": "stderr",
     "output_type": "stream",
     "text": [
      "/home/justin/mscproject/app/lib/python3.6/site-packages/sklearn/metrics/classification.py:1143: UndefinedMetricWarning: Precision and F-score are ill-defined and being set to 0.0 in labels with no predicted samples.\n",
      "  'precision', 'predicted', average, warn_for)\n",
      "/home/justin/mscproject/app/lib/python3.6/site-packages/sklearn/metrics/classification.py:1143: UndefinedMetricWarning: F-score is ill-defined and being set to 0.0 in labels with no predicted samples.\n",
      "  'precision', 'predicted', average, warn_for)\n"
     ]
    },
    {
     "name": "stdout",
     "output_type": "stream",
     "text": [
      "(33756, 15646)\n",
      "(8436, 15646)\n",
      "CPU times: user 4 µs, sys: 1 µs, total: 5 µs\n",
      "Wall time: 8.11 µs\n"
     ]
    },
    {
     "name": "stderr",
     "output_type": "stream",
     "text": [
      "/home/justin/mscproject/app/lib/python3.6/site-packages/sklearn/metrics/classification.py:1143: UndefinedMetricWarning: Precision and F-score are ill-defined and being set to 0.0 in labels with no predicted samples.\n",
      "  'precision', 'predicted', average, warn_for)\n",
      "/home/justin/mscproject/app/lib/python3.6/site-packages/sklearn/metrics/classification.py:1143: UndefinedMetricWarning: F-score is ill-defined and being set to 0.0 in labels with no predicted samples.\n",
      "  'precision', 'predicted', average, warn_for)\n"
     ]
    },
    {
     "name": "stdout",
     "output_type": "stream",
     "text": [
      "(23013, 12335)\n",
      "(5772, 12335)\n",
      "CPU times: user 3 µs, sys: 0 ns, total: 3 µs\n",
      "Wall time: 8.82 µs\n",
      "(15216, 10446)\n",
      "(3871, 10446)\n",
      "CPU times: user 4 µs, sys: 0 ns, total: 4 µs\n",
      "Wall time: 8.58 µs\n",
      "(9764, 8379)\n",
      "(2490, 8379)\n",
      "CPU times: user 4 µs, sys: 0 ns, total: 4 µs\n",
      "Wall time: 7.15 µs\n"
     ]
    }
   ],
   "source": [
    "CNBCscores = []\n",
    "CNBCreports = []\n",
    "CNBCmacro = []\n",
    "count = 0\n",
    "for ele in zip(dfTrain,dfTest):\n",
    "    model = MachineLearningModel(ele[0],ele[1])\n",
    "    score,report,macro = model.CNBC(count)\n",
    "    CNBCscores.append(score)\n",
    "    CNBCreports.append(report)\n",
    "    CNBCmacro.append(macro)\n",
    "    count = count +1"
   ]
  },
  {
   "cell_type": "code",
   "execution_count": 11,
   "metadata": {},
   "outputs": [
    {
     "name": "stdout",
     "output_type": "stream",
     "text": [
      "(93938, 24650)\n",
      "(23485, 24650)\n",
      "CPU times: user 4 µs, sys: 1 µs, total: 5 µs\n",
      "Wall time: 9.54 µs\n"
     ]
    },
    {
     "name": "stderr",
     "output_type": "stream",
     "text": [
      "/home/justin/mscproject/app/lib/python3.6/site-packages/sklearn/metrics/classification.py:1143: UndefinedMetricWarning: Precision and F-score are ill-defined and being set to 0.0 in labels with no predicted samples.\n",
      "  'precision', 'predicted', average, warn_for)\n",
      "/home/justin/mscproject/app/lib/python3.6/site-packages/sklearn/metrics/classification.py:1143: UndefinedMetricWarning: F-score is ill-defined and being set to 0.0 in labels with no predicted samples.\n",
      "  'precision', 'predicted', average, warn_for)\n"
     ]
    },
    {
     "name": "stdout",
     "output_type": "stream",
     "text": [
      "(51598, 18897)\n",
      "(12911, 18897)\n",
      "CPU times: user 4 µs, sys: 0 ns, total: 4 µs\n",
      "Wall time: 8.34 µs\n"
     ]
    },
    {
     "name": "stderr",
     "output_type": "stream",
     "text": [
      "/home/justin/mscproject/app/lib/python3.6/site-packages/sklearn/metrics/classification.py:1143: UndefinedMetricWarning: Precision and F-score are ill-defined and being set to 0.0 in labels with no predicted samples.\n",
      "  'precision', 'predicted', average, warn_for)\n",
      "/home/justin/mscproject/app/lib/python3.6/site-packages/sklearn/metrics/classification.py:1143: UndefinedMetricWarning: F-score is ill-defined and being set to 0.0 in labels with no predicted samples.\n",
      "  'precision', 'predicted', average, warn_for)\n"
     ]
    },
    {
     "name": "stdout",
     "output_type": "stream",
     "text": [
      "(33756, 15646)\n",
      "(8436, 15646)\n",
      "CPU times: user 59 µs, sys: 7 µs, total: 66 µs\n",
      "Wall time: 12.9 µs\n"
     ]
    },
    {
     "name": "stderr",
     "output_type": "stream",
     "text": [
      "/home/justin/mscproject/app/lib/python3.6/site-packages/sklearn/metrics/classification.py:1143: UndefinedMetricWarning: Precision and F-score are ill-defined and being set to 0.0 in labels with no predicted samples.\n",
      "  'precision', 'predicted', average, warn_for)\n",
      "/home/justin/mscproject/app/lib/python3.6/site-packages/sklearn/metrics/classification.py:1143: UndefinedMetricWarning: F-score is ill-defined and being set to 0.0 in labels with no predicted samples.\n",
      "  'precision', 'predicted', average, warn_for)\n"
     ]
    },
    {
     "name": "stdout",
     "output_type": "stream",
     "text": [
      "(23013, 12335)\n",
      "(5772, 12335)\n",
      "CPU times: user 5 µs, sys: 0 ns, total: 5 µs\n",
      "Wall time: 9.3 µs\n",
      "(15216, 10446)\n",
      "(3871, 10446)\n",
      "CPU times: user 5 µs, sys: 0 ns, total: 5 µs\n",
      "Wall time: 8.82 µs\n",
      "(9764, 8379)\n",
      "(2490, 8379)\n",
      "CPU times: user 4 µs, sys: 0 ns, total: 4 µs\n",
      "Wall time: 7.87 µs\n"
     ]
    }
   ],
   "source": [
    "MNBCscores = []\n",
    "MNBCreports = []\n",
    "MNBCmacro = []\n",
    "count = 0\n",
    "for ele in zip(dfTrain,dfTest):\n",
    "    model = MachineLearningModel(ele[0],ele[1])\n",
    "    score,report,macro = model.MNBC(count)\n",
    "    MNBCscores.append(score)\n",
    "    MNBCreports.append(report)\n",
    "    MNBCmacro.append(macro)\n",
    "    count = count+1"
   ]
  },
  {
   "cell_type": "code",
   "execution_count": 12,
   "metadata": {},
   "outputs": [
    {
     "name": "stdout",
     "output_type": "stream",
     "text": [
      "(93938, 24650)\n",
      "(23485, 24650)\n"
     ]
    },
    {
     "name": "stderr",
     "output_type": "stream",
     "text": [
      "/home/justin/mscproject/app/lib/python3.6/site-packages/sklearn/svm/base.py:931: ConvergenceWarning: Liblinear failed to converge, increase the number of iterations.\n",
      "  \"the number of iterations.\", ConvergenceWarning)\n"
     ]
    },
    {
     "name": "stdout",
     "output_type": "stream",
     "text": [
      "CPU times: user 5 µs, sys: 0 ns, total: 5 µs\n",
      "Wall time: 10.5 µs\n",
      "(51598, 18897)\n",
      "(12911, 18897)\n"
     ]
    },
    {
     "name": "stderr",
     "output_type": "stream",
     "text": [
      "/home/justin/mscproject/app/lib/python3.6/site-packages/sklearn/svm/base.py:931: ConvergenceWarning: Liblinear failed to converge, increase the number of iterations.\n",
      "  \"the number of iterations.\", ConvergenceWarning)\n"
     ]
    },
    {
     "name": "stdout",
     "output_type": "stream",
     "text": [
      "CPU times: user 3 µs, sys: 0 ns, total: 3 µs\n",
      "Wall time: 7.63 µs\n",
      "(33756, 15646)\n",
      "(8436, 15646)\n",
      "CPU times: user 4 µs, sys: 0 ns, total: 4 µs\n",
      "Wall time: 8.11 µs\n",
      "(23013, 12335)\n",
      "(5772, 12335)\n",
      "CPU times: user 4 µs, sys: 1 µs, total: 5 µs\n",
      "Wall time: 8.11 µs\n",
      "(15216, 10446)\n",
      "(3871, 10446)\n",
      "CPU times: user 4 µs, sys: 0 ns, total: 4 µs\n",
      "Wall time: 8.58 µs\n",
      "(9764, 8379)\n",
      "(2490, 8379)\n",
      "CPU times: user 4 µs, sys: 1 µs, total: 5 µs\n",
      "Wall time: 8.11 µs\n"
     ]
    }
   ],
   "source": [
    "OvRSVCscores = []\n",
    "OvRSVCreports = []\n",
    "OvRSVCmacro = []\n",
    "count = 0\n",
    "\n",
    "for ele in zip(dfTrain,dfTest):\n",
    "    model = MachineLearningModel(ele[0],ele[1])\n",
    "    score,report,macro = model.OvRSVM(count)\n",
    "    OvRSVCscores.append(score)\n",
    "    OvRSVCreports.append(report)\n",
    "    OvRSVCmacro.append(macro)\n",
    "    count = count+1"
   ]
  },
  {
   "cell_type": "code",
   "execution_count": 13,
   "metadata": {},
   "outputs": [
    {
     "name": "stdout",
     "output_type": "stream",
     "text": [
      "(93938, 24650)\n",
      "(23485, 24650)\n",
      "CPU times: user 5 µs, sys: 0 ns, total: 5 µs\n",
      "Wall time: 9.3 µs\n"
     ]
    },
    {
     "name": "stderr",
     "output_type": "stream",
     "text": [
      "/home/justin/mscproject/app/lib/python3.6/site-packages/sklearn/metrics/classification.py:1143: UndefinedMetricWarning: Precision and F-score are ill-defined and being set to 0.0 in labels with no predicted samples.\n",
      "  'precision', 'predicted', average, warn_for)\n",
      "/home/justin/mscproject/app/lib/python3.6/site-packages/sklearn/metrics/classification.py:1143: UndefinedMetricWarning: F-score is ill-defined and being set to 0.0 in labels with no predicted samples.\n",
      "  'precision', 'predicted', average, warn_for)\n"
     ]
    },
    {
     "name": "stdout",
     "output_type": "stream",
     "text": [
      "(51598, 18897)\n",
      "(12911, 18897)\n",
      "CPU times: user 3 µs, sys: 0 ns, total: 3 µs\n",
      "Wall time: 7.87 µs\n",
      "(33756, 15646)\n",
      "(8436, 15646)\n",
      "CPU times: user 5 µs, sys: 0 ns, total: 5 µs\n",
      "Wall time: 8.82 µs\n",
      "(23013, 12335)\n",
      "(5772, 12335)\n",
      "CPU times: user 4 µs, sys: 0 ns, total: 4 µs\n",
      "Wall time: 8.11 µs\n",
      "(15216, 10446)\n",
      "(3871, 10446)\n",
      "CPU times: user 4 µs, sys: 0 ns, total: 4 µs\n",
      "Wall time: 8.11 µs\n",
      "(9764, 8379)\n",
      "(2490, 8379)\n",
      "CPU times: user 4 µs, sys: 0 ns, total: 4 µs\n",
      "Wall time: 8.34 µs\n"
     ]
    }
   ],
   "source": [
    "OVOSVCscores = []\n",
    "OVOSVCreports = []\n",
    "OvOSVCmacro = []\n",
    "\n",
    "count = 0\n",
    "\n",
    "for ele in zip(dfTrain,dfTest):\n",
    "    model = MachineLearningModel(ele[0],ele[1])\n",
    "    score,report,macro = model.OvOSVM(count)\n",
    "    OVOSVCscores.append(score)\n",
    "    OVOSVCreports.append(report)\n",
    "    OvOSVCmacro.append(macro)\n",
    "    count = count +1"
   ]
  },
  {
   "cell_type": "code",
   "execution_count": 14,
   "metadata": {},
   "outputs": [
    {
     "data": {
      "image/png": "[encoded data removed]",
      "text/plain": [
       "<Figure size 432x288 with 1 Axes>"
      ]
     },
     "metadata": {
      "needs_background": "light"
     },
     "output_type": "display_data"
    }
   ],
   "source": [
    "plotDifferentNumFeatureInfluence(OuputClassNum,MNBCscores,CNBCscores,OvRSVCscores, OVOSVCscores)"
   ]
  },
  {
   "cell_type": "code",
   "execution_count": 16,
   "metadata": {},
   "outputs": [
    {
     "data": {
      "image/png": "[encoded data removed]",
      "text/plain": [
       "<Figure size 432x288 with 1 Axes>"
      ]
     },
     "metadata": {
      "needs_background": "light"
     },
     "output_type": "display_data"
    }
   ],
   "source": [
    "plotDifferentNumFeatureInfluenceMacro(OuputClassNum,MNBCmacro,CNBCmacro ,OvRSVCmacro, OvOSVCmacro)"
   ]
  },
  {
   "cell_type": "code",
   "execution_count": 32,
   "metadata": {},
   "outputs": [],
   "source": [
    "for ele in MNBCreports:\n",
    "    num = OuputClassNum[MNBCreports.index(ele)]\n",
    "    fileName = str(num)+'class_MNBC_Report.txt'\n",
    "    with open(fileName, 'w') as file:\n",
    "        file.write(ele)"
   ]
  },
  {
   "cell_type": "code",
   "execution_count": 33,
   "metadata": {},
   "outputs": [],
   "source": [
    "for ele in CNBCreports:\n",
    "    num = OuputClassNum[CNBCreports.index(ele)]\n",
    "    fileName = str(num)+'class_CNBC_Report.txt'\n",
    "    with open(fileName, 'w') as file:\n",
    "        file.write(ele)"
   ]
  },
  {
   "cell_type": "code",
   "execution_count": 34,
   "metadata": {},
   "outputs": [],
   "source": [
    "for ele in OvRSVCreports:\n",
    "    num = OuputClassNum[OvRSVCreports.index(ele)]\n",
    "    fileName = str(num)+'class_OvRSVC_Report.txt'\n",
    "    with open(fileName, 'w') as file:\n",
    "        file.write(ele)"
   ]
  },
  {
   "cell_type": "code",
   "execution_count": 35,
   "metadata": {},
   "outputs": [],
   "source": [
    "for ele in OVOSVCreports:\n",
    "    num = OuputClassNum[OVOSVCreports.index(ele)]\n",
    "    fileName = str(num)+'class_OvOSVC_Report.txt'\n",
    "    with open(fileName, 'w') as file:\n",
    "        file.write(ele)"
   ]
  },
  {
   "cell_type": "code",
   "execution_count": null,
   "metadata": {},
   "outputs": [],
   "source": []
  }
 ],
 "metadata": {
  "kernelspec": {
   "display_name": "Python 3",
   "language": "python",
   "name": "python3"
  },
  "language_info": {
   "codemirror_mode": {
    "name": "ipython",
    "version": 3
   },
   "file_extension": ".py",
   "mimetype": "text/x-python",
   "name": "python",
   "nbconvert_exporter": "python",
   "pygments_lexer": "ipython3",
   "version": "3.6.8"
  }
 },
 "nbformat": 4,
 "nbformat_minor": 2
}
