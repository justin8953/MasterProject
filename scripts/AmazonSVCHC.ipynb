{
 "cells": [
  {
   "cell_type": "code",
   "execution_count": 1,
   "metadata": {},
   "outputs": [],
   "source": [
    "import pandas as pd \n",
    "import numpy as np\n",
    "import os \n",
    "import json\n",
    "from math import ceil, floor\n",
    "\n",
    "from sklearn.model_selection import train_test_split\n",
    "from sklearn.feature_selection import SelectKBest,chi2\n",
    "\n",
    "from sklearn.preprocessing import LabelEncoder,scale\n",
    "from sklearn.feature_extraction.text import TfidfVectorizer  \n",
    "from sklearn.naive_bayes import ComplementNB\n",
    "from sklearn.svm import LinearSVC\n",
    "from sklearn.metrics import classification_report,confusion_matrix,accuracy_score\n",
    "from sklearn.utils.multiclass import unique_labels\n",
    "\n",
    "from sklearn.pipeline import Pipeline\n",
    "from sklearn.externals import joblib\n",
    "\n",
    "import matplotlib.pyplot as plt\n",
    "plt.rcParams.update({'font.size': 11})\n",
    "\n",
    "import re\n",
    "from nltk.stem import WordNetLemmatizer\n",
    "from nltk.corpus import stopwords\n",
    "\n",
    "\n"
   ]
  },
  {
   "cell_type": "code",
   "execution_count": 2,
   "metadata": {},
   "outputs": [],
   "source": [
    "REPLACE_BY_SPACE_RE = re.compile('[/(){}\\[\\]\\|@,;-]')\n",
    "BAD_SYMBOLS_RE = re.compile('[^0-9a-z #+_]')\n",
    "STOPWORDS = set(stopwords.words('english'))\n",
    "Number_RE = re.compile('[*^0-9]')\n",
    "Bad_underline = re.compile('[*_*]')\n",
    "RemoveTag = re.compile('&lt;|br&gt;|b&gt;|ul&gt;|li&gt;')\n",
    "\n",
    "\n",
    "def clean_text(text):\n",
    "    \"\"\"\n",
    "        text: a string\n",
    "        \n",
    "        return: modified initial string\n",
    "    \"\"\"\n",
    "    text = text.lower() # lowercase text\n",
    "    text = RemoveTag.sub('',text)\n",
    "    text = REPLACE_BY_SPACE_RE.sub(' ', text) # replace REPLACE_BY_SPACE_RE symbols by space in text\n",
    "    text = Number_RE.sub(' ', text) # replace Number symbols by space in text\n",
    "    text = Bad_underline.sub(' ', text) # replace Underline symbols by space in text\n",
    "    text = BAD_SYMBOLS_RE.sub('', text) # delete symbols which are in BAD_SYMBOLS_RE from text\n",
    "    text = ' '.join(word for word in text.split() if word not in STOPWORDS) # delete stopwors from text\n",
    "\n",
    "    return text\n",
    "RemoveLastSpace = re.compile(' $')\n",
    "\n",
    "def clean_text_category(text):\n",
    "    text = RemoveLastSpace.sub('',text)\n",
    "    return text\n",
    "    "
   ]
  },
  {
   "cell_type": "code",
   "execution_count": 3,
   "metadata": {},
   "outputs": [],
   "source": [
    "def classNumberThreshold(arr):\n",
    "    dropCategory = []\n",
    "\n",
    "    for key,value in arr.items():\n",
    "        if(value<=30):\n",
    "            dropCategory.append(key)\n",
    "    return dropCategory"
   ]
  },
  {
   "cell_type": "code",
   "execution_count": 4,
   "metadata": {},
   "outputs": [],
   "source": [
    "df = pd.read_csv('../example/amazon_co-ecommerce_sample.csv')"
   ]
  },
  {
   "cell_type": "code",
   "execution_count": 5,
   "metadata": {},
   "outputs": [],
   "source": [
    "df = df[pd.notnull(df['amazon_category_and_sub_category'])]\n",
    "df = df[pd.notnull(df['description'])]\n",
    "df = df[pd.notnull(df['uniq_id'])]\n",
    "category = []\n",
    "subcategory = []\n",
    "sub2category = []\n",
    "for ele in df['amazon_category_and_sub_category'].apply(lambda x: str(x).split('>')):\n",
    "    category.append(ele[0])\n",
    "    if(len(ele)>2):\n",
    "        subcategory.append(ele[1])\n",
    "        sub2category.append(ele[2])\n",
    "    elif(len(ele)>1):\n",
    "        subcategory.append(ele[1])\n",
    "        sub2category.append(np.NaN)\n",
    "    else:\n",
    "        subcategory.append(np.NaN)\n",
    "        sub2category.append(np.NaN)\n",
    "\n",
    "data= {'uniq_id':df['uniq_id'], 'product_name':df['product_name'],'category_main':category,'category_sub1':subcategory,'description':df['description']}\n",
    "df = pd.DataFrame(data)\n",
    "df['description'] = df['description'].apply(clean_text)\n",
    "df.category_main = df['category_main'].apply(clean_text_category)\n",
    "df.category_sub1 = df['category_sub1'].apply(clean_text_category)\n",
    "\n",
    "df = df[pd.notnull(df['category_main'])]\n",
    "df = df[pd.notnull(df['category_sub1'])]\n"
   ]
  },
  {
   "cell_type": "code",
   "execution_count": 6,
   "metadata": {},
   "outputs": [],
   "source": [
    "dropCategoryCode  = classNumberThreshold(df.category_main.value_counts())\n",
    "dropSubCategoryCode  = classNumberThreshold(df.category_sub1.value_counts())\n",
    "\n",
    "for i in dropCategoryCode:\n",
    "    df = df[df.category_main!=i]\n",
    "    \n",
    "for i in dropSubCategoryCode:\n",
    "    df = df[df.category_sub1!=i]\n",
    "\n"
   ]
  },
  {
   "cell_type": "code",
   "execution_count": 7,
   "metadata": {},
   "outputs": [
    {
     "name": "stdout",
     "output_type": "stream",
     "text": [
      "<class 'pandas.core.frame.DataFrame'>\n",
      "Int64Index: 8189 entries, 0 to 9998\n",
      "Data columns (total 5 columns):\n",
      "uniq_id          8189 non-null object\n",
      "product_name     8189 non-null object\n",
      "category_main    8189 non-null object\n",
      "category_sub1    8189 non-null object\n",
      "description      8189 non-null object\n",
      "dtypes: object(5)\n",
      "memory usage: 383.9+ KB\n"
     ]
    }
   ],
   "source": [
    "df.info()"
   ]
  },
  {
   "cell_type": "code",
   "execution_count": 8,
   "metadata": {},
   "outputs": [],
   "source": [
    "df = df.reset_index(drop=True)"
   ]
  },
  {
   "cell_type": "code",
   "execution_count": 9,
   "metadata": {},
   "outputs": [],
   "source": [
    "le = LabelEncoder()\n",
    "le.fit(df.category_main)\n",
    "target = le.classes_\n",
    "labels = le.transform(df['category_main'])\n",
    "\n",
    "le.fit(df.category_sub1)\n",
    "subtarget = le.classes_\n",
    "sublabels = le.transform(df['category_sub1'])"
   ]
  },
  {
   "cell_type": "code",
   "execution_count": 10,
   "metadata": {},
   "outputs": [],
   "source": [
    "tfidfconverter = TfidfVectorizer(min_df=5, max_df=0.7)\n",
    "X = tfidfconverter.fit_transform(df.description)\n",
    "featureNames = tfidfconverter.get_feature_names()"
   ]
  },
  {
   "cell_type": "code",
   "execution_count": 11,
   "metadata": {},
   "outputs": [],
   "source": [
    "Datalist = pd.DataFrame({'label':labels,'sublabel':sublabels})"
   ]
  },
  {
   "cell_type": "code",
   "execution_count": 12,
   "metadata": {},
   "outputs": [],
   "source": [
    "X_train, X_test, y_train_info, y_test_info = train_test_split(X,Datalist , \n",
    "                                                    test_size=0.1, random_state = 27)"
   ]
  },
  {
   "cell_type": "code",
   "execution_count": 13,
   "metadata": {},
   "outputs": [],
   "source": [
    "yst_train = y_train_info.label\n",
    "yst_test = y_test_info.label\n",
    "ynd_train = y_train_info.sublabel\n",
    "ynd_test = y_test_info.sublabel\n"
   ]
  },
  {
   "cell_type": "code",
   "execution_count": 14,
   "metadata": {
    "scrolled": true
   },
   "outputs": [
    {
     "name": "stdout",
     "output_type": "stream",
     "text": [
      "--- Best 100 features \n",
      "\n",
      "--- Best 200 features \n",
      "\n",
      "--- Best 300 features \n",
      "\n",
      "--- Best 400 features \n",
      "\n",
      "--- Best 500 features \n",
      "\n",
      "--- Best 600 features \n",
      "\n",
      "--- Best 700 features \n",
      "\n",
      "--- Best 800 features \n",
      "\n",
      "--- Best 900 features \n",
      "\n",
      "--- Best 1000 features \n",
      "\n",
      "--- Best 1100 features \n",
      "\n",
      "--- Best 1200 features \n",
      "\n",
      "--- Best 1300 features \n",
      "\n",
      "--- Best 1400 features \n",
      "\n",
      "--- Best 1500 features \n",
      "\n",
      "--- Best 1600 features \n",
      "\n",
      "--- Best 1700 features \n",
      "\n",
      "--- Best 1800 features \n",
      "\n",
      "--- Best 1900 features \n",
      "\n",
      "--- Best 2000 features \n",
      "\n",
      "--- Best 2100 features \n",
      "\n",
      "--- Best 2200 features \n",
      "\n",
      "--- Best 2300 features \n",
      "\n",
      "--- Best 2400 features \n",
      "\n",
      "--- Best 2500 features \n",
      "\n",
      "--- Best 2600 features \n",
      "\n",
      "--- Best 2700 features \n",
      "\n",
      "--- Best 2800 features \n",
      "\n",
      "--- Best 2900 features \n",
      "\n",
      "--- Best 3000 features \n",
      "\n",
      "--- Best 3100 features \n",
      "\n",
      "--- Best 3200 features \n",
      "\n",
      "--- Best 3300 features \n",
      "\n",
      "--- Best 3400 features \n",
      "\n",
      "--- Best 3500 features \n",
      "\n",
      "--- Best 3600 features \n",
      "\n",
      "--- Best 3700 features \n",
      "\n",
      "--- Best 3800 features \n",
      "\n",
      "--- Best 3900 features \n",
      "\n",
      "--- Best 4000 features \n",
      "\n",
      "--- Best 4100 features \n",
      "\n",
      "--- Best 4200 features \n",
      "\n",
      "--- Best 4300 features \n",
      "\n",
      "--- Best 4400 features \n",
      "\n",
      "--- Best 4500 features \n",
      "\n",
      "--- Best 4600 features \n",
      "\n",
      "--- Best 4700 features \n",
      "\n",
      "--- Best 4800 features \n",
      "\n",
      "--- Best 4900 features \n",
      "\n",
      "--- Best 5000 features \n",
      "\n",
      "--- Best 5100 features \n",
      "\n",
      "--- Best 5200 features \n",
      "\n",
      "--- Best 5300 features \n",
      "\n",
      "--- Best 5400 features \n",
      "\n",
      "--- Best 5500 features \n",
      "\n",
      "--- Best 5600 features \n",
      "\n",
      "--- Best 5700 features \n",
      "\n",
      "--- Best 5800 features \n",
      "\n",
      "--- Best 5900 features \n",
      "\n",
      "--- Best 6000 features \n",
      "\n",
      "--- Best 6100 features \n",
      "\n",
      "--- Best 6200 features \n",
      "\n",
      "--- Best 6300 features \n",
      "\n",
      "--- Best 6400 features \n",
      "\n",
      "--- Best 6500 features \n",
      "\n",
      "--- Best 6600 features \n",
      "\n",
      "--- Best 6700 features \n",
      "\n"
     ]
    },
    {
     "ename": "FileNotFoundError",
     "evalue": "[Errno 2] No such file or directory: 'AmazonHC/5500BestLinearSVC.sav'",
     "output_type": "error",
     "traceback": [
      "\u001b[0;31m---------------------------------------------------------------------------\u001b[0m",
      "\u001b[0;31mFileNotFoundError\u001b[0m                         Traceback (most recent call last)",
      "\u001b[0;32m<ipython-input-14-4bcef6dda9a7>\u001b[0m in \u001b[0;36m<module>\u001b[0;34m\u001b[0m\n\u001b[1;32m     18\u001b[0m \u001b[0;31m# save the model to disk\u001b[0m\u001b[0;34m\u001b[0m\u001b[0;34m\u001b[0m\u001b[0;34m\u001b[0m\u001b[0m\n\u001b[1;32m     19\u001b[0m \u001b[0mfilename\u001b[0m \u001b[0;34m=\u001b[0m \u001b[0;34m'AmazonHC/'\u001b[0m\u001b[0;34m+\u001b[0m\u001b[0mstr\u001b[0m\u001b[0;34m(\u001b[0m\u001b[0mbestSize\u001b[0m\u001b[0;34m)\u001b[0m\u001b[0;34m+\u001b[0m\u001b[0;34m'BestLinearSVC.sav'\u001b[0m\u001b[0;34m\u001b[0m\u001b[0;34m\u001b[0m\u001b[0m\n\u001b[0;32m---> 20\u001b[0;31m \u001b[0mjoblib\u001b[0m\u001b[0;34m.\u001b[0m\u001b[0mdump\u001b[0m\u001b[0;34m(\u001b[0m\u001b[0mbestModel\u001b[0m\u001b[0;34m,\u001b[0m \u001b[0mfilename\u001b[0m\u001b[0;34m)\u001b[0m\u001b[0;34m\u001b[0m\u001b[0;34m\u001b[0m\u001b[0m\n\u001b[0m\u001b[1;32m     21\u001b[0m \u001b[0;34m\u001b[0m\u001b[0m\n\u001b[1;32m     22\u001b[0m \u001b[0;34m\u001b[0m\u001b[0m\n",
      "\u001b[0;32m~/mscproject/app/lib/python3.6/site-packages/sklearn/externals/joblib/numpy_pickle.py\u001b[0m in \u001b[0;36mdump\u001b[0;34m(value, filename, compress, protocol, cache_size)\u001b[0m\n\u001b[1;32m    499\u001b[0m             \u001b[0mNumpyPickler\u001b[0m\u001b[0;34m(\u001b[0m\u001b[0mf\u001b[0m\u001b[0;34m,\u001b[0m \u001b[0mprotocol\u001b[0m\u001b[0;34m=\u001b[0m\u001b[0mprotocol\u001b[0m\u001b[0;34m)\u001b[0m\u001b[0;34m.\u001b[0m\u001b[0mdump\u001b[0m\u001b[0;34m(\u001b[0m\u001b[0mvalue\u001b[0m\u001b[0;34m)\u001b[0m\u001b[0;34m\u001b[0m\u001b[0;34m\u001b[0m\u001b[0m\n\u001b[1;32m    500\u001b[0m     \u001b[0;32melif\u001b[0m \u001b[0mis_filename\u001b[0m\u001b[0;34m:\u001b[0m\u001b[0;34m\u001b[0m\u001b[0;34m\u001b[0m\u001b[0m\n\u001b[0;32m--> 501\u001b[0;31m         \u001b[0;32mwith\u001b[0m \u001b[0mopen\u001b[0m\u001b[0;34m(\u001b[0m\u001b[0mfilename\u001b[0m\u001b[0;34m,\u001b[0m \u001b[0;34m'wb'\u001b[0m\u001b[0;34m)\u001b[0m \u001b[0;32mas\u001b[0m \u001b[0mf\u001b[0m\u001b[0;34m:\u001b[0m\u001b[0;34m\u001b[0m\u001b[0;34m\u001b[0m\u001b[0m\n\u001b[0m\u001b[1;32m    502\u001b[0m             \u001b[0mNumpyPickler\u001b[0m\u001b[0;34m(\u001b[0m\u001b[0mf\u001b[0m\u001b[0;34m,\u001b[0m \u001b[0mprotocol\u001b[0m\u001b[0;34m=\u001b[0m\u001b[0mprotocol\u001b[0m\u001b[0;34m)\u001b[0m\u001b[0;34m.\u001b[0m\u001b[0mdump\u001b[0m\u001b[0;34m(\u001b[0m\u001b[0mvalue\u001b[0m\u001b[0;34m)\u001b[0m\u001b[0;34m\u001b[0m\u001b[0;34m\u001b[0m\u001b[0m\n\u001b[1;32m    503\u001b[0m     \u001b[0;32melse\u001b[0m\u001b[0;34m:\u001b[0m\u001b[0;34m\u001b[0m\u001b[0;34m\u001b[0m\u001b[0m\n",
      "\u001b[0;31mFileNotFoundError\u001b[0m: [Errno 2] No such file or directory: 'AmazonHC/5500BestLinearSVC.sav'"
     ]
    }
   ],
   "source": [
    "BestSize  = [ele for ele in range(100, len(featureNames), 100) ]\n",
    "Models = []\n",
    "Scores = []\n",
    "SelectModels  = []\n",
    "for ele in range(100, len(featureNames), 100):\n",
    "    print(\"--- Best \"+ str(ele) + \" features \\n\")\n",
    "    selectBest = SelectKBest(chi2, k= ele)\n",
    "    model = LinearSVC(random_state=42,class_weight=\"balanced\")\n",
    "    K_best_linearsvc = Pipeline([('SelectBest', selectBest), ('linearSVC', model)])\n",
    "    K_best_linearsvc.fit(X_train,yst_train)\n",
    "    score = K_best_linearsvc.score(X_test,yst_test)\n",
    "    Models.append(K_best_linearsvc)\n",
    "    Scores.append(score)\n",
    "\n",
    "bestModel = Models[np.argmax(Scores)]\n",
    "bestSize = BestSize[np.argmax(Scores)]"
   ]
  },
  {
   "cell_type": "code",
   "execution_count": 15,
   "metadata": {},
   "outputs": [],
   "source": [
    "\n",
    "# save the model to disk\n",
    "filename = 'AmazonHC/'+str(bestSize)+'BestLinearSVC.sav'\n",
    "joblib.dump(bestModel, filename)\n",
    "\n",
    "\n",
    "\n",
    "ystConfidence = bestModel.decision_function(X_test)\n",
    "\n",
    "ystPred = bestModel.predict(X_test)\n"
   ]
  },
  {
   "cell_type": "code",
   "execution_count": 16,
   "metadata": {},
   "outputs": [],
   "source": [
    "for ele in np.unique(yst_train):\n",
    "    sublist = y_train_info[y_train_info['label']==ele]\n",
    "    Xarr = X.toarray()\n",
    "    subfeatures = [Xarr[index] for index in sublist.index]\n",
    "    sublabel = sublist['sublabel']\n",
    "    numofSublabel  = len(np.unique(sublabel))\n",
    "    if (numofSublabel>1): \n",
    "        selectBestsub = SelectKBest(chi2, k= bestSize)\n",
    "        submodel = LinearSVC(random_state=42,class_weight=\"balanced\")\n",
    "        K_best_sublinearsvc = Pipeline([('SelectBest', selectBestsub), ('linearSVC', submodel)])\n",
    "        K_best_sublinearsvc.fit(subfeatures,sublabel)\n",
    "    else:\n",
    "        K_best_sublinearsvc = np.unique(sublabel)[0]\n",
    "    subfilename = 'AmazonHC/'+str(ele)+'.sav'\n",
    "    joblib.dump(K_best_sublinearsvc, subfilename)\n",
    "    "
   ]
  },
  {
   "cell_type": "code",
   "execution_count": 17,
   "metadata": {},
   "outputs": [
    {
     "data": {
      "text/plain": [
       "['AmazonHC/flat.sav']"
      ]
     },
     "execution_count": 17,
     "metadata": {},
     "output_type": "execute_result"
    }
   ],
   "source": [
    "selectBestsub = SelectKBest(chi2, k= bestSize)\n",
    "flatmodel = LinearSVC(random_state=42,class_weight=\"balanced\")\n",
    "K_best_flat = Pipeline([('SelectBest', selectBestsub), ('linearSVC', flatmodel)])\n",
    "K_best_flat.fit(X_train,ynd_train)\n",
    "filename = 'AmazonHC/'+'flat.sav'\n",
    "joblib.dump(K_best_flat, filename)"
   ]
  },
  {
   "cell_type": "code",
   "execution_count": 18,
   "metadata": {},
   "outputs": [],
   "source": [
    "totalConfidenceSize = ystConfidence.shape[0]*ystConfidence.shape[1]\n",
    "Confidence1DArr = ystConfidence.reshape(totalConfidenceSize,1)\n",
    "Max = ceil(max(Confidence1DArr)[0])\n",
    "Min = floor(min(Confidence1DArr)[0])\n",
    "NormalisedConfid = [round((max(ele)-Min)/(Max-Min),2) for ele in ystConfidence]\n",
    "productID = [ df[df.index==ele]['uniq_id'].values[0] for ele in y_test_info.index ]\n",
    "ProductDescription =[ df[df.index==ele]['description'].values[0] for ele in y_test_info.index ]\n",
    "LinearSVCResult = pd.DataFrame({'index':y_test_info.index,'id':productID,'description':ProductDescription,\n",
    "                         'trueClass': yst_test,'trueClassNaem':target[yst_test] ,\n",
    "                         'predictClass':ystPred,'predictClassName':target[ystPred],'sublabel':y_test_info['sublabel'],\n",
    "                         'Confidence':NormalisedConfid})"
   ]
  },
  {
   "cell_type": "code",
   "execution_count": 19,
   "metadata": {},
   "outputs": [],
   "source": [
    "def draw_confidenceReport(data):\n",
    "    num = [ ele*0.01 for ele in range(20,81,2)]\n",
    "    totalitems = []\n",
    "    correct = []\n",
    "    incorrect = []\n",
    "    for ele in num:\n",
    "        Threshold = data[data.Confidence>ele]\n",
    "        correct.append(len(Threshold[Threshold['trueClass']==Threshold['predictClass']].index))\n",
    "        incorrect.append(len(Threshold[Threshold['trueClass']!=Threshold['predictClass']].index))\n",
    "        totalitems.append(len(Threshold.index))\n",
    "    \n",
    "    ClassfiedProportion = [ ele/len(data.index) for ele in totalitems]\n",
    "    \n",
    "    Acc =[]\n",
    "    for ele in zip(correct,totalitems):\n",
    "        if (ele[1]==0):\n",
    "            Acc.append(0)\n",
    "        else:\n",
    "            Acc.append(ele[0]/ele[1])\n",
    "\n",
    "    fig,ax  = plt.subplots()\n",
    "    \n",
    "    color = 'tab:blue'\n",
    "    ax.scatter(num,ClassfiedProportion,label=\"Proportion classified\",color=color)\n",
    "    ax.set_xlabel(\"Confidence Score\")\n",
    "    ax.set_ylabel(\"Proportion classified\", color=color)\n",
    "    ax.xaxis.set_ticks(np.arange(0,1.1,0.1))\n",
    "    ax.yaxis.set_ticks(np.arange(0,1.1,0.1))\n",
    "    ax.tick_params(axis='y', labelcolor=color)\n",
    "\n",
    "    color = 'tab:red'\n",
    "\n",
    "    ax2 = ax.twinx()  # instantiate a second axes that shares the same x-axis\n",
    "\n",
    "    ax2.scatter(num,Acc,label=\"Accuracy\", color=color)\n",
    "    ax2.set_ylabel(\"Accuracy\", color=color)\n",
    "    ax2.yaxis.set_ticks(np.arange(0,1.1,0.1))\n",
    "    ax2.tick_params(axis='y', labelcolor=color)\n",
    "\n",
    "    ax.grid()"
   ]
  },
  {
   "cell_type": "code",
   "execution_count": 20,
   "metadata": {},
   "outputs": [
    {
     "data": {
      "image/png": "[encoded data removed]",
      "text/plain": [
       "<Figure size 432x288 with 2 Axes>"
      ]
     },
     "metadata": {
      "needs_background": "light"
     },
     "output_type": "display_data"
    }
   ],
   "source": [
    "draw_confidenceReport(LinearSVCResult)"
   ]
  },
  {
   "cell_type": "code",
   "execution_count": 21,
   "metadata": {},
   "outputs": [],
   "source": [
    "Data_to_predict_next_level = LinearSVCResult[LinearSVCResult['Confidence']>0.45]"
   ]
  },
  {
   "cell_type": "code",
   "execution_count": 22,
   "metadata": {},
   "outputs": [
    {
     "data": {
      "text/html": [
       "<div>\n",
       "<style scoped>\n",
       "    .dataframe tbody tr th:only-of-type {\n",
       "        vertical-align: middle;\n",
       "    }\n",
       "\n",
       "    .dataframe tbody tr th {\n",
       "        vertical-align: top;\n",
       "    }\n",
       "\n",
       "    .dataframe thead th {\n",
       "        text-align: right;\n",
       "    }\n",
       "</style>\n",
       "<table border=\"1\" class=\"dataframe\">\n",
       "  <thead>\n",
       "    <tr style=\"text-align: right;\">\n",
       "      <th></th>\n",
       "      <th>index</th>\n",
       "      <th>id</th>\n",
       "      <th>description</th>\n",
       "      <th>trueClass</th>\n",
       "      <th>trueClassNaem</th>\n",
       "      <th>predictClass</th>\n",
       "      <th>predictClassName</th>\n",
       "      <th>sublabel</th>\n",
       "      <th>Confidence</th>\n",
       "    </tr>\n",
       "  </thead>\n",
       "  <tbody>\n",
       "    <tr>\n",
       "      <th>3038</th>\n",
       "      <td>3038</td>\n",
       "      <td>ae17fcd989c177becd530647483f642c</td>\n",
       "      <td>lucy locket butterfly mask pretty butterfly ma...</td>\n",
       "      <td>5</td>\n",
       "      <td>Fancy Dress</td>\n",
       "      <td>5</td>\n",
       "      <td>Fancy Dress</td>\n",
       "      <td>1</td>\n",
       "      <td>0.72</td>\n",
       "    </tr>\n",
       "    <tr>\n",
       "      <th>2980</th>\n",
       "      <td>2980</td>\n",
       "      <td>1a8272fd1aa18103da2327b19ca951c5</td>\n",
       "      <td>red gold mask stick</td>\n",
       "      <td>5</td>\n",
       "      <td>Fancy Dress</td>\n",
       "      <td>5</td>\n",
       "      <td>Fancy Dress</td>\n",
       "      <td>1</td>\n",
       "      <td>0.59</td>\n",
       "    </tr>\n",
       "    <tr>\n",
       "      <th>5695</th>\n",
       "      <td>5695</td>\n",
       "      <td>c42b22eb032251bc72df7f4c44902aa2</td>\n",
       "      <td>fan tell thing cooler one faceless soldiers em...</td>\n",
       "      <td>2</td>\n",
       "      <td>Characters &amp; Brands</td>\n",
       "      <td>2</td>\n",
       "      <td>Characters &amp; Brands</td>\n",
       "      <td>40</td>\n",
       "      <td>0.49</td>\n",
       "    </tr>\n",
       "    <tr>\n",
       "      <th>612</th>\n",
       "      <td>612</td>\n",
       "      <td>74d2f09e30529fe19645cdaa86d5a79b</td>\n",
       "      <td>let race collect die cast characters race stra...</td>\n",
       "      <td>3</td>\n",
       "      <td>Die-Cast &amp; Toy Vehicles</td>\n",
       "      <td>2</td>\n",
       "      <td>Characters &amp; Brands</td>\n",
       "      <td>43</td>\n",
       "      <td>0.61</td>\n",
       "    </tr>\n",
       "    <tr>\n",
       "      <th>7863</th>\n",
       "      <td>7863</td>\n",
       "      <td>e721747a2a536cb1827e739216a7a2bd</td>\n",
       "      <td>welcome k offer combined items postage uk comb...</td>\n",
       "      <td>0</td>\n",
       "      <td>Arts &amp; Crafts</td>\n",
       "      <td>0</td>\n",
       "      <td>Arts &amp; Crafts</td>\n",
       "      <td>8</td>\n",
       "      <td>0.66</td>\n",
       "    </tr>\n",
       "  </tbody>\n",
       "</table>\n",
       "</div>"
      ],
      "text/plain": [
       "      index                                id  \\\n",
       "3038   3038  ae17fcd989c177becd530647483f642c   \n",
       "2980   2980  1a8272fd1aa18103da2327b19ca951c5   \n",
       "5695   5695  c42b22eb032251bc72df7f4c44902aa2   \n",
       "612     612  74d2f09e30529fe19645cdaa86d5a79b   \n",
       "7863   7863  e721747a2a536cb1827e739216a7a2bd   \n",
       "\n",
       "                                            description  trueClass  \\\n",
       "3038  lucy locket butterfly mask pretty butterfly ma...          5   \n",
       "2980                                red gold mask stick          5   \n",
       "5695  fan tell thing cooler one faceless soldiers em...          2   \n",
       "612   let race collect die cast characters race stra...          3   \n",
       "7863  welcome k offer combined items postage uk comb...          0   \n",
       "\n",
       "                trueClassNaem  predictClass     predictClassName  sublabel  \\\n",
       "3038              Fancy Dress             5          Fancy Dress         1   \n",
       "2980              Fancy Dress             5          Fancy Dress         1   \n",
       "5695      Characters & Brands             2  Characters & Brands        40   \n",
       "612   Die-Cast & Toy Vehicles             2  Characters & Brands        43   \n",
       "7863            Arts & Crafts             0        Arts & Crafts         8   \n",
       "\n",
       "      Confidence  \n",
       "3038        0.72  \n",
       "2980        0.59  \n",
       "5695        0.49  \n",
       "612         0.61  \n",
       "7863        0.66  "
      ]
     },
     "execution_count": 22,
     "metadata": {},
     "output_type": "execute_result"
    }
   ],
   "source": [
    "Data_to_predict_next_level.head()"
   ]
  },
  {
   "cell_type": "code",
   "execution_count": 23,
   "metadata": {},
   "outputs": [],
   "source": [
    "Xarr = X.toarray()\n",
    "def predictNextLevel(predictParent, index):\n",
    "    filename = 'AmazonHC/'+str(predictParent)+'.sav'\n",
    "    loaded_model = joblib.load(open(filename, 'rb'))\n",
    "    if(isinstance(loaded_model,Pipeline)):\n",
    "        yndPre = loaded_model.predict([Xarr[index]])\n",
    "        return yndPre[0]\n",
    "    else:\n",
    "        return loaded_model\n"
   ]
  },
  {
   "cell_type": "code",
   "execution_count": 24,
   "metadata": {},
   "outputs": [
    {
     "name": "stdout",
     "output_type": "stream",
     "text": [
      "CPU times: user 2 µs, sys: 1 µs, total: 3 µs\n",
      "Wall time: 6.91 µs\n"
     ]
    }
   ],
   "source": [
    "%time\n",
    "ynd_Pre = [ predictNextLevel(ele[5], ele[0]) for ele in LinearSVCResult.values ] \n"
   ]
  },
  {
   "cell_type": "code",
   "execution_count": 25,
   "metadata": {},
   "outputs": [
    {
     "name": "stdout",
     "output_type": "stream",
     "text": [
      "CPU times: user 17 µs, sys: 7 µs, total: 24 µs\n",
      "Wall time: 5.72 µs\n"
     ]
    }
   ],
   "source": [
    "%time \n",
    "modified_ynd_Pre = [ predictNextLevel(ele[5], ele[0]) for ele in Data_to_predict_next_level.values ] \n"
   ]
  },
  {
   "cell_type": "code",
   "execution_count": 26,
   "metadata": {},
   "outputs": [],
   "source": [
    "\n",
    "ynd_flat = K_best_flat.predict(X_test) "
   ]
  },
  {
   "cell_type": "code",
   "execution_count": 27,
   "metadata": {},
   "outputs": [
    {
     "name": "stdout",
     "output_type": "stream",
     "text": [
      "                           precision    recall  f1-score   support\n",
      "\n",
      "            Arts & Crafts       0.75      0.93      0.83        61\n",
      "      Baby & Toddler Toys       0.50      0.50      0.50         4\n",
      "      Characters & Brands       0.77      0.65      0.71        83\n",
      "  Die-Cast & Toy Vehicles       0.85      0.91      0.88       108\n",
      "      Dolls & Accessories       0.87      0.92      0.89        37\n",
      "              Fancy Dress       0.91      0.91      0.91        56\n",
      "       Figures & Playsets       0.77      0.77      0.77       106\n",
      "                    Games       0.90      0.83      0.86        93\n",
      "                  Hobbies       0.83      0.78      0.81       148\n",
      "        Jigsaws & Puzzles       0.84      0.89      0.86        18\n",
      "           Party Supplies       0.84      0.86      0.85        50\n",
      "             Pretend Play       0.60      0.60      0.60         5\n",
      "Puppets & Puppet Theatres       0.92      1.00      0.96        22\n",
      "    Sports Toys & Outdoor       0.79      0.79      0.79        28\n",
      "\n",
      "                micro avg       0.83      0.83      0.83       819\n",
      "                macro avg       0.80      0.81      0.80       819\n",
      "             weighted avg       0.83      0.83      0.83       819\n",
      "\n"
     ]
    }
   ],
   "source": [
    "print(classification_report(yst_test, ystPred,target_names=target))"
   ]
  },
  {
   "cell_type": "code",
   "execution_count": 28,
   "metadata": {},
   "outputs": [
    {
     "name": "stdout",
     "output_type": "stream",
     "text": [
      "                                       precision    recall  f1-score   support\n",
      "\n",
      "                          3-D Puzzles       1.00      0.25      0.40         4\n",
      "                          Accessories       0.84      0.50      0.63        62\n",
      "                             Art Sand       0.86      1.00      0.92         6\n",
      "         Banners, Stickers & Confetti       0.78      0.72      0.75        25\n",
      "                           Beach Toys       0.67      0.71      0.69        14\n",
      "                        Brain Teasers       1.00      1.00      1.00         3\n",
      "                           Card Games       0.68      0.56      0.61        27\n",
      "                                Chess       1.00      1.00      1.00         7\n",
      "                Children's Craft Kits       0.71      0.82      0.76        33\n",
      "    Collectible Figures & Memorabilia       0.47      0.60      0.53        15\n",
      "                    Colouring Pencils       0.33      0.67      0.44         3\n",
      "             Colouring Pens & Markers       0.82      0.82      0.82        11\n",
      "                             Costumes       0.50      0.71      0.59        17\n",
      "                    Cowboys & Indians       0.14      0.50      0.22         2\n",
      "                              Crayola       0.75      0.60      0.67         5\n",
      "                          Decorations       0.76      0.76      0.76        25\n",
      "                    Dice & Dice Games       0.97      0.90      0.93        31\n",
      "                            Dinosaurs       1.00      0.62      0.77         8\n",
      "                               Disney       0.76      0.53      0.62        36\n",
      "     Dolls' House Dolls & Accessories       0.85      1.00      0.92        17\n",
      "                Dominoes & Tile Games       0.60      0.75      0.67         8\n",
      "                    Educational Games       0.40      0.15      0.22        13\n",
      "                       Farm & Animals       0.67      0.67      0.67         3\n",
      "                         Hand Puppets       0.96      1.00      0.98        22\n",
      "                         Harry Potter       1.00      1.00      1.00         4\n",
      "                               Hasbro       0.53      0.67      0.59        12\n",
      "                              Jigsaws       0.71      0.91      0.80        11\n",
      "                  Kites & Flight Toys       0.80      0.86      0.83        14\n",
      "                    Knights & Castles       0.67      0.75      0.71        16\n",
      "                  Model Building Kits       0.70      0.70      0.70        20\n",
      "          Model Trains & Railway Sets       0.86      0.86      0.86        42\n",
      "                     Paper & Stickers       0.36      0.62      0.45         8\n",
      "                              Pirates       0.86      0.75      0.80         8\n",
      "                         Ravensburger       0.50      0.50      0.50         4\n",
      "            Remote Controlled Devices       0.61      0.79      0.69        14\n",
      "            Science Fiction & Fantasy       0.61      0.50      0.55        46\n",
      "                  Shops & Accessories       0.60      0.60      0.60         5\n",
      " Slot Cars, Race Tracks & Accessories       0.76      0.65      0.70        20\n",
      "                           Soft Dolls       0.81      0.85      0.83        20\n",
      "    Sorting, Stacking & Plugging Toys       0.33      0.50      0.40         4\n",
      "                            Star Wars       0.62      0.94      0.75        16\n",
      "                                 Tomy       0.80      0.67      0.73         6\n",
      "             Toy Trains & Accessories       0.60      0.75      0.67         8\n",
      "           Toy Vehicles & Accessories       0.86      0.89      0.88       100\n",
      "          Trading Cards & Accessories       0.76      0.86      0.81        37\n",
      "                  Trivia & Quiz Games       0.62      0.71      0.67         7\n",
      "\n",
      "                            micro avg       0.74      0.74      0.74       819\n",
      "                            macro avg       0.71      0.72      0.70       819\n",
      "                         weighted avg       0.75      0.74      0.73       819\n",
      "\n"
     ]
    }
   ],
   "source": [
    "print(classification_report(ynd_test,ynd_flat,target_names=subtarget))\n",
    "with open('AmazonHC/FlatSVCHCReport.txt', 'w') as file:\n",
    "    file.write(classification_report(ynd_test,ynd_flat,target_names=subtarget))"
   ]
  },
  {
   "cell_type": "code",
   "execution_count": 29,
   "metadata": {},
   "outputs": [
    {
     "name": "stdout",
     "output_type": "stream",
     "text": [
      "                                       precision    recall  f1-score   support\n",
      "\n",
      "                          3-D Puzzles       1.00      0.25      0.40         4\n",
      "                          Accessories       0.73      0.56      0.64        62\n",
      "                             Art Sand       0.86      1.00      0.92         6\n",
      "         Banners, Stickers & Confetti       0.82      0.72      0.77        25\n",
      "                           Beach Toys       0.73      0.79      0.76        14\n",
      "                        Brain Teasers       1.00      1.00      1.00         3\n",
      "                           Card Games       0.67      0.67      0.67        27\n",
      "                                Chess       1.00      1.00      1.00         7\n",
      "                Children's Craft Kits       0.73      0.82      0.77        33\n",
      "    Collectible Figures & Memorabilia       0.89      0.53      0.67        15\n",
      "                    Colouring Pencils       0.17      0.33      0.22         3\n",
      "             Colouring Pens & Markers       0.71      0.91      0.80        11\n",
      "                             Costumes       0.50      0.71      0.59        17\n",
      "                    Cowboys & Indians       0.00      0.00      0.00         2\n",
      "                              Crayola       1.00      0.40      0.57         5\n",
      "                          Decorations       0.66      0.76      0.70        25\n",
      "                    Dice & Dice Games       0.97      0.90      0.93        31\n",
      "                            Dinosaurs       1.00      0.62      0.77         8\n",
      "                               Disney       0.78      0.58      0.67        36\n",
      "     Dolls' House Dolls & Accessories       0.94      1.00      0.97        17\n",
      "                Dominoes & Tile Games       0.56      0.62      0.59         8\n",
      "                    Educational Games       0.25      0.08      0.12        13\n",
      "                       Farm & Animals       1.00      0.33      0.50         3\n",
      "                         Hand Puppets       0.92      1.00      0.96        22\n",
      "                         Harry Potter       1.00      1.00      1.00         4\n",
      "                               Hasbro       0.75      0.50      0.60        12\n",
      "                              Jigsaws       0.73      1.00      0.85        11\n",
      "                  Kites & Flight Toys       0.85      0.79      0.81        14\n",
      "                    Knights & Castles       0.71      0.75      0.73        16\n",
      "                  Model Building Kits       0.86      0.60      0.71        20\n",
      "          Model Trains & Railway Sets       0.84      0.86      0.85        42\n",
      "                     Paper & Stickers       0.50      0.75      0.60         8\n",
      "                              Pirates       1.00      0.62      0.77         8\n",
      "                         Ravensburger       0.50      0.50      0.50         4\n",
      "            Remote Controlled Devices       0.58      0.79      0.67        14\n",
      "            Science Fiction & Fantasy       0.47      0.61      0.53        46\n",
      "                  Shops & Accessories       0.60      0.60      0.60         5\n",
      " Slot Cars, Race Tracks & Accessories       0.92      0.60      0.73        20\n",
      "                           Soft Dolls       0.81      0.85      0.83        20\n",
      "    Sorting, Stacking & Plugging Toys       0.50      0.50      0.50         4\n",
      "                            Star Wars       0.65      0.81      0.72        16\n",
      "                                 Tomy       0.80      0.67      0.73         6\n",
      "             Toy Trains & Accessories       0.60      0.75      0.67         8\n",
      "           Toy Vehicles & Accessories       0.87      0.91      0.89       100\n",
      "          Trading Cards & Accessories       0.71      0.78      0.74        37\n",
      "                  Trivia & Quiz Games       0.50      0.71      0.59         7\n",
      "\n",
      "                            micro avg       0.74      0.74      0.74       819\n",
      "                            macro avg       0.73      0.69      0.69       819\n",
      "                         weighted avg       0.75      0.74      0.73       819\n",
      "\n"
     ]
    }
   ],
   "source": [
    "print(classification_report(ynd_test,ynd_Pre,target_names=subtarget))\n",
    "with open('AmazonHC/OriginalSVCHCReport.txt', 'w') as file:\n",
    "    file.write(classification_report(ynd_test,ynd_Pre,target_names=subtarget))"
   ]
  },
  {
   "cell_type": "code",
   "execution_count": 30,
   "metadata": {},
   "outputs": [
    {
     "name": "stdout",
     "output_type": "stream",
     "text": [
      "                                       precision    recall  f1-score   support\n",
      "\n",
      "                          3-D Puzzles       1.00      0.33      0.50         3\n",
      "                          Accessories       0.75      0.60      0.67        55\n",
      "                             Art Sand       0.86      1.00      0.92         6\n",
      "         Banners, Stickers & Confetti       0.82      0.75      0.78        24\n",
      "                           Beach Toys       0.69      0.82      0.75        11\n",
      "                        Brain Teasers       1.00      1.00      1.00         3\n",
      "                           Card Games       0.72      0.82      0.77        22\n",
      "                                Chess       1.00      1.00      1.00         6\n",
      "                Children's Craft Kits       0.81      0.81      0.81        32\n",
      "    Collectible Figures & Memorabilia       1.00      0.55      0.71        11\n",
      "                    Colouring Pencils       0.00      0.00      0.00         2\n",
      "             Colouring Pens & Markers       0.73      0.89      0.80         9\n",
      "                             Costumes       0.50      0.73      0.59        15\n",
      "                    Cowboys & Indians       0.00      0.00      0.00         2\n",
      "                              Crayola       1.00      0.40      0.57         5\n",
      "                          Decorations       0.78      0.82      0.80        22\n",
      "                    Dice & Dice Games       0.97      0.93      0.95        30\n",
      "                            Dinosaurs       1.00      0.71      0.83         7\n",
      "                               Disney       0.83      0.63      0.72        30\n",
      "     Dolls' House Dolls & Accessories       0.94      1.00      0.97        17\n",
      "                Dominoes & Tile Games       0.56      0.83      0.67         6\n",
      "                    Educational Games       0.33      0.12      0.18         8\n",
      "                       Farm & Animals       0.00      0.00      0.00         2\n",
      "                         Hand Puppets       1.00      1.00      1.00        22\n",
      "                         Harry Potter       1.00      1.00      1.00         3\n",
      "                               Hasbro       0.71      0.50      0.59        10\n",
      "                              Jigsaws       0.77      1.00      0.87        10\n",
      "                  Kites & Flight Toys       0.85      0.85      0.85        13\n",
      "                    Knights & Castles       0.86      0.92      0.89        13\n",
      "                  Model Building Kits       0.85      0.69      0.76        16\n",
      "          Model Trains & Railway Sets       0.87      0.89      0.88        38\n",
      "                     Paper & Stickers       0.50      1.00      0.67         4\n",
      "                              Pirates       1.00      0.62      0.77         8\n",
      "                         Ravensburger       0.67      0.50      0.57         4\n",
      "            Remote Controlled Devices       0.67      0.83      0.74        12\n",
      "            Science Fiction & Fantasy       0.51      0.69      0.59        35\n",
      "                  Shops & Accessories       1.00      1.00      1.00         2\n",
      " Slot Cars, Race Tracks & Accessories       0.92      0.67      0.77        18\n",
      "                           Soft Dolls       0.94      0.89      0.91        18\n",
      "    Sorting, Stacking & Plugging Toys       0.67      0.67      0.67         3\n",
      "                            Star Wars       0.76      0.93      0.84        14\n",
      "                                 Tomy       0.80      0.80      0.80         5\n",
      "             Toy Trains & Accessories       0.62      0.71      0.67         7\n",
      "           Toy Vehicles & Accessories       0.90      0.94      0.92        93\n",
      "          Trading Cards & Accessories       0.87      0.84      0.86        32\n",
      "                  Trivia & Quiz Games       0.56      0.71      0.63         7\n",
      "\n",
      "                            micro avg       0.79      0.79      0.79       715\n",
      "                            macro avg       0.75      0.73      0.72       715\n",
      "                         weighted avg       0.81      0.79      0.79       715\n",
      "\n"
     ]
    },
    {
     "name": "stderr",
     "output_type": "stream",
     "text": [
      "/home/justin/mscproject/app/lib/python3.6/site-packages/sklearn/metrics/classification.py:1143: UndefinedMetricWarning: Precision and F-score are ill-defined and being set to 0.0 in labels with no predicted samples.\n",
      "  'precision', 'predicted', average, warn_for)\n"
     ]
    }
   ],
   "source": [
    "print(classification_report(Data_to_predict_next_level['sublabel'],modified_ynd_Pre,target_names=subtarget))\n",
    "with open('AmazonHC/ModifiedSVCHCReport.txt', 'w') as file:\n",
    "    file.write(classification_report(Data_to_predict_next_level['sublabel'],modified_ynd_Pre,target_names=subtarget))"
   ]
  },
  {
   "cell_type": "code",
   "execution_count": null,
   "metadata": {},
   "outputs": [],
   "source": []
  }
 ],
 "metadata": {
  "kernelspec": {
   "display_name": "Python 3",
   "language": "python",
   "name": "python3"
  },
  "language_info": {
   "codemirror_mode": {
    "name": "ipython",
    "version": 3
   },
   "file_extension": ".py",
   "mimetype": "text/x-python",
   "name": "python",
   "nbconvert_exporter": "python",
   "pygments_lexer": "ipython3",
   "version": "3.6.8"
  }
 },
 "nbformat": 4,
 "nbformat_minor": 2
}
