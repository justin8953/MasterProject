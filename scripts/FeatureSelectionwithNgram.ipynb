{
 "cells": [
  {
   "cell_type": "code",
   "execution_count": 1,
   "metadata": {},
   "outputs": [],
   "source": [
    "import pandas as pd\n",
    "import numpy as np\n",
    "from sklearn.feature_extraction.text import TfidfVectorizer \n",
    "from sklearn.feature_selection import SelectKBest,chi2\n",
    "from sklearn.naive_bayes import ComplementNB\n",
    "from sklearn.svm import SVC,LinearSVC\n",
    "import matplotlib.pyplot as plt"
   ]
  },
  {
   "cell_type": "code",
   "execution_count": 2,
   "metadata": {},
   "outputs": [],
   "source": [
    "# Data sources list \n",
    "folder = ['Amazon','FlipKart','Combine','Walmart']\n",
    "class FeatureSelection:\n",
    "    def __init__(self,num):\n",
    "        self.num = num\n",
    "    # initialise the train and test data\n",
    "    def openFile(self):\n",
    "        num = self.num\n",
    "        print(\"----- OPEN \"+folder[num]+\" data ----- \\n\")\n",
    "        trainData = pd.read_csv(folder[num]+'/X_train.csv')\n",
    "        trainLabel = pd.read_csv(folder[num]+'/y_train.csv')\n",
    "        testData = pd.read_csv(folder[num]+'/X_test.csv')\n",
    "        testLabel = pd.read_csv(folder[num]+'/y_test.csv')\n",
    "        if(num==0 or num==2):\n",
    "            # For Description has nan row\n",
    "            df = pd.concat([trainData,trainLabel], axis = 1)\n",
    "            df = df.dropna(subset=['X_train'])\n",
    "            trainData = pd.DataFrame({'X_train':df.X_train})\n",
    "            trainLabel = pd.DataFrame({'category':df.category,'subcategory':df.subcategory})\n",
    "            df = pd.concat([testData,testLabel], axis = 1)\n",
    "            df = df.dropna(subset=['X_test'])\n",
    "            testData = pd.DataFrame({'X_test':df.X_test})\n",
    "            testLabel = pd.DataFrame({'category':df.category,'subcategory':df.subcategory})\n",
    "        self.X_train = trainData['X_train']\n",
    "        self.y_train = trainLabel['category']\n",
    "        self.y_trainnd = trainLabel['subcategory']\n",
    "        self.X_test = testData['X_test']\n",
    "        self.y_test = testLabel['category']\n",
    "        self.y_testnd = testLabel['subcategory']\n",
    "\n",
    "    def tfidfConvert(self, num):\n",
    "        tfidfconverter = TfidfVectorizer(min_df=5, max_df=0.7,ngram_range=(1,num))\n",
    "        print(\"----- Convert train data and test data to vector ----- \\n\")\n",
    "        X = tfidfconverter.fit_transform(self.X_train)\n",
    "        XTest = tfidfconverter.transform(self.X_test)\n",
    "        self.originTrainFeatures = X\n",
    "        self.originTestFeatures = XTest\n",
    "        print(\"----- Total # features: \"+str(X.shape[1])+\" ----- \\n\")\n",
    "        self.total_feature = X.shape[1]\n",
    "    def selectBestfeatureViaChi2(self,num):\n",
    "        selectBest = SelectKBest(chi2, k=num).fit(self.originTrainFeatures, self.y_train)\n",
    "        self.select_feature = selectBest.transform(self.originTrainFeatures)\n",
    "        self.test_features = selectBest.transform(self.originTestFeatures)\n",
    "    def ndLevelSelectBestfeatureViaChi2(self,num):\n",
    "        selectBest = SelectKBest(chi2, k=num).fit(self.originTrainFeatures, self.y_trainnd)\n",
    "        self.select_feature = selectBest.transform(self.originTrainFeatures)\n",
    "        self.test_features = selectBest.transform(self.originTestFeatures)\n",
    "    def MNBC(self):\n",
    "        numofBest = [ele for ele in range(1000, self.total_feature, 1000)]\n",
    "        scores = []\n",
    "        for ele in numofBest:\n",
    "            print(\"----- Select Best \"+str(ele)+\" features ----- \\n\")\n",
    "            self.selectBestfeatureViaChi2(ele)\n",
    "            MNB = ComplementNB()\n",
    "            print(\"----- MNB fitting -----\")\n",
    "            MNB.fit(self.select_feature,self.y_train)\n",
    "            score = MNB.score(self.test_features,self.y_test)\n",
    "            scores.append(score)\n",
    "        index = np.argmax(scores)\n",
    "        bestSize = numofBest[index]\n",
    "        bestAccracy = scores[index]\n",
    "        self.bestSize = bestSize\n",
    "        self.bestAccracy = bestAccracy\n",
    "        print(\"Best Feature Selection Size:\" + str(bestSize) + \"\\n\")\n",
    "        print(\"Best Accuracy:\" + str(bestAccracy) + \"\\n\")\n",
    "        return numofBest,scores\n",
    "\n",
    "#         self.plotDifferentNumFeatureInfluence(\"MNBC\",numofBest,scores,folder[self.num])\n",
    "    def ndLevelMNBC(self):\n",
    "        numofBest = [ele for ele in range(1000, self.total_feature, 1000)]\n",
    "        scores = []\n",
    "        for ele in numofBest:\n",
    "            print(\"----- Select Best \"+str(ele)+\" features ----- \\n\")\n",
    "            self.ndLevelSelectBestfeatureViaChi2(ele)\n",
    "            MNB = ComplementNB()\n",
    "            print(\"----- MNB fitting -----\")\n",
    "            MNB.fit(self.select_feature,self.y_trainnd)\n",
    "            score = MNB.score(self.test_features,self.y_testnd)\n",
    "            scores.append(score)\n",
    "        index = np.argmax(scores)\n",
    "        bestSize = numofBest[index]\n",
    "        bestAccracy = scores[index]\n",
    "        self.bestSize = bestSize\n",
    "        self.bestAccracy = bestAccracy\n",
    "        print(\"Best Feature Selection Sizein second level:\" + str(bestSize) + \"\\n\")\n",
    "        print(\"Best Accuracy in second level:\" + str(bestAccracy) + \"\\n\")\n",
    "        return numofBest,scores\n",
    "\n",
    "#         self.plotDifferentNumFeatureInfluence(\"MNBC\",numofBest,scores,folder[self.num])\n",
    "    def SVC(self):\n",
    "        numofBest = [ele for ele in range(1000, self.total_feature, 1000)]\n",
    "        scores = []\n",
    "        for ele in numofBest:\n",
    "            print(\"----- Select Best \"+str(ele)+\" features ----- \\n\")\n",
    "            self.selectBestfeatureViaChi2(ele)\n",
    "            svc = LinearSVC(random_state=42,class_weight=\"balanced\")\n",
    "            print(\"----- SVC fitting -----\")\n",
    "            svc.fit(self.select_feature,self.y_train)\n",
    "            score = svc.score(self.test_features,self.y_test)\n",
    "            scores.append(score)\n",
    "        index = np.argmax(scores)\n",
    "        bestSize = numofBest[index]\n",
    "        bestAccracy = scores[index]\n",
    "        print(\"Best Feature Selection Size:\" + str(bestSize) + \"\\n\")\n",
    "        print(\"Best Accuracy:\" + str(bestAccracy) + \"\\n\")\n",
    "        self.bestSize = bestSize\n",
    "        self.bestAccracy = bestAccracy\n",
    "        return numofBest,scores\n",
    "#         self.plotDifferentNumFeatureInfluence(\"SVC\",numofBest,scores, folder[self.num])\n",
    "    def ndLevelSVC(self):\n",
    "        numofBest = [ele for ele in range(1000, self.total_feature, 1000)]\n",
    "        scores = []\n",
    "        for ele in numofBest:\n",
    "            print(\"----- Select Best \"+str(ele)+\" features ----- \\n\")\n",
    "            self.ndLevelSelectBestfeatureViaChi2(ele)\n",
    "            svc = LinearSVC(random_state=42,class_weight=\"balanced\")\n",
    "            print(\"----- SVC fitting -----\")\n",
    "            svc.fit(self.select_feature,self.y_trainnd)\n",
    "            score = svc.score(self.test_features,self.y_testnd)\n",
    "            scores.append(score)\n",
    "        index = np.argmax(scores)\n",
    "        bestSize = numofBest[index]\n",
    "        bestAccracy = scores[index]\n",
    "        self.bestSize = bestSize\n",
    "        self.bestAccracy = bestAccracy\n",
    "        print(\"Best Feature Selection Sizein second level:\" + str(bestSize) + \"\\n\")\n",
    "        print(\"Best Accuracy in second level:\" + str(bestAccracy) + \"\\n\")\n",
    "        return numofBest,scores\n",
    "#         self.plotDifferentNumFeatureInfluence(\"SVC\",numofBest,scores, folder[self.num])\n",
    "    def getBestSize(self):\n",
    "        return self.bestSize\n",
    "    def getBestAccuracy(self):\n",
    "        return self.bestAccracy\n"
   ]
  },
  {
   "cell_type": "code",
   "execution_count": 3,
   "metadata": {},
   "outputs": [],
   "source": [
    "def plotDifferentNumFeatureInfluence(X1,X2,SVCst,SVCnd,CNBCst,CNBCnd,datasource,gram):\n",
    "        fig, ax = plt.subplots(1, 2, figsize=(10, 2))\n",
    "#         ax.plot(numlists, scores)\n",
    "        ax[0].plot(X1, SVCst, color='tab:blue',label='SVC')\n",
    "        ax[0].plot(X1, CNBCst, color='tab:orange', label = \"CNBC\")\n",
    "        ax[1].plot(X2, SVCnd, color='tab:blue',label='SVC')\n",
    "        ax[1].plot(X2, CNBCnd, color='tab:orange',label='CNBC')\n",
    "        ax[0].set(xlabel='Number of best score features', ylabel='Accuracy')\n",
    "        ax[1].set(xlabel='Number of best score features', ylabel='Accuracy')\n",
    "        title1='Different number of best features to accuracy \\n in the '+ datasource + \" first-level categories\"\n",
    "        title2='Different number of best features to accuracy \\n in the '+ datasource + \" second-level categories\"\n",
    "        ax[0].set_title(title1)\n",
    "        ax[1].set_title(title2)\n",
    "        ax[0].legend()\n",
    "        ax[1].legend()\n",
    "\n",
    "        ax[0].grid()\n",
    "        ax[1].grid() \n",
    "        fig.savefig(\"best\"+str(gram)+\"gram\"+datasource+\".png\")\n"
   ]
  },
  {
   "cell_type": "code",
   "execution_count": 4,
   "metadata": {},
   "outputs": [],
   "source": [
    "def plotDifferentGramInfluence(X,MNBC, SVM, datasource):\n",
    "        fig, ax = plt.subplots()\n",
    "#         ax.plot(numlists, scores)\n",
    "        ax.plot(X, SVM, color='tab:blue',label='SVC')\n",
    "        ax.plot(X, MNBC, color='tab:orange', label = \"CNBC\")\n",
    "        ax.set(xlabel='Number of gram', ylabel='Accuracy')\n",
    "        ax.xaxis.set_ticks(np.arange(1, 4, 1))\n",
    "        title='Different number of gram to the accuracy \\n in the '+ datasource \n",
    "        ax.legend()\n",
    "        ax.set_title(title)\n",
    "        ax.grid()\n",
    "        fig.savefig(datasource+\"gram.png\")"
   ]
  },
  {
   "cell_type": "code",
   "execution_count": 5,
   "metadata": {},
   "outputs": [],
   "source": [
    "NBCGram = []\n",
    "SVCGram = []\n",
    "Gram = range(1,4)"
   ]
  },
  {
   "cell_type": "code",
   "execution_count": 6,
   "metadata": {},
   "outputs": [
    {
     "name": "stdout",
     "output_type": "stream",
     "text": [
      "----- OPEN Amazon data ----- \n",
      "\n",
      "----- Convert train data and test data to vector ----- \n",
      "\n",
      "----- Total # features: 5927 ----- \n",
      "\n"
     ]
    }
   ],
   "source": [
    "num = 0\n",
    "fs = FeatureSelection(num)\n",
    "fs.openFile()\n",
    "fs.tfidfConvert(1)"
   ]
  },
  {
   "cell_type": "code",
   "execution_count": 7,
   "metadata": {},
   "outputs": [
    {
     "name": "stdout",
     "output_type": "stream",
     "text": [
      "----- Select Best 1000 features ----- \n",
      "\n",
      "----- MNB fitting -----\n",
      "----- Select Best 2000 features ----- \n",
      "\n",
      "----- MNB fitting -----\n",
      "----- Select Best 3000 features ----- \n",
      "\n",
      "----- MNB fitting -----\n",
      "----- Select Best 4000 features ----- \n",
      "\n",
      "----- MNB fitting -----\n",
      "----- Select Best 5000 features ----- \n",
      "\n",
      "----- MNB fitting -----\n",
      "Best Feature Selection Size:5000\n",
      "\n",
      "Best Accuracy:0.7930189834660135\n",
      "\n"
     ]
    }
   ],
   "source": [
    "numofBestMNBC,scoresMNBC = fs.MNBC()"
   ]
  },
  {
   "cell_type": "code",
   "execution_count": 8,
   "metadata": {},
   "outputs": [
    {
     "name": "stdout",
     "output_type": "stream",
     "text": [
      "----- Select Best 1000 features ----- \n",
      "\n",
      "----- MNB fitting -----\n",
      "----- Select Best 2000 features ----- \n",
      "\n",
      "----- MNB fitting -----\n",
      "----- Select Best 3000 features ----- \n",
      "\n",
      "----- MNB fitting -----\n",
      "----- Select Best 4000 features ----- \n",
      "\n",
      "----- MNB fitting -----\n",
      "----- Select Best 5000 features ----- \n",
      "\n",
      "----- MNB fitting -----\n",
      "Best Feature Selection Sizein second level:5000\n",
      "\n",
      "Best Accuracy in second level:0.7085119412124924\n",
      "\n"
     ]
    }
   ],
   "source": [
    "numofBestndMNBC,scoresndMNBC = fs.ndLevelMNBC()"
   ]
  },
  {
   "cell_type": "code",
   "execution_count": 9,
   "metadata": {},
   "outputs": [
    {
     "name": "stdout",
     "output_type": "stream",
     "text": [
      "----- Select Best 1000 features ----- \n",
      "\n",
      "----- SVC fitting -----\n",
      "----- Select Best 2000 features ----- \n",
      "\n",
      "----- SVC fitting -----\n",
      "----- Select Best 3000 features ----- \n",
      "\n",
      "----- SVC fitting -----\n",
      "----- Select Best 4000 features ----- \n",
      "\n",
      "----- SVC fitting -----\n",
      "----- Select Best 5000 features ----- \n",
      "\n",
      "----- SVC fitting -----\n",
      "Best Feature Selection Size:3000\n",
      "\n",
      "Best Accuracy:0.8162890385793019\n",
      "\n"
     ]
    }
   ],
   "source": [
    "numofBestSVC,scoresSVC = fs.SVC()"
   ]
  },
  {
   "cell_type": "code",
   "execution_count": 10,
   "metadata": {
    "scrolled": true
   },
   "outputs": [
    {
     "name": "stdout",
     "output_type": "stream",
     "text": [
      "----- Select Best 1000 features ----- \n",
      "\n",
      "----- SVC fitting -----\n",
      "----- Select Best 2000 features ----- \n",
      "\n",
      "----- SVC fitting -----\n",
      "----- Select Best 3000 features ----- \n",
      "\n",
      "----- SVC fitting -----\n",
      "----- Select Best 4000 features ----- \n",
      "\n",
      "----- SVC fitting -----\n",
      "----- Select Best 5000 features ----- \n",
      "\n",
      "----- SVC fitting -----\n",
      "Best Feature Selection Sizein second level:5000\n",
      "\n",
      "Best Accuracy in second level:0.7317819963257808\n",
      "\n"
     ]
    }
   ],
   "source": [
    "numofBestndSVC,scoresndSVC = fs.ndLevelSVC()"
   ]
  },
  {
   "cell_type": "code",
   "execution_count": 11,
   "metadata": {},
   "outputs": [
    {
     "data": {
      "image/png": "[encoded data removed]",
      "text/plain": [
       "<Figure size 720x144 with 2 Axes>"
      ]
     },
     "metadata": {
      "needs_background": "light"
     },
     "output_type": "display_data"
    }
   ],
   "source": [
    "plotDifferentNumFeatureInfluence(numofBestMNBC,numofBestndSVC,scoresSVC,scoresndSVC,scoresMNBC,scoresndMNBC,folder[0],1)\n",
    "gram_1MNBC = max(scoresMNBC)\n",
    "gram_1SVC =  max(scoresSVC)\n",
    "NBCGram.append(gram_1MNBC)\n",
    "SVCGram.append(gram_1SVC)"
   ]
  },
  {
   "cell_type": "code",
   "execution_count": 12,
   "metadata": {},
   "outputs": [
    {
     "name": "stdout",
     "output_type": "stream",
     "text": [
      "----- OPEN Amazon data ----- \n",
      "\n",
      "----- Convert train data and test data to vector ----- \n",
      "\n",
      "----- Total # features: 11703 ----- \n",
      "\n"
     ]
    }
   ],
   "source": [
    "num = 0\n",
    "fs = FeatureSelection(num)\n",
    "fs.openFile()\n",
    "fs.tfidfConvert(2)"
   ]
  },
  {
   "cell_type": "code",
   "execution_count": 13,
   "metadata": {},
   "outputs": [
    {
     "name": "stdout",
     "output_type": "stream",
     "text": [
      "----- Select Best 1000 features ----- \n",
      "\n",
      "----- MNB fitting -----\n",
      "----- Select Best 2000 features ----- \n",
      "\n",
      "----- MNB fitting -----\n",
      "----- Select Best 3000 features ----- \n",
      "\n",
      "----- MNB fitting -----\n",
      "----- Select Best 4000 features ----- \n",
      "\n",
      "----- MNB fitting -----\n",
      "----- Select Best 5000 features ----- \n",
      "\n",
      "----- MNB fitting -----\n",
      "----- Select Best 6000 features ----- \n",
      "\n",
      "----- MNB fitting -----\n",
      "----- Select Best 7000 features ----- \n",
      "\n",
      "----- MNB fitting -----\n",
      "----- Select Best 8000 features ----- \n",
      "\n",
      "----- MNB fitting -----\n",
      "----- Select Best 9000 features ----- \n",
      "\n",
      "----- MNB fitting -----\n",
      "----- Select Best 10000 features ----- \n",
      "\n",
      "----- MNB fitting -----\n",
      "----- Select Best 11000 features ----- \n",
      "\n",
      "----- MNB fitting -----\n",
      "Best Feature Selection Size:11000\n",
      "\n",
      "Best Accuracy:0.8077158603796694\n",
      "\n"
     ]
    }
   ],
   "source": [
    "numofBestMNBC,scoresMNBC = fs.MNBC()"
   ]
  },
  {
   "cell_type": "code",
   "execution_count": 14,
   "metadata": {},
   "outputs": [
    {
     "name": "stdout",
     "output_type": "stream",
     "text": [
      "----- Select Best 1000 features ----- \n",
      "\n",
      "----- MNB fitting -----\n",
      "----- Select Best 2000 features ----- \n",
      "\n",
      "----- MNB fitting -----\n",
      "----- Select Best 3000 features ----- \n",
      "\n",
      "----- MNB fitting -----\n",
      "----- Select Best 4000 features ----- \n",
      "\n",
      "----- MNB fitting -----\n",
      "----- Select Best 5000 features ----- \n",
      "\n",
      "----- MNB fitting -----\n",
      "----- Select Best 6000 features ----- \n",
      "\n",
      "----- MNB fitting -----\n",
      "----- Select Best 7000 features ----- \n",
      "\n",
      "----- MNB fitting -----\n",
      "----- Select Best 8000 features ----- \n",
      "\n",
      "----- MNB fitting -----\n",
      "----- Select Best 9000 features ----- \n",
      "\n",
      "----- MNB fitting -----\n",
      "----- Select Best 10000 features ----- \n",
      "\n",
      "----- MNB fitting -----\n",
      "----- Select Best 11000 features ----- \n",
      "\n",
      "----- MNB fitting -----\n",
      "Best Feature Selection Sizein second level:11000\n",
      "\n",
      "Best Accuracy in second level:0.7232088181261482\n",
      "\n"
     ]
    }
   ],
   "source": [
    "numofBestndMNBC,scoresndMNBC = fs.ndLevelMNBC()"
   ]
  },
  {
   "cell_type": "code",
   "execution_count": 15,
   "metadata": {},
   "outputs": [
    {
     "name": "stdout",
     "output_type": "stream",
     "text": [
      "----- Select Best 1000 features ----- \n",
      "\n",
      "----- SVC fitting -----\n",
      "----- Select Best 2000 features ----- \n",
      "\n",
      "----- SVC fitting -----\n",
      "----- Select Best 3000 features ----- \n",
      "\n",
      "----- SVC fitting -----\n",
      "----- Select Best 4000 features ----- \n",
      "\n",
      "----- SVC fitting -----\n",
      "----- Select Best 5000 features ----- \n",
      "\n",
      "----- SVC fitting -----\n",
      "----- Select Best 6000 features ----- \n",
      "\n",
      "----- SVC fitting -----\n",
      "----- Select Best 7000 features ----- \n",
      "\n",
      "----- SVC fitting -----\n",
      "----- Select Best 8000 features ----- \n",
      "\n",
      "----- SVC fitting -----\n",
      "----- Select Best 9000 features ----- \n",
      "\n",
      "----- SVC fitting -----\n",
      "----- Select Best 10000 features ----- \n",
      "\n",
      "----- SVC fitting -----\n",
      "----- Select Best 11000 features ----- \n",
      "\n",
      "----- SVC fitting -----\n",
      "Best Feature Selection Size:10000\n",
      "\n",
      "Best Accuracy:0.8218003674219229\n",
      "\n"
     ]
    }
   ],
   "source": [
    "numofBestSVC,scoresSVC = fs.SVC()"
   ]
  },
  {
   "cell_type": "code",
   "execution_count": 16,
   "metadata": {
    "scrolled": true
   },
   "outputs": [
    {
     "name": "stdout",
     "output_type": "stream",
     "text": [
      "----- Select Best 1000 features ----- \n",
      "\n",
      "----- SVC fitting -----\n",
      "----- Select Best 2000 features ----- \n",
      "\n",
      "----- SVC fitting -----\n",
      "----- Select Best 3000 features ----- \n",
      "\n",
      "----- SVC fitting -----\n",
      "----- Select Best 4000 features ----- \n",
      "\n",
      "----- SVC fitting -----\n",
      "----- Select Best 5000 features ----- \n",
      "\n",
      "----- SVC fitting -----\n",
      "----- Select Best 6000 features ----- \n",
      "\n",
      "----- SVC fitting -----\n",
      "----- Select Best 7000 features ----- \n",
      "\n",
      "----- SVC fitting -----\n",
      "----- Select Best 8000 features ----- \n",
      "\n",
      "----- SVC fitting -----\n",
      "----- Select Best 9000 features ----- \n",
      "\n",
      "----- SVC fitting -----\n",
      "----- Select Best 10000 features ----- \n",
      "\n",
      "----- SVC fitting -----\n",
      "----- Select Best 11000 features ----- \n",
      "\n",
      "----- SVC fitting -----\n",
      "Best Feature Selection Sizein second level:10000\n",
      "\n",
      "Best Accuracy in second level:0.7403551745254133\n",
      "\n"
     ]
    }
   ],
   "source": [
    "numofBestndSVC,scoresndSVC = fs.ndLevelSVC()"
   ]
  },
  {
   "cell_type": "code",
   "execution_count": 17,
   "metadata": {},
   "outputs": [
    {
     "data": {
      "image/png": "[encoded data removed]",
      "text/plain": [
       "<Figure size 720x144 with 2 Axes>"
      ]
     },
     "metadata": {
      "needs_background": "light"
     },
     "output_type": "display_data"
    }
   ],
   "source": [
    "plotDifferentNumFeatureInfluence(numofBestMNBC,numofBestndSVC,scoresSVC,scoresndSVC,scoresMNBC,scoresndMNBC,folder[0],2)\n",
    "gram_2MNBC = max(scoresMNBC)\n",
    "gram_2SVC =  max(scoresSVC)\n",
    "NBCGram.append(gram_2MNBC)\n",
    "SVCGram.append(gram_2SVC)"
   ]
  },
  {
   "cell_type": "code",
   "execution_count": 18,
   "metadata": {},
   "outputs": [
    {
     "name": "stdout",
     "output_type": "stream",
     "text": [
      "----- OPEN Amazon data ----- \n",
      "\n",
      "----- Convert train data and test data to vector ----- \n",
      "\n",
      "----- Total # features: 15501 ----- \n",
      "\n"
     ]
    }
   ],
   "source": [
    "num = 0\n",
    "fs = FeatureSelection(num)\n",
    "fs.openFile()\n",
    "fs.tfidfConvert(3)"
   ]
  },
  {
   "cell_type": "code",
   "execution_count": 19,
   "metadata": {},
   "outputs": [
    {
     "name": "stdout",
     "output_type": "stream",
     "text": [
      "----- Select Best 1000 features ----- \n",
      "\n",
      "----- MNB fitting -----\n",
      "----- Select Best 2000 features ----- \n",
      "\n",
      "----- MNB fitting -----\n",
      "----- Select Best 3000 features ----- \n",
      "\n",
      "----- MNB fitting -----\n",
      "----- Select Best 4000 features ----- \n",
      "\n",
      "----- MNB fitting -----\n",
      "----- Select Best 5000 features ----- \n",
      "\n",
      "----- MNB fitting -----\n",
      "----- Select Best 6000 features ----- \n",
      "\n",
      "----- MNB fitting -----\n",
      "----- Select Best 7000 features ----- \n",
      "\n",
      "----- MNB fitting -----\n",
      "----- Select Best 8000 features ----- \n",
      "\n",
      "----- MNB fitting -----\n",
      "----- Select Best 9000 features ----- \n",
      "\n",
      "----- MNB fitting -----\n",
      "----- Select Best 10000 features ----- \n",
      "\n",
      "----- MNB fitting -----\n",
      "----- Select Best 11000 features ----- \n",
      "\n",
      "----- MNB fitting -----\n",
      "----- Select Best 12000 features ----- \n",
      "\n",
      "----- MNB fitting -----\n",
      "----- Select Best 13000 features ----- \n",
      "\n",
      "----- MNB fitting -----\n",
      "----- Select Best 14000 features ----- \n",
      "\n",
      "----- MNB fitting -----\n",
      "----- Select Best 15000 features ----- \n",
      "\n",
      "----- MNB fitting -----\n",
      "Best Feature Selection Size:15000\n",
      "\n",
      "Best Accuracy:0.8058787507654623\n",
      "\n"
     ]
    }
   ],
   "source": [
    "numofBestMNBC,scoresMNBC = fs.MNBC()"
   ]
  },
  {
   "cell_type": "code",
   "execution_count": 20,
   "metadata": {},
   "outputs": [
    {
     "name": "stdout",
     "output_type": "stream",
     "text": [
      "----- Select Best 1000 features ----- \n",
      "\n",
      "----- MNB fitting -----\n",
      "----- Select Best 2000 features ----- \n",
      "\n",
      "----- MNB fitting -----\n",
      "----- Select Best 3000 features ----- \n",
      "\n",
      "----- MNB fitting -----\n",
      "----- Select Best 4000 features ----- \n",
      "\n",
      "----- MNB fitting -----\n",
      "----- Select Best 5000 features ----- \n",
      "\n",
      "----- MNB fitting -----\n",
      "----- Select Best 6000 features ----- \n",
      "\n",
      "----- MNB fitting -----\n",
      "----- Select Best 7000 features ----- \n",
      "\n",
      "----- MNB fitting -----\n",
      "----- Select Best 8000 features ----- \n",
      "\n",
      "----- MNB fitting -----\n",
      "----- Select Best 9000 features ----- \n",
      "\n",
      "----- MNB fitting -----\n",
      "----- Select Best 10000 features ----- \n",
      "\n",
      "----- MNB fitting -----\n",
      "----- Select Best 11000 features ----- \n",
      "\n",
      "----- MNB fitting -----\n",
      "----- Select Best 12000 features ----- \n",
      "\n",
      "----- MNB fitting -----\n",
      "----- Select Best 13000 features ----- \n",
      "\n",
      "----- MNB fitting -----\n",
      "----- Select Best 14000 features ----- \n",
      "\n",
      "----- MNB fitting -----\n",
      "----- Select Best 15000 features ----- \n",
      "\n",
      "----- MNB fitting -----\n",
      "Best Feature Selection Sizein second level:11000\n",
      "\n",
      "Best Accuracy in second level:0.7232088181261482\n",
      "\n"
     ]
    }
   ],
   "source": [
    "numofBestndMNBC,scoresndMNBC = fs.ndLevelMNBC()"
   ]
  },
  {
   "cell_type": "code",
   "execution_count": 21,
   "metadata": {},
   "outputs": [
    {
     "name": "stdout",
     "output_type": "stream",
     "text": [
      "----- Select Best 1000 features ----- \n",
      "\n",
      "----- SVC fitting -----\n",
      "----- Select Best 2000 features ----- \n",
      "\n",
      "----- SVC fitting -----\n",
      "----- Select Best 3000 features ----- \n",
      "\n",
      "----- SVC fitting -----\n",
      "----- Select Best 4000 features ----- \n",
      "\n",
      "----- SVC fitting -----\n",
      "----- Select Best 5000 features ----- \n",
      "\n",
      "----- SVC fitting -----\n",
      "----- Select Best 6000 features ----- \n",
      "\n",
      "----- SVC fitting -----\n",
      "----- Select Best 7000 features ----- \n",
      "\n",
      "----- SVC fitting -----\n",
      "----- Select Best 8000 features ----- \n",
      "\n",
      "----- SVC fitting -----\n",
      "----- Select Best 9000 features ----- \n",
      "\n",
      "----- SVC fitting -----\n",
      "----- Select Best 10000 features ----- \n",
      "\n",
      "----- SVC fitting -----\n",
      "----- Select Best 11000 features ----- \n",
      "\n",
      "----- SVC fitting -----\n",
      "----- Select Best 12000 features ----- \n",
      "\n",
      "----- SVC fitting -----\n",
      "----- Select Best 13000 features ----- \n",
      "\n",
      "----- SVC fitting -----\n",
      "----- Select Best 14000 features ----- \n",
      "\n",
      "----- SVC fitting -----\n",
      "----- Select Best 15000 features ----- \n",
      "\n",
      "----- SVC fitting -----\n",
      "Best Feature Selection Size:13000\n",
      "\n",
      "Best Accuracy:0.8254745866503368\n",
      "\n"
     ]
    }
   ],
   "source": [
    "numofBestSVC,scoresSVC = fs.SVC()"
   ]
  },
  {
   "cell_type": "code",
   "execution_count": 22,
   "metadata": {
    "scrolled": true
   },
   "outputs": [
    {
     "name": "stdout",
     "output_type": "stream",
     "text": [
      "----- Select Best 1000 features ----- \n",
      "\n",
      "----- SVC fitting -----\n",
      "----- Select Best 2000 features ----- \n",
      "\n",
      "----- SVC fitting -----\n",
      "----- Select Best 3000 features ----- \n",
      "\n",
      "----- SVC fitting -----\n",
      "----- Select Best 4000 features ----- \n",
      "\n",
      "----- SVC fitting -----\n",
      "----- Select Best 5000 features ----- \n",
      "\n",
      "----- SVC fitting -----\n",
      "----- Select Best 6000 features ----- \n",
      "\n",
      "----- SVC fitting -----\n",
      "----- Select Best 7000 features ----- \n",
      "\n",
      "----- SVC fitting -----\n",
      "----- Select Best 8000 features ----- \n",
      "\n",
      "----- SVC fitting -----\n",
      "----- Select Best 9000 features ----- \n",
      "\n",
      "----- SVC fitting -----\n",
      "----- Select Best 10000 features ----- \n",
      "\n",
      "----- SVC fitting -----\n",
      "----- Select Best 11000 features ----- \n",
      "\n",
      "----- SVC fitting -----\n",
      "----- Select Best 12000 features ----- \n",
      "\n",
      "----- SVC fitting -----\n",
      "----- Select Best 13000 features ----- \n",
      "\n",
      "----- SVC fitting -----\n",
      "----- Select Best 14000 features ----- \n",
      "\n",
      "----- SVC fitting -----\n",
      "----- Select Best 15000 features ----- \n",
      "\n",
      "----- SVC fitting -----\n",
      "Best Feature Selection Sizein second level:13000\n",
      "\n",
      "Best Accuracy in second level:0.7403551745254133\n",
      "\n"
     ]
    }
   ],
   "source": [
    "numofBestndSVC,scoresndSVC = fs.ndLevelSVC()"
   ]
  },
  {
   "cell_type": "code",
   "execution_count": 23,
   "metadata": {},
   "outputs": [
    {
     "data": {
      "image/png": "[encoded data removed]",
      "text/plain": [
       "<Figure size 720x144 with 2 Axes>"
      ]
     },
     "metadata": {
      "needs_background": "light"
     },
     "output_type": "display_data"
    }
   ],
   "source": [
    "plotDifferentNumFeatureInfluence(numofBestMNBC,numofBestndSVC,scoresSVC,scoresndSVC,scoresMNBC,scoresndMNBC,folder[0],3)\n",
    "gram_3MNBC = max(scoresMNBC)\n",
    "gram_3SVC =  max(scoresSVC)\n",
    "NBCGram.append(gram_3MNBC)\n",
    "SVCGram.append(gram_3SVC)"
   ]
  },
  {
   "cell_type": "code",
   "execution_count": 24,
   "metadata": {
    "scrolled": true
   },
   "outputs": [
    {
     "data": {
      "image/png": "[encoded data removed]",
      "text/plain": [
       "<Figure size 432x288 with 1 Axes>"
      ]
     },
     "metadata": {
      "needs_background": "light"
     },
     "output_type": "display_data"
    }
   ],
   "source": [
    "plotDifferentGramInfluence(Gram,NBCGram,SVCGram,folder[0])"
   ]
  },
  {
   "cell_type": "code",
   "execution_count": 25,
   "metadata": {},
   "outputs": [],
   "source": [
    "NBCGram = []\n",
    "SVCGram = []\n",
    "Gram = range(1,4)"
   ]
  },
  {
   "cell_type": "code",
   "execution_count": 26,
   "metadata": {},
   "outputs": [
    {
     "name": "stdout",
     "output_type": "stream",
     "text": [
      "----- OPEN Flipkart data ----- \n",
      "\n",
      "----- Convert train data and test data to vector ----- \n",
      "\n",
      "----- Total # features: 4742 ----- \n",
      "\n"
     ]
    }
   ],
   "source": [
    "num = 1\n",
    "fs = FeatureSelection(num)\n",
    "fs.openFile()\n",
    "fs.tfidfConvert(1)"
   ]
  },
  {
   "cell_type": "code",
   "execution_count": 27,
   "metadata": {},
   "outputs": [
    {
     "name": "stdout",
     "output_type": "stream",
     "text": [
      "----- Select Best 1000 features ----- \n",
      "\n",
      "----- MNB fitting -----\n",
      "----- Select Best 2000 features ----- \n",
      "\n",
      "----- MNB fitting -----\n",
      "----- Select Best 3000 features ----- \n",
      "\n",
      "----- MNB fitting -----\n",
      "----- Select Best 4000 features ----- \n",
      "\n",
      "----- MNB fitting -----\n",
      "Best Feature Selection Size:4000\n",
      "\n",
      "Best Accuracy:0.9706262104583603\n",
      "\n"
     ]
    }
   ],
   "source": [
    "numofBestMNBC,scoresMNBC = fs.MNBC()"
   ]
  },
  {
   "cell_type": "code",
   "execution_count": 28,
   "metadata": {},
   "outputs": [
    {
     "name": "stdout",
     "output_type": "stream",
     "text": [
      "----- Select Best 1000 features ----- \n",
      "\n",
      "----- MNB fitting -----\n",
      "----- Select Best 2000 features ----- \n",
      "\n",
      "----- MNB fitting -----\n",
      "----- Select Best 3000 features ----- \n",
      "\n",
      "----- MNB fitting -----\n",
      "----- Select Best 4000 features ----- \n",
      "\n",
      "----- MNB fitting -----\n",
      "Best Feature Selection Sizein second level:4000\n",
      "\n",
      "Best Accuracy in second level:0.9286636539703034\n",
      "\n"
     ]
    }
   ],
   "source": [
    "numofBestndMNBC,scoresndMNBC = fs.ndLevelMNBC()"
   ]
  },
  {
   "cell_type": "code",
   "execution_count": 29,
   "metadata": {
    "scrolled": true
   },
   "outputs": [
    {
     "name": "stdout",
     "output_type": "stream",
     "text": [
      "----- Select Best 1000 features ----- \n",
      "\n",
      "----- SVC fitting -----\n",
      "----- Select Best 2000 features ----- \n",
      "\n",
      "----- SVC fitting -----\n",
      "----- Select Best 3000 features ----- \n",
      "\n",
      "----- SVC fitting -----\n",
      "----- Select Best 4000 features ----- \n",
      "\n",
      "----- SVC fitting -----\n",
      "Best Feature Selection Size:4000\n",
      "\n",
      "Best Accuracy:0.9903163331181407\n",
      "\n"
     ]
    }
   ],
   "source": [
    "numofBestSVC,scoresSVC = fs.SVC()"
   ]
  },
  {
   "cell_type": "code",
   "execution_count": 30,
   "metadata": {
    "scrolled": true
   },
   "outputs": [
    {
     "name": "stdout",
     "output_type": "stream",
     "text": [
      "----- Select Best 1000 features ----- \n",
      "\n",
      "----- SVC fitting -----\n",
      "----- Select Best 2000 features ----- \n",
      "\n",
      "----- SVC fitting -----\n",
      "----- Select Best 3000 features ----- \n",
      "\n",
      "----- SVC fitting -----\n",
      "----- Select Best 4000 features ----- \n",
      "\n",
      "----- SVC fitting -----\n",
      "Best Feature Selection Sizein second level:4000\n",
      "\n",
      "Best Accuracy in second level:0.9796642995480955\n",
      "\n"
     ]
    }
   ],
   "source": [
    "numofBestndSVC,scoresndSVC = fs.ndLevelSVC()"
   ]
  },
  {
   "cell_type": "code",
   "execution_count": 31,
   "metadata": {},
   "outputs": [
    {
     "data": {
      "image/png": "[encoded data removed]",
      "text/plain": [
       "<Figure size 720x144 with 2 Axes>"
      ]
     },
     "metadata": {
      "needs_background": "light"
     },
     "output_type": "display_data"
    }
   ],
   "source": [
    "plotDifferentNumFeatureInfluence(numofBestMNBC,numofBestndSVC,scoresSVC,scoresndSVC,scoresMNBC,scoresndMNBC,folder[1],1)\n",
    "gram_1MNBC = max(scoresMNBC)\n",
    "gram_1SVC =  max(scoresSVC)\n",
    "NBCGram.append(gram_1MNBC)\n",
    "SVCGram.append(gram_1SVC)"
   ]
  },
  {
   "cell_type": "code",
   "execution_count": 32,
   "metadata": {
    "scrolled": false
   },
   "outputs": [
    {
     "name": "stdout",
     "output_type": "stream",
     "text": [
      "----- OPEN Flipkart data ----- \n",
      "\n",
      "----- Convert train data and test data to vector ----- \n",
      "\n",
      "----- Total # features: 18545 ----- \n",
      "\n"
     ]
    }
   ],
   "source": [
    "num = 1\n",
    "fs = FeatureSelection(num)\n",
    "fs.openFile()\n",
    "fs.tfidfConvert(2)"
   ]
  },
  {
   "cell_type": "code",
   "execution_count": 33,
   "metadata": {},
   "outputs": [
    {
     "name": "stdout",
     "output_type": "stream",
     "text": [
      "----- Select Best 1000 features ----- \n",
      "\n",
      "----- MNB fitting -----\n",
      "----- Select Best 2000 features ----- \n",
      "\n",
      "----- MNB fitting -----\n",
      "----- Select Best 3000 features ----- \n",
      "\n",
      "----- MNB fitting -----\n",
      "----- Select Best 4000 features ----- \n",
      "\n",
      "----- MNB fitting -----\n",
      "----- Select Best 5000 features ----- \n",
      "\n",
      "----- MNB fitting -----\n",
      "----- Select Best 6000 features ----- \n",
      "\n",
      "----- MNB fitting -----\n",
      "----- Select Best 7000 features ----- \n",
      "\n",
      "----- MNB fitting -----\n",
      "----- Select Best 8000 features ----- \n",
      "\n",
      "----- MNB fitting -----\n",
      "----- Select Best 9000 features ----- \n",
      "\n",
      "----- MNB fitting -----\n",
      "----- Select Best 10000 features ----- \n",
      "\n",
      "----- MNB fitting -----\n",
      "----- Select Best 11000 features ----- \n",
      "\n",
      "----- MNB fitting -----\n",
      "----- Select Best 12000 features ----- \n",
      "\n",
      "----- MNB fitting -----\n",
      "----- Select Best 13000 features ----- \n",
      "\n",
      "----- MNB fitting -----\n",
      "----- Select Best 14000 features ----- \n",
      "\n",
      "----- MNB fitting -----\n",
      "----- Select Best 15000 features ----- \n",
      "\n",
      "----- MNB fitting -----\n",
      "----- Select Best 16000 features ----- \n",
      "\n",
      "----- MNB fitting -----\n",
      "----- Select Best 17000 features ----- \n",
      "\n",
      "----- MNB fitting -----\n",
      "----- Select Best 18000 features ----- \n",
      "\n",
      "----- MNB fitting -----\n",
      "Best Feature Selection Size:11000\n",
      "\n",
      "Best Accuracy:0.9761136216914138\n",
      "\n"
     ]
    }
   ],
   "source": [
    "numofBestMNBC,scoresMNBC = fs.MNBC()"
   ]
  },
  {
   "cell_type": "code",
   "execution_count": 34,
   "metadata": {
    "scrolled": true
   },
   "outputs": [
    {
     "name": "stdout",
     "output_type": "stream",
     "text": [
      "----- Select Best 1000 features ----- \n",
      "\n",
      "----- MNB fitting -----\n",
      "----- Select Best 2000 features ----- \n",
      "\n",
      "----- MNB fitting -----\n",
      "----- Select Best 3000 features ----- \n",
      "\n",
      "----- MNB fitting -----\n",
      "----- Select Best 4000 features ----- \n",
      "\n",
      "----- MNB fitting -----\n",
      "----- Select Best 5000 features ----- \n",
      "\n",
      "----- MNB fitting -----\n",
      "----- Select Best 6000 features ----- \n",
      "\n",
      "----- MNB fitting -----\n",
      "----- Select Best 7000 features ----- \n",
      "\n",
      "----- MNB fitting -----\n",
      "----- Select Best 8000 features ----- \n",
      "\n",
      "----- MNB fitting -----\n",
      "----- Select Best 9000 features ----- \n",
      "\n",
      "----- MNB fitting -----\n",
      "----- Select Best 10000 features ----- \n",
      "\n",
      "----- MNB fitting -----\n",
      "----- Select Best 11000 features ----- \n",
      "\n",
      "----- MNB fitting -----\n",
      "----- Select Best 12000 features ----- \n",
      "\n",
      "----- MNB fitting -----\n",
      "----- Select Best 13000 features ----- \n",
      "\n",
      "----- MNB fitting -----\n",
      "----- Select Best 14000 features ----- \n",
      "\n",
      "----- MNB fitting -----\n",
      "----- Select Best 15000 features ----- \n",
      "\n",
      "----- MNB fitting -----\n",
      "----- Select Best 16000 features ----- \n",
      "\n",
      "----- MNB fitting -----\n",
      "----- Select Best 17000 features ----- \n",
      "\n",
      "----- MNB fitting -----\n",
      "----- Select Best 18000 features ----- \n",
      "\n",
      "----- MNB fitting -----\n",
      "Best Feature Selection Sizein second level:16000\n",
      "\n",
      "Best Accuracy in second level:0.9486765655261459\n",
      "\n"
     ]
    }
   ],
   "source": [
    "numofBestndMNBC,scoresndMNBC = fs.ndLevelMNBC()"
   ]
  },
  {
   "cell_type": "code",
   "execution_count": 35,
   "metadata": {
    "scrolled": true
   },
   "outputs": [
    {
     "name": "stdout",
     "output_type": "stream",
     "text": [
      "----- Select Best 1000 features ----- \n",
      "\n",
      "----- SVC fitting -----\n",
      "----- Select Best 2000 features ----- \n",
      "\n",
      "----- SVC fitting -----\n",
      "----- Select Best 3000 features ----- \n",
      "\n",
      "----- SVC fitting -----\n",
      "----- Select Best 4000 features ----- \n",
      "\n",
      "----- SVC fitting -----\n",
      "----- Select Best 5000 features ----- \n",
      "\n",
      "----- SVC fitting -----\n",
      "----- Select Best 6000 features ----- \n",
      "\n",
      "----- SVC fitting -----\n",
      "----- Select Best 7000 features ----- \n",
      "\n",
      "----- SVC fitting -----\n",
      "----- Select Best 8000 features ----- \n",
      "\n",
      "----- SVC fitting -----\n",
      "----- Select Best 9000 features ----- \n",
      "\n",
      "----- SVC fitting -----\n",
      "----- Select Best 10000 features ----- \n",
      "\n",
      "----- SVC fitting -----\n",
      "----- Select Best 11000 features ----- \n",
      "\n",
      "----- SVC fitting -----\n",
      "----- Select Best 12000 features ----- \n",
      "\n",
      "----- SVC fitting -----\n",
      "----- Select Best 13000 features ----- \n",
      "\n",
      "----- SVC fitting -----\n",
      "----- Select Best 14000 features ----- \n",
      "\n",
      "----- SVC fitting -----\n",
      "----- Select Best 15000 features ----- \n",
      "\n",
      "----- SVC fitting -----\n",
      "----- Select Best 16000 features ----- \n",
      "\n",
      "----- SVC fitting -----\n",
      "----- Select Best 17000 features ----- \n",
      "\n",
      "----- SVC fitting -----\n",
      "----- Select Best 18000 features ----- \n",
      "\n",
      "----- SVC fitting -----\n",
      "Best Feature Selection Size:12000\n",
      "\n",
      "Best Accuracy:0.9903163331181407\n",
      "\n"
     ]
    }
   ],
   "source": [
    "numofBestSVC,scoresSVC = fs.SVC()"
   ]
  },
  {
   "cell_type": "code",
   "execution_count": 36,
   "metadata": {
    "scrolled": true
   },
   "outputs": [
    {
     "name": "stdout",
     "output_type": "stream",
     "text": [
      "----- Select Best 1000 features ----- \n",
      "\n",
      "----- SVC fitting -----\n",
      "----- Select Best 2000 features ----- \n",
      "\n",
      "----- SVC fitting -----\n",
      "----- Select Best 3000 features ----- \n",
      "\n",
      "----- SVC fitting -----\n",
      "----- Select Best 4000 features ----- \n",
      "\n",
      "----- SVC fitting -----\n",
      "----- Select Best 5000 features ----- \n",
      "\n",
      "----- SVC fitting -----\n",
      "----- Select Best 6000 features ----- \n",
      "\n",
      "----- SVC fitting -----\n",
      "----- Select Best 7000 features ----- \n",
      "\n",
      "----- SVC fitting -----\n",
      "----- Select Best 8000 features ----- \n",
      "\n",
      "----- SVC fitting -----\n",
      "----- Select Best 9000 features ----- \n",
      "\n",
      "----- SVC fitting -----\n",
      "----- Select Best 10000 features ----- \n",
      "\n",
      "----- SVC fitting -----\n",
      "----- Select Best 11000 features ----- \n",
      "\n",
      "----- SVC fitting -----\n",
      "----- Select Best 12000 features ----- \n",
      "\n",
      "----- SVC fitting -----\n",
      "----- Select Best 13000 features ----- \n",
      "\n",
      "----- SVC fitting -----\n",
      "----- Select Best 14000 features ----- \n",
      "\n",
      "----- SVC fitting -----\n",
      "----- Select Best 15000 features ----- \n",
      "\n",
      "----- SVC fitting -----\n",
      "----- Select Best 16000 features ----- \n",
      "\n",
      "----- SVC fitting -----\n",
      "----- Select Best 17000 features ----- \n",
      "\n",
      "----- SVC fitting -----\n",
      "----- Select Best 18000 features ----- \n",
      "\n",
      "----- SVC fitting -----\n",
      "Best Feature Selection Sizein second level:8000\n",
      "\n",
      "Best Accuracy in second level:0.9828921885087153\n",
      "\n"
     ]
    }
   ],
   "source": [
    "numofBestndSVC,scoresndSVC = fs.ndLevelSVC()"
   ]
  },
  {
   "cell_type": "code",
   "execution_count": 37,
   "metadata": {
    "scrolled": true
   },
   "outputs": [
    {
     "data": {
      "image/png": "[encoded data removed]",
      "text/plain": [
       "<Figure size 720x144 with 2 Axes>"
      ]
     },
     "metadata": {
      "needs_background": "light"
     },
     "output_type": "display_data"
    }
   ],
   "source": [
    "plotDifferentNumFeatureInfluence(numofBestMNBC,numofBestndSVC,scoresSVC,scoresndSVC,scoresMNBC,scoresndMNBC,folder[1],2)\n",
    "gram_2MNBC = max(scoresMNBC)\n",
    "gram_2SVC =  max(scoresSVC)\n",
    "NBCGram.append(gram_2MNBC)\n",
    "SVCGram.append(gram_2SVC)"
   ]
  },
  {
   "cell_type": "code",
   "execution_count": 38,
   "metadata": {},
   "outputs": [
    {
     "name": "stdout",
     "output_type": "stream",
     "text": [
      "----- OPEN Flipkart data ----- \n",
      "\n",
      "----- Convert train data and test data to vector ----- \n",
      "\n",
      "----- Total # features: 33489 ----- \n",
      "\n"
     ]
    }
   ],
   "source": [
    "num = 1\n",
    "fs = FeatureSelection(num)\n",
    "fs.openFile()\n",
    "fs.tfidfConvert(3)"
   ]
  },
  {
   "cell_type": "code",
   "execution_count": 39,
   "metadata": {
    "scrolled": true
   },
   "outputs": [
    {
     "name": "stdout",
     "output_type": "stream",
     "text": [
      "----- Select Best 1000 features ----- \n",
      "\n",
      "----- MNB fitting -----\n",
      "----- Select Best 2000 features ----- \n",
      "\n",
      "----- MNB fitting -----\n",
      "----- Select Best 3000 features ----- \n",
      "\n",
      "----- MNB fitting -----\n",
      "----- Select Best 4000 features ----- \n",
      "\n",
      "----- MNB fitting -----\n",
      "----- Select Best 5000 features ----- \n",
      "\n",
      "----- MNB fitting -----\n",
      "----- Select Best 6000 features ----- \n",
      "\n",
      "----- MNB fitting -----\n",
      "----- Select Best 7000 features ----- \n",
      "\n",
      "----- MNB fitting -----\n",
      "----- Select Best 8000 features ----- \n",
      "\n",
      "----- MNB fitting -----\n",
      "----- Select Best 9000 features ----- \n",
      "\n",
      "----- MNB fitting -----\n",
      "----- Select Best 10000 features ----- \n",
      "\n",
      "----- MNB fitting -----\n",
      "----- Select Best 11000 features ----- \n",
      "\n",
      "----- MNB fitting -----\n",
      "----- Select Best 12000 features ----- \n",
      "\n",
      "----- MNB fitting -----\n",
      "----- Select Best 13000 features ----- \n",
      "\n",
      "----- MNB fitting -----\n",
      "----- Select Best 14000 features ----- \n",
      "\n",
      "----- MNB fitting -----\n",
      "----- Select Best 15000 features ----- \n",
      "\n",
      "----- MNB fitting -----\n",
      "----- Select Best 16000 features ----- \n",
      "\n",
      "----- MNB fitting -----\n",
      "----- Select Best 17000 features ----- \n",
      "\n",
      "----- MNB fitting -----\n",
      "----- Select Best 18000 features ----- \n",
      "\n",
      "----- MNB fitting -----\n",
      "----- Select Best 19000 features ----- \n",
      "\n",
      "----- MNB fitting -----\n",
      "----- Select Best 20000 features ----- \n",
      "\n",
      "----- MNB fitting -----\n",
      "----- Select Best 21000 features ----- \n",
      "\n",
      "----- MNB fitting -----\n",
      "----- Select Best 22000 features ----- \n",
      "\n",
      "----- MNB fitting -----\n",
      "----- Select Best 23000 features ----- \n",
      "\n",
      "----- MNB fitting -----\n",
      "----- Select Best 24000 features ----- \n",
      "\n",
      "----- MNB fitting -----\n",
      "----- Select Best 25000 features ----- \n",
      "\n",
      "----- MNB fitting -----\n",
      "----- Select Best 26000 features ----- \n",
      "\n",
      "----- MNB fitting -----\n",
      "----- Select Best 27000 features ----- \n",
      "\n",
      "----- MNB fitting -----\n",
      "----- Select Best 28000 features ----- \n",
      "\n",
      "----- MNB fitting -----\n",
      "----- Select Best 29000 features ----- \n",
      "\n",
      "----- MNB fitting -----\n",
      "----- Select Best 30000 features ----- \n",
      "\n",
      "----- MNB fitting -----\n",
      "----- Select Best 31000 features ----- \n",
      "\n",
      "----- MNB fitting -----\n",
      "----- Select Best 32000 features ----- \n",
      "\n",
      "----- MNB fitting -----\n",
      "----- Select Best 33000 features ----- \n",
      "\n",
      "----- MNB fitting -----\n",
      "Best Feature Selection Size:16000\n",
      "\n",
      "Best Accuracy:0.9761136216914138\n",
      "\n"
     ]
    }
   ],
   "source": [
    "numofBestMNBC,scoresMNBC = fs.MNBC()"
   ]
  },
  {
   "cell_type": "code",
   "execution_count": 40,
   "metadata": {
    "scrolled": true
   },
   "outputs": [
    {
     "name": "stdout",
     "output_type": "stream",
     "text": [
      "----- Select Best 1000 features ----- \n",
      "\n",
      "----- MNB fitting -----\n",
      "----- Select Best 2000 features ----- \n",
      "\n",
      "----- MNB fitting -----\n",
      "----- Select Best 3000 features ----- \n",
      "\n",
      "----- MNB fitting -----\n",
      "----- Select Best 4000 features ----- \n",
      "\n",
      "----- MNB fitting -----\n",
      "----- Select Best 5000 features ----- \n",
      "\n",
      "----- MNB fitting -----\n",
      "----- Select Best 6000 features ----- \n",
      "\n",
      "----- MNB fitting -----\n",
      "----- Select Best 7000 features ----- \n",
      "\n",
      "----- MNB fitting -----\n",
      "----- Select Best 8000 features ----- \n",
      "\n",
      "----- MNB fitting -----\n",
      "----- Select Best 9000 features ----- \n",
      "\n",
      "----- MNB fitting -----\n",
      "----- Select Best 10000 features ----- \n",
      "\n",
      "----- MNB fitting -----\n",
      "----- Select Best 11000 features ----- \n",
      "\n",
      "----- MNB fitting -----\n",
      "----- Select Best 12000 features ----- \n",
      "\n",
      "----- MNB fitting -----\n",
      "----- Select Best 13000 features ----- \n",
      "\n",
      "----- MNB fitting -----\n",
      "----- Select Best 14000 features ----- \n",
      "\n",
      "----- MNB fitting -----\n",
      "----- Select Best 15000 features ----- \n",
      "\n",
      "----- MNB fitting -----\n",
      "----- Select Best 16000 features ----- \n",
      "\n",
      "----- MNB fitting -----\n",
      "----- Select Best 17000 features ----- \n",
      "\n",
      "----- MNB fitting -----\n",
      "----- Select Best 18000 features ----- \n",
      "\n",
      "----- MNB fitting -----\n",
      "----- Select Best 19000 features ----- \n",
      "\n",
      "----- MNB fitting -----\n",
      "----- Select Best 20000 features ----- \n",
      "\n",
      "----- MNB fitting -----\n",
      "----- Select Best 21000 features ----- \n",
      "\n",
      "----- MNB fitting -----\n",
      "----- Select Best 22000 features ----- \n",
      "\n",
      "----- MNB fitting -----\n",
      "----- Select Best 23000 features ----- \n",
      "\n",
      "----- MNB fitting -----\n",
      "----- Select Best 24000 features ----- \n",
      "\n",
      "----- MNB fitting -----\n",
      "----- Select Best 25000 features ----- \n",
      "\n",
      "----- MNB fitting -----\n",
      "----- Select Best 26000 features ----- \n",
      "\n",
      "----- MNB fitting -----\n",
      "----- Select Best 27000 features ----- \n",
      "\n",
      "----- MNB fitting -----\n",
      "----- Select Best 28000 features ----- \n",
      "\n",
      "----- MNB fitting -----\n",
      "----- Select Best 29000 features ----- \n",
      "\n",
      "----- MNB fitting -----\n",
      "----- Select Best 30000 features ----- \n",
      "\n",
      "----- MNB fitting -----\n",
      "----- Select Best 31000 features ----- \n",
      "\n",
      "----- MNB fitting -----\n",
      "----- Select Best 32000 features ----- \n",
      "\n",
      "----- MNB fitting -----\n",
      "----- Select Best 33000 features ----- \n",
      "\n",
      "----- MNB fitting -----\n",
      "Best Feature Selection Sizein second level:15000\n",
      "\n",
      "Best Accuracy in second level:0.9502905100064558\n",
      "\n"
     ]
    }
   ],
   "source": [
    "numofBestndMNBC,scoresndMNBC = fs.ndLevelMNBC()"
   ]
  },
  {
   "cell_type": "code",
   "execution_count": 41,
   "metadata": {
    "scrolled": true
   },
   "outputs": [
    {
     "name": "stdout",
     "output_type": "stream",
     "text": [
      "----- Select Best 1000 features ----- \n",
      "\n",
      "----- SVC fitting -----\n",
      "----- Select Best 2000 features ----- \n",
      "\n",
      "----- SVC fitting -----\n",
      "----- Select Best 3000 features ----- \n",
      "\n",
      "----- SVC fitting -----\n",
      "----- Select Best 4000 features ----- \n",
      "\n",
      "----- SVC fitting -----\n",
      "----- Select Best 5000 features ----- \n",
      "\n",
      "----- SVC fitting -----\n",
      "----- Select Best 6000 features ----- \n",
      "\n",
      "----- SVC fitting -----\n",
      "----- Select Best 7000 features ----- \n",
      "\n",
      "----- SVC fitting -----\n",
      "----- Select Best 8000 features ----- \n",
      "\n",
      "----- SVC fitting -----\n",
      "----- Select Best 9000 features ----- \n",
      "\n",
      "----- SVC fitting -----\n",
      "----- Select Best 10000 features ----- \n",
      "\n",
      "----- SVC fitting -----\n",
      "----- Select Best 11000 features ----- \n",
      "\n",
      "----- SVC fitting -----\n",
      "----- Select Best 12000 features ----- \n",
      "\n",
      "----- SVC fitting -----\n",
      "----- Select Best 13000 features ----- \n",
      "\n",
      "----- SVC fitting -----\n",
      "----- Select Best 14000 features ----- \n",
      "\n",
      "----- SVC fitting -----\n",
      "----- Select Best 15000 features ----- \n",
      "\n",
      "----- SVC fitting -----\n",
      "----- Select Best 16000 features ----- \n",
      "\n",
      "----- SVC fitting -----\n",
      "----- Select Best 17000 features ----- \n",
      "\n",
      "----- SVC fitting -----\n",
      "----- Select Best 18000 features ----- \n",
      "\n",
      "----- SVC fitting -----\n",
      "----- Select Best 19000 features ----- \n",
      "\n",
      "----- SVC fitting -----\n",
      "----- Select Best 20000 features ----- \n",
      "\n",
      "----- SVC fitting -----\n",
      "----- Select Best 21000 features ----- \n",
      "\n",
      "----- SVC fitting -----\n",
      "----- Select Best 22000 features ----- \n",
      "\n",
      "----- SVC fitting -----\n",
      "----- Select Best 23000 features ----- \n",
      "\n",
      "----- SVC fitting -----\n",
      "----- Select Best 24000 features ----- \n",
      "\n",
      "----- SVC fitting -----\n",
      "----- Select Best 25000 features ----- \n",
      "\n",
      "----- SVC fitting -----\n",
      "----- Select Best 26000 features ----- \n",
      "\n",
      "----- SVC fitting -----\n",
      "----- Select Best 27000 features ----- \n",
      "\n",
      "----- SVC fitting -----\n",
      "----- Select Best 28000 features ----- \n",
      "\n",
      "----- SVC fitting -----\n",
      "----- Select Best 29000 features ----- \n",
      "\n",
      "----- SVC fitting -----\n",
      "----- Select Best 30000 features ----- \n",
      "\n",
      "----- SVC fitting -----\n",
      "----- Select Best 31000 features ----- \n",
      "\n",
      "----- SVC fitting -----\n",
      "----- Select Best 32000 features ----- \n",
      "\n",
      "----- SVC fitting -----\n",
      "----- Select Best 33000 features ----- \n",
      "\n",
      "----- SVC fitting -----\n",
      "Best Feature Selection Size:27000\n",
      "\n",
      "Best Accuracy:0.9906391220142027\n",
      "\n"
     ]
    }
   ],
   "source": [
    "numofBestSVC,scoresSVC = fs.SVC()"
   ]
  },
  {
   "cell_type": "code",
   "execution_count": 42,
   "metadata": {
    "scrolled": true
   },
   "outputs": [
    {
     "name": "stdout",
     "output_type": "stream",
     "text": [
      "----- Select Best 1000 features ----- \n",
      "\n",
      "----- SVC fitting -----\n",
      "----- Select Best 2000 features ----- \n",
      "\n",
      "----- SVC fitting -----\n",
      "----- Select Best 3000 features ----- \n",
      "\n",
      "----- SVC fitting -----\n",
      "----- Select Best 4000 features ----- \n",
      "\n",
      "----- SVC fitting -----\n",
      "----- Select Best 5000 features ----- \n",
      "\n",
      "----- SVC fitting -----\n",
      "----- Select Best 6000 features ----- \n",
      "\n",
      "----- SVC fitting -----\n",
      "----- Select Best 7000 features ----- \n",
      "\n",
      "----- SVC fitting -----\n",
      "----- Select Best 8000 features ----- \n",
      "\n",
      "----- SVC fitting -----\n",
      "----- Select Best 9000 features ----- \n",
      "\n",
      "----- SVC fitting -----\n",
      "----- Select Best 10000 features ----- \n",
      "\n",
      "----- SVC fitting -----\n",
      "----- Select Best 11000 features ----- \n",
      "\n",
      "----- SVC fitting -----\n",
      "----- Select Best 12000 features ----- \n",
      "\n",
      "----- SVC fitting -----\n",
      "----- Select Best 13000 features ----- \n",
      "\n",
      "----- SVC fitting -----\n",
      "----- Select Best 14000 features ----- \n",
      "\n",
      "----- SVC fitting -----\n",
      "----- Select Best 15000 features ----- \n",
      "\n",
      "----- SVC fitting -----\n",
      "----- Select Best 16000 features ----- \n",
      "\n",
      "----- SVC fitting -----\n",
      "----- Select Best 17000 features ----- \n",
      "\n",
      "----- SVC fitting -----\n",
      "----- Select Best 18000 features ----- \n",
      "\n",
      "----- SVC fitting -----\n",
      "----- Select Best 19000 features ----- \n",
      "\n",
      "----- SVC fitting -----\n",
      "----- Select Best 20000 features ----- \n",
      "\n",
      "----- SVC fitting -----\n",
      "----- Select Best 21000 features ----- \n",
      "\n",
      "----- SVC fitting -----\n",
      "----- Select Best 22000 features ----- \n",
      "\n",
      "----- SVC fitting -----\n",
      "----- Select Best 23000 features ----- \n",
      "\n",
      "----- SVC fitting -----\n",
      "----- Select Best 24000 features ----- \n",
      "\n",
      "----- SVC fitting -----\n",
      "----- Select Best 25000 features ----- \n",
      "\n",
      "----- SVC fitting -----\n",
      "----- Select Best 26000 features ----- \n",
      "\n",
      "----- SVC fitting -----\n",
      "----- Select Best 27000 features ----- \n",
      "\n",
      "----- SVC fitting -----\n",
      "----- Select Best 28000 features ----- \n",
      "\n",
      "----- SVC fitting -----\n",
      "----- Select Best 29000 features ----- \n",
      "\n",
      "----- SVC fitting -----\n",
      "----- Select Best 30000 features ----- \n",
      "\n",
      "----- SVC fitting -----\n",
      "----- Select Best 31000 features ----- \n",
      "\n",
      "----- SVC fitting -----\n",
      "----- Select Best 32000 features ----- \n",
      "\n",
      "----- SVC fitting -----\n",
      "----- Select Best 33000 features ----- \n",
      "\n",
      "----- SVC fitting -----\n",
      "Best Feature Selection Sizein second level:16000\n",
      "\n",
      "Best Accuracy in second level:0.9838605551969012\n",
      "\n"
     ]
    }
   ],
   "source": [
    "numofBestndSVC,scoresndSVC = fs.ndLevelSVC()"
   ]
  },
  {
   "cell_type": "code",
   "execution_count": 43,
   "metadata": {},
   "outputs": [
    {
     "data": {
      "image/png": "[encoded data removed]",
      "text/plain": [
       "<Figure size 720x144 with 2 Axes>"
      ]
     },
     "metadata": {
      "needs_background": "light"
     },
     "output_type": "display_data"
    }
   ],
   "source": [
    "plotDifferentNumFeatureInfluence(numofBestMNBC,numofBestndSVC,scoresSVC,scoresndSVC,scoresMNBC,scoresndMNBC,folder[1],3)\n",
    "gram_3MNBC = max(scoresMNBC)\n",
    "gram_3SVC =  max(scoresSVC)\n",
    "NBCGram.append(gram_3MNBC)\n",
    "SVCGram.append(gram_3SVC)"
   ]
  },
  {
   "cell_type": "code",
   "execution_count": 44,
   "metadata": {},
   "outputs": [
    {
     "data": {
      "image/png": "[encoded data removed]",
      "text/plain": [
       "<Figure size 432x288 with 1 Axes>"
      ]
     },
     "metadata": {
      "needs_background": "light"
     },
     "output_type": "display_data"
    }
   ],
   "source": [
    "plotDifferentGramInfluence(Gram,NBCGram,SVCGram,folder[1])"
   ]
  },
  {
   "cell_type": "code",
   "execution_count": 45,
   "metadata": {},
   "outputs": [],
   "source": [
    "NBCGram = []\n",
    "SVCGram = []\n",
    "Gram = range(1,4)"
   ]
  },
  {
   "cell_type": "code",
   "execution_count": 46,
   "metadata": {},
   "outputs": [
    {
     "name": "stdout",
     "output_type": "stream",
     "text": [
      "----- OPEN Combine data ----- \n",
      "\n",
      "----- Convert train data and test data to vector ----- \n",
      "\n",
      "----- Total # features: 9848 ----- \n",
      "\n"
     ]
    }
   ],
   "source": [
    "num = 2\n",
    "fs = FeatureSelection(num)\n",
    "fs.openFile()\n",
    "fs.tfidfConvert(1)"
   ]
  },
  {
   "cell_type": "code",
   "execution_count": 47,
   "metadata": {},
   "outputs": [
    {
     "name": "stdout",
     "output_type": "stream",
     "text": [
      "----- Select Best 1000 features ----- \n",
      "\n",
      "----- MNB fitting -----\n",
      "----- Select Best 2000 features ----- \n",
      "\n",
      "----- MNB fitting -----\n",
      "----- Select Best 3000 features ----- \n",
      "\n",
      "----- MNB fitting -----\n",
      "----- Select Best 4000 features ----- \n",
      "\n",
      "----- MNB fitting -----\n",
      "----- Select Best 5000 features ----- \n",
      "\n",
      "----- MNB fitting -----\n",
      "----- Select Best 6000 features ----- \n",
      "\n",
      "----- MNB fitting -----\n",
      "----- Select Best 7000 features ----- \n",
      "\n",
      "----- MNB fitting -----\n",
      "----- Select Best 8000 features ----- \n",
      "\n",
      "----- MNB fitting -----\n",
      "----- Select Best 9000 features ----- \n",
      "\n",
      "----- MNB fitting -----\n",
      "Best Feature Selection Size:6000\n",
      "\n",
      "Best Accuracy:0.947054698457223\n",
      "\n"
     ]
    }
   ],
   "source": [
    "numofBestMNBC,scoresMNBC = fs.MNBC()"
   ]
  },
  {
   "cell_type": "code",
   "execution_count": 48,
   "metadata": {},
   "outputs": [
    {
     "name": "stdout",
     "output_type": "stream",
     "text": [
      "----- Select Best 1000 features ----- \n",
      "\n",
      "----- MNB fitting -----\n",
      "----- Select Best 2000 features ----- \n",
      "\n",
      "----- MNB fitting -----\n",
      "----- Select Best 3000 features ----- \n",
      "\n",
      "----- MNB fitting -----\n",
      "----- Select Best 4000 features ----- \n",
      "\n",
      "----- MNB fitting -----\n",
      "----- Select Best 5000 features ----- \n",
      "\n",
      "----- MNB fitting -----\n",
      "----- Select Best 6000 features ----- \n",
      "\n",
      "----- MNB fitting -----\n",
      "----- Select Best 7000 features ----- \n",
      "\n",
      "----- MNB fitting -----\n",
      "----- Select Best 8000 features ----- \n",
      "\n",
      "----- MNB fitting -----\n",
      "----- Select Best 9000 features ----- \n",
      "\n",
      "----- MNB fitting -----\n",
      "Best Feature Selection Sizein second level:6000\n",
      "\n",
      "Best Accuracy in second level:0.8970897615708275\n",
      "\n"
     ]
    }
   ],
   "source": [
    "numofBestndMNBC,scoresndMNBC = fs.ndLevelMNBC()"
   ]
  },
  {
   "cell_type": "code",
   "execution_count": 49,
   "metadata": {},
   "outputs": [
    {
     "name": "stdout",
     "output_type": "stream",
     "text": [
      "----- Select Best 1000 features ----- \n",
      "\n",
      "----- SVC fitting -----\n",
      "----- Select Best 2000 features ----- \n",
      "\n",
      "----- SVC fitting -----\n",
      "----- Select Best 3000 features ----- \n",
      "\n",
      "----- SVC fitting -----\n",
      "----- Select Best 4000 features ----- \n",
      "\n",
      "----- SVC fitting -----\n",
      "----- Select Best 5000 features ----- \n",
      "\n",
      "----- SVC fitting -----\n",
      "----- Select Best 6000 features ----- \n",
      "\n",
      "----- SVC fitting -----\n",
      "----- Select Best 7000 features ----- \n",
      "\n",
      "----- SVC fitting -----\n",
      "----- Select Best 8000 features ----- \n",
      "\n",
      "----- SVC fitting -----\n",
      "----- Select Best 9000 features ----- \n",
      "\n",
      "----- SVC fitting -----\n",
      "Best Feature Selection Size:9000\n",
      "\n",
      "Best Accuracy:0.979312762973352\n",
      "\n"
     ]
    }
   ],
   "source": [
    "numofBestSVC,scoresSVC = fs.SVC()"
   ]
  },
  {
   "cell_type": "code",
   "execution_count": 50,
   "metadata": {
    "scrolled": true
   },
   "outputs": [
    {
     "name": "stdout",
     "output_type": "stream",
     "text": [
      "----- Select Best 1000 features ----- \n",
      "\n",
      "----- SVC fitting -----\n",
      "----- Select Best 2000 features ----- \n",
      "\n",
      "----- SVC fitting -----\n",
      "----- Select Best 3000 features ----- \n",
      "\n",
      "----- SVC fitting -----\n",
      "----- Select Best 4000 features ----- \n",
      "\n",
      "----- SVC fitting -----\n",
      "----- Select Best 5000 features ----- \n",
      "\n",
      "----- SVC fitting -----\n",
      "----- Select Best 6000 features ----- \n",
      "\n",
      "----- SVC fitting -----\n",
      "----- Select Best 7000 features ----- \n",
      "\n",
      "----- SVC fitting -----\n",
      "----- Select Best 8000 features ----- \n",
      "\n",
      "----- SVC fitting -----\n",
      "----- Select Best 9000 features ----- \n",
      "\n",
      "----- SVC fitting -----\n",
      "Best Feature Selection Sizein second level:9000\n",
      "\n",
      "Best Accuracy in second level:0.9391654978962132\n",
      "\n"
     ]
    }
   ],
   "source": [
    "numofBestndSVC,scoresndSVC = fs.ndLevelSVC()"
   ]
  },
  {
   "cell_type": "code",
   "execution_count": 51,
   "metadata": {},
   "outputs": [
    {
     "data": {
      "image/png": "[encoded data removed]",
      "text/plain": [
       "<Figure size 720x144 with 2 Axes>"
      ]
     },
     "metadata": {
      "needs_background": "light"
     },
     "output_type": "display_data"
    }
   ],
   "source": [
    "plotDifferentNumFeatureInfluence(numofBestMNBC,numofBestndSVC,scoresSVC,scoresndSVC,scoresMNBC,scoresndMNBC,folder[2],1)\n",
    "gram_1MNBC = max(scoresMNBC)\n",
    "gram_1SVC =  max(scoresSVC)\n",
    "NBCGram.append(gram_1MNBC)\n",
    "SVCGram.append(gram_1SVC)"
   ]
  },
  {
   "cell_type": "code",
   "execution_count": 52,
   "metadata": {},
   "outputs": [
    {
     "name": "stdout",
     "output_type": "stream",
     "text": [
      "----- OPEN Combine data ----- \n",
      "\n",
      "----- Convert train data and test data to vector ----- \n",
      "\n",
      "----- Total # features: 31808 ----- \n",
      "\n"
     ]
    }
   ],
   "source": [
    "num = 2\n",
    "fs = FeatureSelection(num)\n",
    "fs.openFile()\n",
    "fs.tfidfConvert(2)"
   ]
  },
  {
   "cell_type": "code",
   "execution_count": 53,
   "metadata": {},
   "outputs": [
    {
     "name": "stdout",
     "output_type": "stream",
     "text": [
      "----- Select Best 1000 features ----- \n",
      "\n",
      "----- MNB fitting -----\n",
      "----- Select Best 2000 features ----- \n",
      "\n",
      "----- MNB fitting -----\n",
      "----- Select Best 3000 features ----- \n",
      "\n",
      "----- MNB fitting -----\n",
      "----- Select Best 4000 features ----- \n",
      "\n",
      "----- MNB fitting -----\n",
      "----- Select Best 5000 features ----- \n",
      "\n",
      "----- MNB fitting -----\n",
      "----- Select Best 6000 features ----- \n",
      "\n",
      "----- MNB fitting -----\n",
      "----- Select Best 7000 features ----- \n",
      "\n",
      "----- MNB fitting -----\n",
      "----- Select Best 8000 features ----- \n",
      "\n",
      "----- MNB fitting -----\n",
      "----- Select Best 9000 features ----- \n",
      "\n",
      "----- MNB fitting -----\n",
      "----- Select Best 10000 features ----- \n",
      "\n",
      "----- MNB fitting -----\n",
      "----- Select Best 11000 features ----- \n",
      "\n",
      "----- MNB fitting -----\n",
      "----- Select Best 12000 features ----- \n",
      "\n",
      "----- MNB fitting -----\n",
      "----- Select Best 13000 features ----- \n",
      "\n",
      "----- MNB fitting -----\n",
      "----- Select Best 14000 features ----- \n",
      "\n",
      "----- MNB fitting -----\n",
      "----- Select Best 15000 features ----- \n",
      "\n",
      "----- MNB fitting -----\n",
      "----- Select Best 16000 features ----- \n",
      "\n",
      "----- MNB fitting -----\n",
      "----- Select Best 17000 features ----- \n",
      "\n",
      "----- MNB fitting -----\n",
      "----- Select Best 18000 features ----- \n",
      "\n",
      "----- MNB fitting -----\n",
      "----- Select Best 19000 features ----- \n",
      "\n",
      "----- MNB fitting -----\n",
      "----- Select Best 20000 features ----- \n",
      "\n",
      "----- MNB fitting -----\n",
      "----- Select Best 21000 features ----- \n",
      "\n",
      "----- MNB fitting -----\n",
      "----- Select Best 22000 features ----- \n",
      "\n",
      "----- MNB fitting -----\n",
      "----- Select Best 23000 features ----- \n",
      "\n",
      "----- MNB fitting -----\n",
      "----- Select Best 24000 features ----- \n",
      "\n",
      "----- MNB fitting -----\n",
      "----- Select Best 25000 features ----- \n",
      "\n",
      "----- MNB fitting -----\n",
      "----- Select Best 26000 features ----- \n",
      "\n",
      "----- MNB fitting -----\n",
      "----- Select Best 27000 features ----- \n",
      "\n",
      "----- MNB fitting -----\n",
      "----- Select Best 28000 features ----- \n",
      "\n",
      "----- MNB fitting -----\n",
      "----- Select Best 29000 features ----- \n",
      "\n",
      "----- MNB fitting -----\n",
      "----- Select Best 30000 features ----- \n",
      "\n",
      "----- MNB fitting -----\n",
      "----- Select Best 31000 features ----- \n",
      "\n",
      "----- MNB fitting -----\n",
      "Best Feature Selection Size:31000\n",
      "\n",
      "Best Accuracy:0.9580995792426368\n",
      "\n"
     ]
    }
   ],
   "source": [
    "numofBestMNBC,scoresMNBC = fs.MNBC()"
   ]
  },
  {
   "cell_type": "code",
   "execution_count": 54,
   "metadata": {},
   "outputs": [
    {
     "name": "stdout",
     "output_type": "stream",
     "text": [
      "----- Select Best 1000 features ----- \n",
      "\n",
      "----- MNB fitting -----\n",
      "----- Select Best 2000 features ----- \n",
      "\n",
      "----- MNB fitting -----\n",
      "----- Select Best 3000 features ----- \n",
      "\n",
      "----- MNB fitting -----\n",
      "----- Select Best 4000 features ----- \n",
      "\n",
      "----- MNB fitting -----\n",
      "----- Select Best 5000 features ----- \n",
      "\n",
      "----- MNB fitting -----\n",
      "----- Select Best 6000 features ----- \n",
      "\n",
      "----- MNB fitting -----\n",
      "----- Select Best 7000 features ----- \n",
      "\n",
      "----- MNB fitting -----\n",
      "----- Select Best 8000 features ----- \n",
      "\n",
      "----- MNB fitting -----\n",
      "----- Select Best 9000 features ----- \n",
      "\n",
      "----- MNB fitting -----\n",
      "----- Select Best 10000 features ----- \n",
      "\n",
      "----- MNB fitting -----\n",
      "----- Select Best 11000 features ----- \n",
      "\n",
      "----- MNB fitting -----\n",
      "----- Select Best 12000 features ----- \n",
      "\n",
      "----- MNB fitting -----\n",
      "----- Select Best 13000 features ----- \n",
      "\n",
      "----- MNB fitting -----\n",
      "----- Select Best 14000 features ----- \n",
      "\n",
      "----- MNB fitting -----\n",
      "----- Select Best 15000 features ----- \n",
      "\n",
      "----- MNB fitting -----\n",
      "----- Select Best 16000 features ----- \n",
      "\n",
      "----- MNB fitting -----\n",
      "----- Select Best 17000 features ----- \n",
      "\n",
      "----- MNB fitting -----\n",
      "----- Select Best 18000 features ----- \n",
      "\n",
      "----- MNB fitting -----\n",
      "----- Select Best 19000 features ----- \n",
      "\n",
      "----- MNB fitting -----\n",
      "----- Select Best 20000 features ----- \n",
      "\n",
      "----- MNB fitting -----\n",
      "----- Select Best 21000 features ----- \n",
      "\n",
      "----- MNB fitting -----\n",
      "----- Select Best 22000 features ----- \n",
      "\n",
      "----- MNB fitting -----\n",
      "----- Select Best 23000 features ----- \n",
      "\n",
      "----- MNB fitting -----\n",
      "----- Select Best 24000 features ----- \n",
      "\n",
      "----- MNB fitting -----\n",
      "----- Select Best 25000 features ----- \n",
      "\n",
      "----- MNB fitting -----\n",
      "----- Select Best 26000 features ----- \n",
      "\n",
      "----- MNB fitting -----\n",
      "----- Select Best 27000 features ----- \n",
      "\n",
      "----- MNB fitting -----\n",
      "----- Select Best 28000 features ----- \n",
      "\n",
      "----- MNB fitting -----\n",
      "----- Select Best 29000 features ----- \n",
      "\n",
      "----- MNB fitting -----\n",
      "----- Select Best 30000 features ----- \n",
      "\n",
      "----- MNB fitting -----\n",
      "----- Select Best 31000 features ----- \n",
      "\n",
      "----- MNB fitting -----\n",
      "Best Feature Selection Sizein second level:30000\n",
      "\n",
      "Best Accuracy in second level:0.907608695652174\n",
      "\n"
     ]
    }
   ],
   "source": [
    "numofBestndMNBC,scoresndMNBC = fs.ndLevelMNBC()"
   ]
  },
  {
   "cell_type": "code",
   "execution_count": 55,
   "metadata": {},
   "outputs": [
    {
     "name": "stdout",
     "output_type": "stream",
     "text": [
      "----- Select Best 1000 features ----- \n",
      "\n",
      "----- SVC fitting -----\n",
      "----- Select Best 2000 features ----- \n",
      "\n",
      "----- SVC fitting -----\n",
      "----- Select Best 3000 features ----- \n",
      "\n",
      "----- SVC fitting -----\n",
      "----- Select Best 4000 features ----- \n",
      "\n",
      "----- SVC fitting -----\n",
      "----- Select Best 5000 features ----- \n",
      "\n",
      "----- SVC fitting -----\n",
      "----- Select Best 6000 features ----- \n",
      "\n",
      "----- SVC fitting -----\n",
      "----- Select Best 7000 features ----- \n",
      "\n",
      "----- SVC fitting -----\n",
      "----- Select Best 8000 features ----- \n",
      "\n",
      "----- SVC fitting -----\n",
      "----- Select Best 9000 features ----- \n",
      "\n",
      "----- SVC fitting -----\n",
      "----- Select Best 10000 features ----- \n",
      "\n",
      "----- SVC fitting -----\n",
      "----- Select Best 11000 features ----- \n",
      "\n",
      "----- SVC fitting -----\n",
      "----- Select Best 12000 features ----- \n",
      "\n",
      "----- SVC fitting -----\n",
      "----- Select Best 13000 features ----- \n",
      "\n",
      "----- SVC fitting -----\n",
      "----- Select Best 14000 features ----- \n",
      "\n",
      "----- SVC fitting -----\n",
      "----- Select Best 15000 features ----- \n",
      "\n",
      "----- SVC fitting -----\n",
      "----- Select Best 16000 features ----- \n",
      "\n",
      "----- SVC fitting -----\n",
      "----- Select Best 17000 features ----- \n",
      "\n",
      "----- SVC fitting -----\n",
      "----- Select Best 18000 features ----- \n",
      "\n",
      "----- SVC fitting -----\n",
      "----- Select Best 19000 features ----- \n",
      "\n",
      "----- SVC fitting -----\n",
      "----- Select Best 20000 features ----- \n",
      "\n",
      "----- SVC fitting -----\n",
      "----- Select Best 21000 features ----- \n",
      "\n",
      "----- SVC fitting -----\n",
      "----- Select Best 22000 features ----- \n",
      "\n",
      "----- SVC fitting -----\n",
      "----- Select Best 23000 features ----- \n",
      "\n",
      "----- SVC fitting -----\n",
      "----- Select Best 24000 features ----- \n",
      "\n",
      "----- SVC fitting -----\n",
      "----- Select Best 25000 features ----- \n",
      "\n",
      "----- SVC fitting -----\n",
      "----- Select Best 26000 features ----- \n",
      "\n",
      "----- SVC fitting -----\n",
      "----- Select Best 27000 features ----- \n",
      "\n",
      "----- SVC fitting -----\n",
      "----- Select Best 28000 features ----- \n",
      "\n",
      "----- SVC fitting -----\n",
      "----- Select Best 29000 features ----- \n",
      "\n",
      "----- SVC fitting -----\n",
      "----- Select Best 30000 features ----- \n",
      "\n",
      "----- SVC fitting -----\n",
      "----- Select Best 31000 features ----- \n",
      "\n",
      "----- SVC fitting -----\n",
      "Best Feature Selection Size:22000\n",
      "\n",
      "Best Accuracy:0.9821178120617111\n",
      "\n"
     ]
    }
   ],
   "source": [
    "numofBestSVC,scoresSVC = fs.SVC()"
   ]
  },
  {
   "cell_type": "code",
   "execution_count": 56,
   "metadata": {
    "scrolled": true
   },
   "outputs": [
    {
     "name": "stdout",
     "output_type": "stream",
     "text": [
      "----- Select Best 1000 features ----- \n",
      "\n",
      "----- SVC fitting -----\n",
      "----- Select Best 2000 features ----- \n",
      "\n",
      "----- SVC fitting -----\n",
      "----- Select Best 3000 features ----- \n",
      "\n",
      "----- SVC fitting -----\n",
      "----- Select Best 4000 features ----- \n",
      "\n",
      "----- SVC fitting -----\n",
      "----- Select Best 5000 features ----- \n",
      "\n",
      "----- SVC fitting -----\n",
      "----- Select Best 6000 features ----- \n",
      "\n",
      "----- SVC fitting -----\n",
      "----- Select Best 7000 features ----- \n",
      "\n",
      "----- SVC fitting -----\n",
      "----- Select Best 8000 features ----- \n",
      "\n",
      "----- SVC fitting -----\n",
      "----- Select Best 9000 features ----- \n",
      "\n",
      "----- SVC fitting -----\n",
      "----- Select Best 10000 features ----- \n",
      "\n",
      "----- SVC fitting -----\n",
      "----- Select Best 11000 features ----- \n",
      "\n",
      "----- SVC fitting -----\n",
      "----- Select Best 12000 features ----- \n",
      "\n",
      "----- SVC fitting -----\n",
      "----- Select Best 13000 features ----- \n",
      "\n",
      "----- SVC fitting -----\n",
      "----- Select Best 14000 features ----- \n",
      "\n",
      "----- SVC fitting -----\n",
      "----- Select Best 15000 features ----- \n",
      "\n",
      "----- SVC fitting -----\n",
      "----- Select Best 16000 features ----- \n",
      "\n",
      "----- SVC fitting -----\n",
      "----- Select Best 17000 features ----- \n",
      "\n",
      "----- SVC fitting -----\n",
      "----- Select Best 18000 features ----- \n",
      "\n",
      "----- SVC fitting -----\n",
      "----- Select Best 19000 features ----- \n",
      "\n",
      "----- SVC fitting -----\n",
      "----- Select Best 20000 features ----- \n",
      "\n",
      "----- SVC fitting -----\n",
      "----- Select Best 21000 features ----- \n",
      "\n",
      "----- SVC fitting -----\n",
      "----- Select Best 22000 features ----- \n",
      "\n",
      "----- SVC fitting -----\n",
      "----- Select Best 23000 features ----- \n",
      "\n",
      "----- SVC fitting -----\n",
      "----- Select Best 24000 features ----- \n",
      "\n",
      "----- SVC fitting -----\n",
      "----- Select Best 25000 features ----- \n",
      "\n",
      "----- SVC fitting -----\n",
      "----- Select Best 26000 features ----- \n",
      "\n",
      "----- SVC fitting -----\n",
      "----- Select Best 27000 features ----- \n",
      "\n",
      "----- SVC fitting -----\n",
      "----- Select Best 28000 features ----- \n",
      "\n",
      "----- SVC fitting -----\n",
      "----- Select Best 29000 features ----- \n",
      "\n",
      "----- SVC fitting -----\n",
      "----- Select Best 30000 features ----- \n",
      "\n",
      "----- SVC fitting -----\n",
      "----- Select Best 31000 features ----- \n",
      "\n",
      "----- SVC fitting -----\n",
      "Best Feature Selection Sizein second level:31000\n",
      "\n",
      "Best Accuracy in second level:0.9449509116409537\n",
      "\n"
     ]
    }
   ],
   "source": [
    "numofBestndSVC,scoresndSVC = fs.ndLevelSVC()"
   ]
  },
  {
   "cell_type": "code",
   "execution_count": 57,
   "metadata": {},
   "outputs": [
    {
     "data": {
      "image/png": "[encoded data removed]",
      "text/plain": [
       "<Figure size 720x144 with 2 Axes>"
      ]
     },
     "metadata": {
      "needs_background": "light"
     },
     "output_type": "display_data"
    }
   ],
   "source": [
    "plotDifferentNumFeatureInfluence(numofBestMNBC,numofBestndSVC,scoresSVC,scoresndSVC,scoresMNBC,scoresndMNBC,folder[2],2)\n",
    "gram_2MNBC = max(scoresMNBC)\n",
    "gram_2SVC =  max(scoresSVC)\n",
    "NBCGram.append(gram_2MNBC)\n",
    "SVCGram.append(gram_2SVC)"
   ]
  },
  {
   "cell_type": "code",
   "execution_count": 58,
   "metadata": {},
   "outputs": [
    {
     "name": "stdout",
     "output_type": "stream",
     "text": [
      "----- OPEN Combine data ----- \n",
      "\n",
      "----- Convert train data and test data to vector ----- \n",
      "\n",
      "----- Total # features: 52529 ----- \n",
      "\n"
     ]
    }
   ],
   "source": [
    "num = 2\n",
    "fs = FeatureSelection(num)\n",
    "fs.openFile()\n",
    "fs.tfidfConvert(3)"
   ]
  },
  {
   "cell_type": "code",
   "execution_count": 59,
   "metadata": {},
   "outputs": [
    {
     "name": "stdout",
     "output_type": "stream",
     "text": [
      "----- Select Best 1000 features ----- \n",
      "\n",
      "----- MNB fitting -----\n",
      "----- Select Best 2000 features ----- \n",
      "\n",
      "----- MNB fitting -----\n",
      "----- Select Best 3000 features ----- \n",
      "\n",
      "----- MNB fitting -----\n",
      "----- Select Best 4000 features ----- \n",
      "\n",
      "----- MNB fitting -----\n",
      "----- Select Best 5000 features ----- \n",
      "\n",
      "----- MNB fitting -----\n",
      "----- Select Best 6000 features ----- \n",
      "\n",
      "----- MNB fitting -----\n",
      "----- Select Best 7000 features ----- \n",
      "\n",
      "----- MNB fitting -----\n",
      "----- Select Best 8000 features ----- \n",
      "\n",
      "----- MNB fitting -----\n",
      "----- Select Best 9000 features ----- \n",
      "\n",
      "----- MNB fitting -----\n",
      "----- Select Best 10000 features ----- \n",
      "\n",
      "----- MNB fitting -----\n",
      "----- Select Best 11000 features ----- \n",
      "\n",
      "----- MNB fitting -----\n",
      "----- Select Best 12000 features ----- \n",
      "\n",
      "----- MNB fitting -----\n",
      "----- Select Best 13000 features ----- \n",
      "\n",
      "----- MNB fitting -----\n",
      "----- Select Best 14000 features ----- \n",
      "\n",
      "----- MNB fitting -----\n",
      "----- Select Best 15000 features ----- \n",
      "\n",
      "----- MNB fitting -----\n",
      "----- Select Best 16000 features ----- \n",
      "\n",
      "----- MNB fitting -----\n",
      "----- Select Best 17000 features ----- \n",
      "\n",
      "----- MNB fitting -----\n",
      "----- Select Best 18000 features ----- \n",
      "\n",
      "----- MNB fitting -----\n",
      "----- Select Best 19000 features ----- \n",
      "\n",
      "----- MNB fitting -----\n",
      "----- Select Best 20000 features ----- \n",
      "\n",
      "----- MNB fitting -----\n",
      "----- Select Best 21000 features ----- \n",
      "\n",
      "----- MNB fitting -----\n",
      "----- Select Best 22000 features ----- \n",
      "\n",
      "----- MNB fitting -----\n",
      "----- Select Best 23000 features ----- \n",
      "\n",
      "----- MNB fitting -----\n",
      "----- Select Best 24000 features ----- \n",
      "\n",
      "----- MNB fitting -----\n",
      "----- Select Best 25000 features ----- \n",
      "\n",
      "----- MNB fitting -----\n",
      "----- Select Best 26000 features ----- \n",
      "\n",
      "----- MNB fitting -----\n",
      "----- Select Best 27000 features ----- \n",
      "\n",
      "----- MNB fitting -----\n",
      "----- Select Best 28000 features ----- \n",
      "\n",
      "----- MNB fitting -----\n",
      "----- Select Best 29000 features ----- \n",
      "\n",
      "----- MNB fitting -----\n",
      "----- Select Best 30000 features ----- \n",
      "\n",
      "----- MNB fitting -----\n",
      "----- Select Best 31000 features ----- \n",
      "\n",
      "----- MNB fitting -----\n",
      "----- Select Best 32000 features ----- \n",
      "\n",
      "----- MNB fitting -----\n",
      "----- Select Best 33000 features ----- \n",
      "\n",
      "----- MNB fitting -----\n",
      "----- Select Best 34000 features ----- \n",
      "\n",
      "----- MNB fitting -----\n",
      "----- Select Best 35000 features ----- \n",
      "\n",
      "----- MNB fitting -----\n",
      "----- Select Best 36000 features ----- \n",
      "\n",
      "----- MNB fitting -----\n",
      "----- Select Best 37000 features ----- \n",
      "\n",
      "----- MNB fitting -----\n",
      "----- Select Best 38000 features ----- \n",
      "\n",
      "----- MNB fitting -----\n",
      "----- Select Best 39000 features ----- \n",
      "\n",
      "----- MNB fitting -----\n",
      "----- Select Best 40000 features ----- \n",
      "\n",
      "----- MNB fitting -----\n",
      "----- Select Best 41000 features ----- \n",
      "\n",
      "----- MNB fitting -----\n",
      "----- Select Best 42000 features ----- \n",
      "\n",
      "----- MNB fitting -----\n",
      "----- Select Best 43000 features ----- \n",
      "\n",
      "----- MNB fitting -----\n",
      "----- Select Best 44000 features ----- \n",
      "\n",
      "----- MNB fitting -----\n",
      "----- Select Best 45000 features ----- \n",
      "\n",
      "----- MNB fitting -----\n",
      "----- Select Best 46000 features ----- \n",
      "\n",
      "----- MNB fitting -----\n",
      "----- Select Best 47000 features ----- \n",
      "\n",
      "----- MNB fitting -----\n",
      "----- Select Best 48000 features ----- \n",
      "\n",
      "----- MNB fitting -----\n",
      "----- Select Best 49000 features ----- \n",
      "\n",
      "----- MNB fitting -----\n",
      "----- Select Best 50000 features ----- \n",
      "\n",
      "----- MNB fitting -----\n",
      "----- Select Best 51000 features ----- \n",
      "\n",
      "----- MNB fitting -----\n",
      "----- Select Best 52000 features ----- \n",
      "\n",
      "----- MNB fitting -----\n",
      "Best Feature Selection Size:39000\n",
      "\n",
      "Best Accuracy:0.9575736325385694\n",
      "\n"
     ]
    }
   ],
   "source": [
    "numofBestMNBC,scoresMNBC = fs.MNBC()"
   ]
  },
  {
   "cell_type": "code",
   "execution_count": 60,
   "metadata": {},
   "outputs": [
    {
     "name": "stdout",
     "output_type": "stream",
     "text": [
      "----- Select Best 1000 features ----- \n",
      "\n",
      "----- MNB fitting -----\n",
      "----- Select Best 2000 features ----- \n",
      "\n",
      "----- MNB fitting -----\n",
      "----- Select Best 3000 features ----- \n",
      "\n",
      "----- MNB fitting -----\n",
      "----- Select Best 4000 features ----- \n",
      "\n",
      "----- MNB fitting -----\n",
      "----- Select Best 5000 features ----- \n",
      "\n",
      "----- MNB fitting -----\n",
      "----- Select Best 6000 features ----- \n",
      "\n",
      "----- MNB fitting -----\n",
      "----- Select Best 7000 features ----- \n",
      "\n",
      "----- MNB fitting -----\n",
      "----- Select Best 8000 features ----- \n",
      "\n",
      "----- MNB fitting -----\n",
      "----- Select Best 9000 features ----- \n",
      "\n",
      "----- MNB fitting -----\n",
      "----- Select Best 10000 features ----- \n",
      "\n",
      "----- MNB fitting -----\n",
      "----- Select Best 11000 features ----- \n",
      "\n",
      "----- MNB fitting -----\n",
      "----- Select Best 12000 features ----- \n",
      "\n",
      "----- MNB fitting -----\n",
      "----- Select Best 13000 features ----- \n",
      "\n",
      "----- MNB fitting -----\n",
      "----- Select Best 14000 features ----- \n",
      "\n",
      "----- MNB fitting -----\n",
      "----- Select Best 15000 features ----- \n",
      "\n",
      "----- MNB fitting -----\n",
      "----- Select Best 16000 features ----- \n",
      "\n",
      "----- MNB fitting -----\n",
      "----- Select Best 17000 features ----- \n",
      "\n",
      "----- MNB fitting -----\n",
      "----- Select Best 18000 features ----- \n",
      "\n",
      "----- MNB fitting -----\n",
      "----- Select Best 19000 features ----- \n",
      "\n",
      "----- MNB fitting -----\n",
      "----- Select Best 20000 features ----- \n",
      "\n",
      "----- MNB fitting -----\n",
      "----- Select Best 21000 features ----- \n",
      "\n",
      "----- MNB fitting -----\n",
      "----- Select Best 22000 features ----- \n",
      "\n",
      "----- MNB fitting -----\n",
      "----- Select Best 23000 features ----- \n",
      "\n",
      "----- MNB fitting -----\n",
      "----- Select Best 24000 features ----- \n",
      "\n",
      "----- MNB fitting -----\n",
      "----- Select Best 25000 features ----- \n",
      "\n",
      "----- MNB fitting -----\n",
      "----- Select Best 26000 features ----- \n",
      "\n",
      "----- MNB fitting -----\n",
      "----- Select Best 27000 features ----- \n",
      "\n",
      "----- MNB fitting -----\n",
      "----- Select Best 28000 features ----- \n",
      "\n",
      "----- MNB fitting -----\n",
      "----- Select Best 29000 features ----- \n",
      "\n",
      "----- MNB fitting -----\n",
      "----- Select Best 30000 features ----- \n",
      "\n",
      "----- MNB fitting -----\n",
      "----- Select Best 31000 features ----- \n",
      "\n",
      "----- MNB fitting -----\n",
      "----- Select Best 32000 features ----- \n",
      "\n",
      "----- MNB fitting -----\n",
      "----- Select Best 33000 features ----- \n",
      "\n",
      "----- MNB fitting -----\n",
      "----- Select Best 34000 features ----- \n",
      "\n",
      "----- MNB fitting -----\n",
      "----- Select Best 35000 features ----- \n",
      "\n",
      "----- MNB fitting -----\n",
      "----- Select Best 36000 features ----- \n",
      "\n",
      "----- MNB fitting -----\n",
      "----- Select Best 37000 features ----- \n",
      "\n",
      "----- MNB fitting -----\n",
      "----- Select Best 38000 features ----- \n",
      "\n",
      "----- MNB fitting -----\n",
      "----- Select Best 39000 features ----- \n",
      "\n",
      "----- MNB fitting -----\n",
      "----- Select Best 40000 features ----- \n",
      "\n",
      "----- MNB fitting -----\n",
      "----- Select Best 41000 features ----- \n",
      "\n",
      "----- MNB fitting -----\n",
      "----- Select Best 42000 features ----- \n",
      "\n",
      "----- MNB fitting -----\n",
      "----- Select Best 43000 features ----- \n",
      "\n",
      "----- MNB fitting -----\n",
      "----- Select Best 44000 features ----- \n",
      "\n",
      "----- MNB fitting -----\n",
      "----- Select Best 45000 features ----- \n",
      "\n",
      "----- MNB fitting -----\n",
      "----- Select Best 46000 features ----- \n",
      "\n",
      "----- MNB fitting -----\n",
      "----- Select Best 47000 features ----- \n",
      "\n",
      "----- MNB fitting -----\n",
      "----- Select Best 48000 features ----- \n",
      "\n",
      "----- MNB fitting -----\n",
      "----- Select Best 49000 features ----- \n",
      "\n",
      "----- MNB fitting -----\n",
      "----- Select Best 50000 features ----- \n",
      "\n",
      "----- MNB fitting -----\n",
      "----- Select Best 51000 features ----- \n",
      "\n",
      "----- MNB fitting -----\n",
      "----- Select Best 52000 features ----- \n",
      "\n",
      "----- MNB fitting -----\n",
      "Best Feature Selection Sizein second level:51000\n",
      "\n",
      "Best Accuracy in second level:0.9049789621318373\n",
      "\n"
     ]
    }
   ],
   "source": [
    "numofBestndMNBC,scoresndMNBC = fs.ndLevelMNBC()"
   ]
  },
  {
   "cell_type": "code",
   "execution_count": 61,
   "metadata": {},
   "outputs": [
    {
     "name": "stdout",
     "output_type": "stream",
     "text": [
      "----- Select Best 1000 features ----- \n",
      "\n",
      "----- SVC fitting -----\n",
      "----- Select Best 2000 features ----- \n",
      "\n",
      "----- SVC fitting -----\n",
      "----- Select Best 3000 features ----- \n",
      "\n",
      "----- SVC fitting -----\n",
      "----- Select Best 4000 features ----- \n",
      "\n",
      "----- SVC fitting -----\n",
      "----- Select Best 5000 features ----- \n",
      "\n",
      "----- SVC fitting -----\n",
      "----- Select Best 6000 features ----- \n",
      "\n",
      "----- SVC fitting -----\n",
      "----- Select Best 7000 features ----- \n",
      "\n",
      "----- SVC fitting -----\n",
      "----- Select Best 8000 features ----- \n",
      "\n",
      "----- SVC fitting -----\n",
      "----- Select Best 9000 features ----- \n",
      "\n",
      "----- SVC fitting -----\n",
      "----- Select Best 10000 features ----- \n",
      "\n",
      "----- SVC fitting -----\n",
      "----- Select Best 11000 features ----- \n",
      "\n",
      "----- SVC fitting -----\n",
      "----- Select Best 12000 features ----- \n",
      "\n",
      "----- SVC fitting -----\n",
      "----- Select Best 13000 features ----- \n",
      "\n",
      "----- SVC fitting -----\n",
      "----- Select Best 14000 features ----- \n",
      "\n",
      "----- SVC fitting -----\n",
      "----- Select Best 15000 features ----- \n",
      "\n",
      "----- SVC fitting -----\n",
      "----- Select Best 16000 features ----- \n",
      "\n",
      "----- SVC fitting -----\n",
      "----- Select Best 17000 features ----- \n",
      "\n",
      "----- SVC fitting -----\n",
      "----- Select Best 18000 features ----- \n",
      "\n",
      "----- SVC fitting -----\n",
      "----- Select Best 19000 features ----- \n",
      "\n",
      "----- SVC fitting -----\n",
      "----- Select Best 20000 features ----- \n",
      "\n",
      "----- SVC fitting -----\n",
      "----- Select Best 21000 features ----- \n",
      "\n",
      "----- SVC fitting -----\n",
      "----- Select Best 22000 features ----- \n",
      "\n",
      "----- SVC fitting -----\n",
      "----- Select Best 23000 features ----- \n",
      "\n",
      "----- SVC fitting -----\n",
      "----- Select Best 24000 features ----- \n",
      "\n",
      "----- SVC fitting -----\n",
      "----- Select Best 25000 features ----- \n",
      "\n",
      "----- SVC fitting -----\n",
      "----- Select Best 26000 features ----- \n",
      "\n",
      "----- SVC fitting -----\n",
      "----- Select Best 27000 features ----- \n",
      "\n",
      "----- SVC fitting -----\n",
      "----- Select Best 28000 features ----- \n",
      "\n",
      "----- SVC fitting -----\n",
      "----- Select Best 29000 features ----- \n",
      "\n",
      "----- SVC fitting -----\n",
      "----- Select Best 30000 features ----- \n",
      "\n",
      "----- SVC fitting -----\n",
      "----- Select Best 31000 features ----- \n",
      "\n",
      "----- SVC fitting -----\n",
      "----- Select Best 32000 features ----- \n",
      "\n",
      "----- SVC fitting -----\n",
      "----- Select Best 33000 features ----- \n",
      "\n",
      "----- SVC fitting -----\n",
      "----- Select Best 34000 features ----- \n",
      "\n",
      "----- SVC fitting -----\n",
      "----- Select Best 35000 features ----- \n",
      "\n",
      "----- SVC fitting -----\n",
      "----- Select Best 36000 features ----- \n",
      "\n",
      "----- SVC fitting -----\n",
      "----- Select Best 37000 features ----- \n",
      "\n",
      "----- SVC fitting -----\n",
      "----- Select Best 38000 features ----- \n",
      "\n",
      "----- SVC fitting -----\n",
      "----- Select Best 39000 features ----- \n",
      "\n",
      "----- SVC fitting -----\n",
      "----- Select Best 40000 features ----- \n",
      "\n",
      "----- SVC fitting -----\n",
      "----- Select Best 41000 features ----- \n",
      "\n",
      "----- SVC fitting -----\n",
      "----- Select Best 42000 features ----- \n",
      "\n",
      "----- SVC fitting -----\n",
      "----- Select Best 43000 features ----- \n",
      "\n",
      "----- SVC fitting -----\n",
      "----- Select Best 44000 features ----- \n",
      "\n",
      "----- SVC fitting -----\n",
      "----- Select Best 45000 features ----- \n",
      "\n",
      "----- SVC fitting -----\n",
      "----- Select Best 46000 features ----- \n",
      "\n",
      "----- SVC fitting -----\n",
      "----- Select Best 47000 features ----- \n",
      "\n",
      "----- SVC fitting -----\n",
      "----- Select Best 48000 features ----- \n",
      "\n",
      "----- SVC fitting -----\n",
      "----- Select Best 49000 features ----- \n",
      "\n",
      "----- SVC fitting -----\n",
      "----- Select Best 50000 features ----- \n",
      "\n",
      "----- SVC fitting -----\n",
      "----- Select Best 51000 features ----- \n",
      "\n",
      "----- SVC fitting -----\n",
      "----- Select Best 52000 features ----- \n",
      "\n",
      "----- SVC fitting -----\n",
      "Best Feature Selection Size:32000\n",
      "\n",
      "Best Accuracy:0.982468443197756\n",
      "\n"
     ]
    }
   ],
   "source": [
    "numofBestSVC,scoresSVC = fs.SVC()"
   ]
  },
  {
   "cell_type": "code",
   "execution_count": 62,
   "metadata": {
    "scrolled": true
   },
   "outputs": [
    {
     "name": "stdout",
     "output_type": "stream",
     "text": [
      "----- Select Best 1000 features ----- \n",
      "\n",
      "----- SVC fitting -----\n",
      "----- Select Best 2000 features ----- \n",
      "\n",
      "----- SVC fitting -----\n",
      "----- Select Best 3000 features ----- \n",
      "\n",
      "----- SVC fitting -----\n",
      "----- Select Best 4000 features ----- \n",
      "\n",
      "----- SVC fitting -----\n",
      "----- Select Best 5000 features ----- \n",
      "\n",
      "----- SVC fitting -----\n",
      "----- Select Best 6000 features ----- \n",
      "\n",
      "----- SVC fitting -----\n",
      "----- Select Best 7000 features ----- \n",
      "\n",
      "----- SVC fitting -----\n",
      "----- Select Best 8000 features ----- \n",
      "\n",
      "----- SVC fitting -----\n",
      "----- Select Best 9000 features ----- \n",
      "\n",
      "----- SVC fitting -----\n",
      "----- Select Best 10000 features ----- \n",
      "\n",
      "----- SVC fitting -----\n",
      "----- Select Best 11000 features ----- \n",
      "\n",
      "----- SVC fitting -----\n",
      "----- Select Best 12000 features ----- \n",
      "\n",
      "----- SVC fitting -----\n",
      "----- Select Best 13000 features ----- \n",
      "\n",
      "----- SVC fitting -----\n",
      "----- Select Best 14000 features ----- \n",
      "\n",
      "----- SVC fitting -----\n",
      "----- Select Best 15000 features ----- \n",
      "\n",
      "----- SVC fitting -----\n",
      "----- Select Best 16000 features ----- \n",
      "\n",
      "----- SVC fitting -----\n",
      "----- Select Best 17000 features ----- \n",
      "\n",
      "----- SVC fitting -----\n",
      "----- Select Best 18000 features ----- \n",
      "\n",
      "----- SVC fitting -----\n",
      "----- Select Best 19000 features ----- \n",
      "\n",
      "----- SVC fitting -----\n",
      "----- Select Best 20000 features ----- \n",
      "\n",
      "----- SVC fitting -----\n",
      "----- Select Best 21000 features ----- \n",
      "\n",
      "----- SVC fitting -----\n",
      "----- Select Best 22000 features ----- \n",
      "\n",
      "----- SVC fitting -----\n",
      "----- Select Best 23000 features ----- \n",
      "\n",
      "----- SVC fitting -----\n",
      "----- Select Best 24000 features ----- \n",
      "\n",
      "----- SVC fitting -----\n",
      "----- Select Best 25000 features ----- \n",
      "\n",
      "----- SVC fitting -----\n",
      "----- Select Best 26000 features ----- \n",
      "\n",
      "----- SVC fitting -----\n",
      "----- Select Best 27000 features ----- \n",
      "\n",
      "----- SVC fitting -----\n",
      "----- Select Best 28000 features ----- \n",
      "\n",
      "----- SVC fitting -----\n",
      "----- Select Best 29000 features ----- \n",
      "\n",
      "----- SVC fitting -----\n",
      "----- Select Best 30000 features ----- \n",
      "\n",
      "----- SVC fitting -----\n",
      "----- Select Best 31000 features ----- \n",
      "\n",
      "----- SVC fitting -----\n",
      "----- Select Best 32000 features ----- \n",
      "\n",
      "----- SVC fitting -----\n",
      "----- Select Best 33000 features ----- \n",
      "\n",
      "----- SVC fitting -----\n",
      "----- Select Best 34000 features ----- \n",
      "\n",
      "----- SVC fitting -----\n",
      "----- Select Best 35000 features ----- \n",
      "\n",
      "----- SVC fitting -----\n",
      "----- Select Best 36000 features ----- \n",
      "\n",
      "----- SVC fitting -----\n",
      "----- Select Best 37000 features ----- \n",
      "\n",
      "----- SVC fitting -----\n",
      "----- Select Best 38000 features ----- \n",
      "\n",
      "----- SVC fitting -----\n",
      "----- Select Best 39000 features ----- \n",
      "\n",
      "----- SVC fitting -----\n",
      "----- Select Best 40000 features ----- \n",
      "\n",
      "----- SVC fitting -----\n",
      "----- Select Best 41000 features ----- \n",
      "\n",
      "----- SVC fitting -----\n",
      "----- Select Best 42000 features ----- \n",
      "\n",
      "----- SVC fitting -----\n",
      "----- Select Best 43000 features ----- \n",
      "\n",
      "----- SVC fitting -----\n",
      "----- Select Best 44000 features ----- \n",
      "\n",
      "----- SVC fitting -----\n",
      "----- Select Best 45000 features ----- \n",
      "\n",
      "----- SVC fitting -----\n",
      "----- Select Best 46000 features ----- \n",
      "\n",
      "----- SVC fitting -----\n",
      "----- Select Best 47000 features ----- \n",
      "\n",
      "----- SVC fitting -----\n",
      "----- Select Best 48000 features ----- \n",
      "\n",
      "----- SVC fitting -----\n",
      "----- Select Best 49000 features ----- \n",
      "\n",
      "----- SVC fitting -----\n",
      "----- Select Best 50000 features ----- \n",
      "\n",
      "----- SVC fitting -----\n",
      "----- Select Best 51000 features ----- \n",
      "\n",
      "----- SVC fitting -----\n",
      "----- Select Best 52000 features ----- \n",
      "\n",
      "----- SVC fitting -----\n",
      "Best Feature Selection Sizein second level:43000\n",
      "\n",
      "Best Accuracy in second level:0.9458274894810659\n",
      "\n"
     ]
    }
   ],
   "source": [
    "numofBestndSVC,scoresndSVC = fs.ndLevelSVC()"
   ]
  },
  {
   "cell_type": "code",
   "execution_count": 63,
   "metadata": {},
   "outputs": [
    {
     "data": {
      "image/png": "[encoded data removed]",
      "text/plain": [
       "<Figure size 720x144 with 2 Axes>"
      ]
     },
     "metadata": {
      "needs_background": "light"
     },
     "output_type": "display_data"
    }
   ],
   "source": [
    "plotDifferentNumFeatureInfluence(numofBestMNBC,numofBestndSVC,scoresSVC,scoresndSVC,scoresMNBC,scoresndMNBC,folder[2],3)\n",
    "gram_3MNBC = max(scoresMNBC)\n",
    "gram_3SVC =  max(scoresSVC)\n",
    "NBCGram.append(gram_3MNBC)\n",
    "SVCGram.append(gram_3SVC)"
   ]
  },
  {
   "cell_type": "code",
   "execution_count": 64,
   "metadata": {},
   "outputs": [
    {
     "data": {
      "image/png": "[encoded data removed]",
      "text/plain": [
       "<Figure size 432x288 with 1 Axes>"
      ]
     },
     "metadata": {
      "needs_background": "light"
     },
     "output_type": "display_data"
    }
   ],
   "source": [
    "plotDifferentGramInfluence(Gram,NBCGram,SVCGram,folder[2])"
   ]
  },
  {
   "cell_type": "code",
   "execution_count": 65,
   "metadata": {},
   "outputs": [],
   "source": [
    "NBCGram = []\n",
    "SVCGram = []\n",
    "Gram = range(1,4)"
   ]
  },
  {
   "cell_type": "code",
   "execution_count": 66,
   "metadata": {},
   "outputs": [
    {
     "name": "stdout",
     "output_type": "stream",
     "text": [
      "----- OPEN Walmart data ----- \n",
      "\n",
      "----- Convert train data and test data to vector ----- \n",
      "\n",
      "----- Total # features: 24650 ----- \n",
      "\n"
     ]
    }
   ],
   "source": [
    "num = 3\n",
    "fs = FeatureSelection(num)\n",
    "fs.openFile()\n",
    "fs.tfidfConvert(1)"
   ]
  },
  {
   "cell_type": "code",
   "execution_count": 67,
   "metadata": {},
   "outputs": [
    {
     "name": "stdout",
     "output_type": "stream",
     "text": [
      "----- Select Best 1000 features ----- \n",
      "\n",
      "----- MNB fitting -----\n",
      "----- Select Best 2000 features ----- \n",
      "\n",
      "----- MNB fitting -----\n",
      "----- Select Best 3000 features ----- \n",
      "\n",
      "----- MNB fitting -----\n",
      "----- Select Best 4000 features ----- \n",
      "\n",
      "----- MNB fitting -----\n",
      "----- Select Best 5000 features ----- \n",
      "\n",
      "----- MNB fitting -----\n",
      "----- Select Best 6000 features ----- \n",
      "\n",
      "----- MNB fitting -----\n",
      "----- Select Best 7000 features ----- \n",
      "\n",
      "----- MNB fitting -----\n",
      "----- Select Best 8000 features ----- \n",
      "\n",
      "----- MNB fitting -----\n",
      "----- Select Best 9000 features ----- \n",
      "\n",
      "----- MNB fitting -----\n",
      "----- Select Best 10000 features ----- \n",
      "\n",
      "----- MNB fitting -----\n",
      "----- Select Best 11000 features ----- \n",
      "\n",
      "----- MNB fitting -----\n",
      "----- Select Best 12000 features ----- \n",
      "\n",
      "----- MNB fitting -----\n",
      "----- Select Best 13000 features ----- \n",
      "\n",
      "----- MNB fitting -----\n",
      "----- Select Best 14000 features ----- \n",
      "\n",
      "----- MNB fitting -----\n",
      "----- Select Best 15000 features ----- \n",
      "\n",
      "----- MNB fitting -----\n",
      "----- Select Best 16000 features ----- \n",
      "\n",
      "----- MNB fitting -----\n",
      "----- Select Best 17000 features ----- \n",
      "\n",
      "----- MNB fitting -----\n",
      "----- Select Best 18000 features ----- \n",
      "\n",
      "----- MNB fitting -----\n",
      "----- Select Best 19000 features ----- \n",
      "\n",
      "----- MNB fitting -----\n",
      "----- Select Best 20000 features ----- \n",
      "\n",
      "----- MNB fitting -----\n",
      "----- Select Best 21000 features ----- \n",
      "\n",
      "----- MNB fitting -----\n",
      "----- Select Best 22000 features ----- \n",
      "\n",
      "----- MNB fitting -----\n",
      "----- Select Best 23000 features ----- \n",
      "\n",
      "----- MNB fitting -----\n",
      "----- Select Best 24000 features ----- \n",
      "\n",
      "----- MNB fitting -----\n",
      "Best Feature Selection Size:24000\n",
      "\n",
      "Best Accuracy:0.8417713434106877\n",
      "\n"
     ]
    }
   ],
   "source": [
    "numofBestMNBC,scoresMNBC = fs.MNBC()"
   ]
  },
  {
   "cell_type": "code",
   "execution_count": 68,
   "metadata": {},
   "outputs": [
    {
     "name": "stdout",
     "output_type": "stream",
     "text": [
      "----- Select Best 1000 features ----- \n",
      "\n",
      "----- MNB fitting -----\n",
      "----- Select Best 2000 features ----- \n",
      "\n",
      "----- MNB fitting -----\n",
      "----- Select Best 3000 features ----- \n",
      "\n",
      "----- MNB fitting -----\n",
      "----- Select Best 4000 features ----- \n",
      "\n",
      "----- MNB fitting -----\n",
      "----- Select Best 5000 features ----- \n",
      "\n",
      "----- MNB fitting -----\n",
      "----- Select Best 6000 features ----- \n",
      "\n",
      "----- MNB fitting -----\n",
      "----- Select Best 7000 features ----- \n",
      "\n",
      "----- MNB fitting -----\n",
      "----- Select Best 8000 features ----- \n",
      "\n",
      "----- MNB fitting -----\n",
      "----- Select Best 9000 features ----- \n",
      "\n",
      "----- MNB fitting -----\n",
      "----- Select Best 10000 features ----- \n",
      "\n",
      "----- MNB fitting -----\n",
      "----- Select Best 11000 features ----- \n",
      "\n",
      "----- MNB fitting -----\n",
      "----- Select Best 12000 features ----- \n",
      "\n",
      "----- MNB fitting -----\n",
      "----- Select Best 13000 features ----- \n",
      "\n",
      "----- MNB fitting -----\n",
      "----- Select Best 14000 features ----- \n",
      "\n",
      "----- MNB fitting -----\n",
      "----- Select Best 15000 features ----- \n",
      "\n",
      "----- MNB fitting -----\n",
      "----- Select Best 16000 features ----- \n",
      "\n",
      "----- MNB fitting -----\n",
      "----- Select Best 17000 features ----- \n",
      "\n",
      "----- MNB fitting -----\n",
      "----- Select Best 18000 features ----- \n",
      "\n",
      "----- MNB fitting -----\n",
      "----- Select Best 19000 features ----- \n",
      "\n",
      "----- MNB fitting -----\n",
      "----- Select Best 20000 features ----- \n",
      "\n",
      "----- MNB fitting -----\n",
      "----- Select Best 21000 features ----- \n",
      "\n",
      "----- MNB fitting -----\n",
      "----- Select Best 22000 features ----- \n",
      "\n",
      "----- MNB fitting -----\n",
      "----- Select Best 23000 features ----- \n",
      "\n",
      "----- MNB fitting -----\n",
      "----- Select Best 24000 features ----- \n",
      "\n",
      "----- MNB fitting -----\n",
      "Best Feature Selection Sizein second level:24000\n",
      "\n",
      "Best Accuracy in second level:0.69972322759208\n",
      "\n"
     ]
    }
   ],
   "source": [
    "numofBestndMNBC,scoresndMNBC = fs.ndLevelMNBC()"
   ]
  },
  {
   "cell_type": "code",
   "execution_count": 69,
   "metadata": {},
   "outputs": [
    {
     "name": "stdout",
     "output_type": "stream",
     "text": [
      "----- Select Best 1000 features ----- \n",
      "\n",
      "----- SVC fitting -----\n"
     ]
    },
    {
     "name": "stderr",
     "output_type": "stream",
     "text": [
      "/Users/apple/Desktop/projects/uob-msc50-project/classification/lib/python3.6/site-packages/sklearn/svm/base.py:931: ConvergenceWarning: Liblinear failed to converge, increase the number of iterations.\n",
      "  \"the number of iterations.\", ConvergenceWarning)\n"
     ]
    },
    {
     "name": "stdout",
     "output_type": "stream",
     "text": [
      "----- Select Best 2000 features ----- \n",
      "\n",
      "----- SVC fitting -----\n"
     ]
    },
    {
     "name": "stderr",
     "output_type": "stream",
     "text": [
      "/Users/apple/Desktop/projects/uob-msc50-project/classification/lib/python3.6/site-packages/sklearn/svm/base.py:931: ConvergenceWarning: Liblinear failed to converge, increase the number of iterations.\n",
      "  \"the number of iterations.\", ConvergenceWarning)\n"
     ]
    },
    {
     "name": "stdout",
     "output_type": "stream",
     "text": [
      "----- Select Best 3000 features ----- \n",
      "\n",
      "----- SVC fitting -----\n"
     ]
    },
    {
     "name": "stderr",
     "output_type": "stream",
     "text": [
      "/Users/apple/Desktop/projects/uob-msc50-project/classification/lib/python3.6/site-packages/sklearn/svm/base.py:931: ConvergenceWarning: Liblinear failed to converge, increase the number of iterations.\n",
      "  \"the number of iterations.\", ConvergenceWarning)\n"
     ]
    },
    {
     "name": "stdout",
     "output_type": "stream",
     "text": [
      "----- Select Best 4000 features ----- \n",
      "\n",
      "----- SVC fitting -----\n"
     ]
    },
    {
     "name": "stderr",
     "output_type": "stream",
     "text": [
      "/Users/apple/Desktop/projects/uob-msc50-project/classification/lib/python3.6/site-packages/sklearn/svm/base.py:931: ConvergenceWarning: Liblinear failed to converge, increase the number of iterations.\n",
      "  \"the number of iterations.\", ConvergenceWarning)\n"
     ]
    },
    {
     "name": "stdout",
     "output_type": "stream",
     "text": [
      "----- Select Best 5000 features ----- \n",
      "\n",
      "----- SVC fitting -----\n"
     ]
    },
    {
     "name": "stderr",
     "output_type": "stream",
     "text": [
      "/Users/apple/Desktop/projects/uob-msc50-project/classification/lib/python3.6/site-packages/sklearn/svm/base.py:931: ConvergenceWarning: Liblinear failed to converge, increase the number of iterations.\n",
      "  \"the number of iterations.\", ConvergenceWarning)\n"
     ]
    },
    {
     "name": "stdout",
     "output_type": "stream",
     "text": [
      "----- Select Best 6000 features ----- \n",
      "\n",
      "----- SVC fitting -----\n"
     ]
    },
    {
     "name": "stderr",
     "output_type": "stream",
     "text": [
      "/Users/apple/Desktop/projects/uob-msc50-project/classification/lib/python3.6/site-packages/sklearn/svm/base.py:931: ConvergenceWarning: Liblinear failed to converge, increase the number of iterations.\n",
      "  \"the number of iterations.\", ConvergenceWarning)\n"
     ]
    },
    {
     "name": "stdout",
     "output_type": "stream",
     "text": [
      "----- Select Best 7000 features ----- \n",
      "\n",
      "----- SVC fitting -----\n"
     ]
    },
    {
     "name": "stderr",
     "output_type": "stream",
     "text": [
      "/Users/apple/Desktop/projects/uob-msc50-project/classification/lib/python3.6/site-packages/sklearn/svm/base.py:931: ConvergenceWarning: Liblinear failed to converge, increase the number of iterations.\n",
      "  \"the number of iterations.\", ConvergenceWarning)\n"
     ]
    },
    {
     "name": "stdout",
     "output_type": "stream",
     "text": [
      "----- Select Best 8000 features ----- \n",
      "\n",
      "----- SVC fitting -----\n"
     ]
    },
    {
     "name": "stderr",
     "output_type": "stream",
     "text": [
      "/Users/apple/Desktop/projects/uob-msc50-project/classification/lib/python3.6/site-packages/sklearn/svm/base.py:931: ConvergenceWarning: Liblinear failed to converge, increase the number of iterations.\n",
      "  \"the number of iterations.\", ConvergenceWarning)\n"
     ]
    },
    {
     "name": "stdout",
     "output_type": "stream",
     "text": [
      "----- Select Best 9000 features ----- \n",
      "\n",
      "----- SVC fitting -----\n"
     ]
    },
    {
     "name": "stderr",
     "output_type": "stream",
     "text": [
      "/Users/apple/Desktop/projects/uob-msc50-project/classification/lib/python3.6/site-packages/sklearn/svm/base.py:931: ConvergenceWarning: Liblinear failed to converge, increase the number of iterations.\n",
      "  \"the number of iterations.\", ConvergenceWarning)\n"
     ]
    },
    {
     "name": "stdout",
     "output_type": "stream",
     "text": [
      "----- Select Best 10000 features ----- \n",
      "\n",
      "----- SVC fitting -----\n"
     ]
    },
    {
     "name": "stderr",
     "output_type": "stream",
     "text": [
      "/Users/apple/Desktop/projects/uob-msc50-project/classification/lib/python3.6/site-packages/sklearn/svm/base.py:931: ConvergenceWarning: Liblinear failed to converge, increase the number of iterations.\n",
      "  \"the number of iterations.\", ConvergenceWarning)\n"
     ]
    },
    {
     "name": "stdout",
     "output_type": "stream",
     "text": [
      "----- Select Best 11000 features ----- \n",
      "\n",
      "----- SVC fitting -----\n"
     ]
    },
    {
     "name": "stderr",
     "output_type": "stream",
     "text": [
      "/Users/apple/Desktop/projects/uob-msc50-project/classification/lib/python3.6/site-packages/sklearn/svm/base.py:931: ConvergenceWarning: Liblinear failed to converge, increase the number of iterations.\n",
      "  \"the number of iterations.\", ConvergenceWarning)\n"
     ]
    },
    {
     "name": "stdout",
     "output_type": "stream",
     "text": [
      "----- Select Best 12000 features ----- \n",
      "\n",
      "----- SVC fitting -----\n"
     ]
    },
    {
     "name": "stderr",
     "output_type": "stream",
     "text": [
      "/Users/apple/Desktop/projects/uob-msc50-project/classification/lib/python3.6/site-packages/sklearn/svm/base.py:931: ConvergenceWarning: Liblinear failed to converge, increase the number of iterations.\n",
      "  \"the number of iterations.\", ConvergenceWarning)\n"
     ]
    },
    {
     "name": "stdout",
     "output_type": "stream",
     "text": [
      "----- Select Best 13000 features ----- \n",
      "\n",
      "----- SVC fitting -----\n"
     ]
    },
    {
     "name": "stderr",
     "output_type": "stream",
     "text": [
      "/Users/apple/Desktop/projects/uob-msc50-project/classification/lib/python3.6/site-packages/sklearn/svm/base.py:931: ConvergenceWarning: Liblinear failed to converge, increase the number of iterations.\n",
      "  \"the number of iterations.\", ConvergenceWarning)\n"
     ]
    },
    {
     "name": "stdout",
     "output_type": "stream",
     "text": [
      "----- Select Best 14000 features ----- \n",
      "\n",
      "----- SVC fitting -----\n"
     ]
    },
    {
     "name": "stderr",
     "output_type": "stream",
     "text": [
      "/Users/apple/Desktop/projects/uob-msc50-project/classification/lib/python3.6/site-packages/sklearn/svm/base.py:931: ConvergenceWarning: Liblinear failed to converge, increase the number of iterations.\n",
      "  \"the number of iterations.\", ConvergenceWarning)\n"
     ]
    },
    {
     "name": "stdout",
     "output_type": "stream",
     "text": [
      "----- Select Best 15000 features ----- \n",
      "\n",
      "----- SVC fitting -----\n"
     ]
    },
    {
     "name": "stderr",
     "output_type": "stream",
     "text": [
      "/Users/apple/Desktop/projects/uob-msc50-project/classification/lib/python3.6/site-packages/sklearn/svm/base.py:931: ConvergenceWarning: Liblinear failed to converge, increase the number of iterations.\n",
      "  \"the number of iterations.\", ConvergenceWarning)\n"
     ]
    },
    {
     "name": "stdout",
     "output_type": "stream",
     "text": [
      "----- Select Best 16000 features ----- \n",
      "\n",
      "----- SVC fitting -----\n"
     ]
    },
    {
     "name": "stderr",
     "output_type": "stream",
     "text": [
      "/Users/apple/Desktop/projects/uob-msc50-project/classification/lib/python3.6/site-packages/sklearn/svm/base.py:931: ConvergenceWarning: Liblinear failed to converge, increase the number of iterations.\n",
      "  \"the number of iterations.\", ConvergenceWarning)\n"
     ]
    },
    {
     "name": "stdout",
     "output_type": "stream",
     "text": [
      "----- Select Best 17000 features ----- \n",
      "\n",
      "----- SVC fitting -----\n"
     ]
    },
    {
     "name": "stderr",
     "output_type": "stream",
     "text": [
      "/Users/apple/Desktop/projects/uob-msc50-project/classification/lib/python3.6/site-packages/sklearn/svm/base.py:931: ConvergenceWarning: Liblinear failed to converge, increase the number of iterations.\n",
      "  \"the number of iterations.\", ConvergenceWarning)\n"
     ]
    },
    {
     "name": "stdout",
     "output_type": "stream",
     "text": [
      "----- Select Best 18000 features ----- \n",
      "\n",
      "----- SVC fitting -----\n"
     ]
    },
    {
     "name": "stderr",
     "output_type": "stream",
     "text": [
      "/Users/apple/Desktop/projects/uob-msc50-project/classification/lib/python3.6/site-packages/sklearn/svm/base.py:931: ConvergenceWarning: Liblinear failed to converge, increase the number of iterations.\n",
      "  \"the number of iterations.\", ConvergenceWarning)\n"
     ]
    },
    {
     "name": "stdout",
     "output_type": "stream",
     "text": [
      "----- Select Best 19000 features ----- \n",
      "\n",
      "----- SVC fitting -----\n"
     ]
    },
    {
     "name": "stderr",
     "output_type": "stream",
     "text": [
      "/Users/apple/Desktop/projects/uob-msc50-project/classification/lib/python3.6/site-packages/sklearn/svm/base.py:931: ConvergenceWarning: Liblinear failed to converge, increase the number of iterations.\n",
      "  \"the number of iterations.\", ConvergenceWarning)\n"
     ]
    },
    {
     "name": "stdout",
     "output_type": "stream",
     "text": [
      "----- Select Best 20000 features ----- \n",
      "\n",
      "----- SVC fitting -----\n"
     ]
    },
    {
     "name": "stderr",
     "output_type": "stream",
     "text": [
      "/Users/apple/Desktop/projects/uob-msc50-project/classification/lib/python3.6/site-packages/sklearn/svm/base.py:931: ConvergenceWarning: Liblinear failed to converge, increase the number of iterations.\n",
      "  \"the number of iterations.\", ConvergenceWarning)\n"
     ]
    },
    {
     "name": "stdout",
     "output_type": "stream",
     "text": [
      "----- Select Best 21000 features ----- \n",
      "\n",
      "----- SVC fitting -----\n"
     ]
    },
    {
     "name": "stderr",
     "output_type": "stream",
     "text": [
      "/Users/apple/Desktop/projects/uob-msc50-project/classification/lib/python3.6/site-packages/sklearn/svm/base.py:931: ConvergenceWarning: Liblinear failed to converge, increase the number of iterations.\n",
      "  \"the number of iterations.\", ConvergenceWarning)\n"
     ]
    },
    {
     "name": "stdout",
     "output_type": "stream",
     "text": [
      "----- Select Best 22000 features ----- \n",
      "\n",
      "----- SVC fitting -----\n"
     ]
    },
    {
     "name": "stderr",
     "output_type": "stream",
     "text": [
      "/Users/apple/Desktop/projects/uob-msc50-project/classification/lib/python3.6/site-packages/sklearn/svm/base.py:931: ConvergenceWarning: Liblinear failed to converge, increase the number of iterations.\n",
      "  \"the number of iterations.\", ConvergenceWarning)\n"
     ]
    },
    {
     "name": "stdout",
     "output_type": "stream",
     "text": [
      "----- Select Best 23000 features ----- \n",
      "\n",
      "----- SVC fitting -----\n"
     ]
    },
    {
     "name": "stderr",
     "output_type": "stream",
     "text": [
      "/Users/apple/Desktop/projects/uob-msc50-project/classification/lib/python3.6/site-packages/sklearn/svm/base.py:931: ConvergenceWarning: Liblinear failed to converge, increase the number of iterations.\n",
      "  \"the number of iterations.\", ConvergenceWarning)\n"
     ]
    },
    {
     "name": "stdout",
     "output_type": "stream",
     "text": [
      "----- Select Best 24000 features ----- \n",
      "\n",
      "----- SVC fitting -----\n",
      "Best Feature Selection Size:24000\n",
      "\n",
      "Best Accuracy:0.8930806898020013\n",
      "\n"
     ]
    },
    {
     "name": "stderr",
     "output_type": "stream",
     "text": [
      "/Users/apple/Desktop/projects/uob-msc50-project/classification/lib/python3.6/site-packages/sklearn/svm/base.py:931: ConvergenceWarning: Liblinear failed to converge, increase the number of iterations.\n",
      "  \"the number of iterations.\", ConvergenceWarning)\n"
     ]
    }
   ],
   "source": [
    "numofBestSVC,scoresSVC = fs.SVC()"
   ]
  },
  {
   "cell_type": "code",
   "execution_count": 70,
   "metadata": {
    "scrolled": true
   },
   "outputs": [
    {
     "name": "stdout",
     "output_type": "stream",
     "text": [
      "----- Select Best 1000 features ----- \n",
      "\n",
      "----- SVC fitting -----\n",
      "----- Select Best 2000 features ----- \n",
      "\n",
      "----- SVC fitting -----\n",
      "----- Select Best 3000 features ----- \n",
      "\n",
      "----- SVC fitting -----\n",
      "----- Select Best 4000 features ----- \n",
      "\n",
      "----- SVC fitting -----\n",
      "----- Select Best 5000 features ----- \n",
      "\n",
      "----- SVC fitting -----\n",
      "----- Select Best 6000 features ----- \n",
      "\n",
      "----- SVC fitting -----\n",
      "----- Select Best 7000 features ----- \n",
      "\n",
      "----- SVC fitting -----\n",
      "----- Select Best 8000 features ----- \n",
      "\n",
      "----- SVC fitting -----\n",
      "----- Select Best 9000 features ----- \n",
      "\n",
      "----- SVC fitting -----\n",
      "----- Select Best 10000 features ----- \n",
      "\n",
      "----- SVC fitting -----\n",
      "----- Select Best 11000 features ----- \n",
      "\n",
      "----- SVC fitting -----\n",
      "----- Select Best 12000 features ----- \n",
      "\n",
      "----- SVC fitting -----\n",
      "----- Select Best 13000 features ----- \n",
      "\n",
      "----- SVC fitting -----\n",
      "----- Select Best 14000 features ----- \n",
      "\n",
      "----- SVC fitting -----\n",
      "----- Select Best 15000 features ----- \n",
      "\n",
      "----- SVC fitting -----\n",
      "----- Select Best 16000 features ----- \n",
      "\n",
      "----- SVC fitting -----\n",
      "----- Select Best 17000 features ----- \n",
      "\n",
      "----- SVC fitting -----\n",
      "----- Select Best 18000 features ----- \n",
      "\n",
      "----- SVC fitting -----\n",
      "----- Select Best 19000 features ----- \n",
      "\n",
      "----- SVC fitting -----\n",
      "----- Select Best 20000 features ----- \n",
      "\n",
      "----- SVC fitting -----\n",
      "----- Select Best 21000 features ----- \n",
      "\n",
      "----- SVC fitting -----\n",
      "----- Select Best 22000 features ----- \n",
      "\n",
      "----- SVC fitting -----\n",
      "----- Select Best 23000 features ----- \n",
      "\n",
      "----- SVC fitting -----\n",
      "----- Select Best 24000 features ----- \n",
      "\n",
      "----- SVC fitting -----\n",
      "Best Feature Selection Sizein second level:24000\n",
      "\n",
      "Best Accuracy in second level:0.750904832872046\n",
      "\n"
     ]
    }
   ],
   "source": [
    "numofBestndSVC,scoresndSVC = fs.ndLevelSVC()"
   ]
  },
  {
   "cell_type": "code",
   "execution_count": 71,
   "metadata": {},
   "outputs": [
    {
     "data": {
      "image/png": "[encoded data removed]",
      "text/plain": [
       "<Figure size 720x144 with 2 Axes>"
      ]
     },
     "metadata": {
      "needs_background": "light"
     },
     "output_type": "display_data"
    }
   ],
   "source": [
    "plotDifferentNumFeatureInfluence(numofBestMNBC,numofBestndSVC,scoresSVC,scoresndSVC,scoresMNBC,scoresndMNBC,folder[3],1)\n",
    "gram_1MNBC = max(scoresMNBC)\n",
    "gram_1SVC =  max(scoresSVC)\n",
    "NBCGram.append(gram_1MNBC)\n",
    "SVCGram.append(gram_1SVC)"
   ]
  }
 ],
 "metadata": {
  "kernelspec": {
   "display_name": "Python 3",
   "language": "python",
   "name": "python3"
  },
  "language_info": {
   "codemirror_mode": {
    "name": "ipython",
    "version": 3
   },
   "file_extension": ".py",
   "mimetype": "text/x-python",
   "name": "python",
   "nbconvert_exporter": "python",
   "pygments_lexer": "ipython3",
   "version": "3.6.8"
  }
 },
 "nbformat": 4,
 "nbformat_minor": 2
}
