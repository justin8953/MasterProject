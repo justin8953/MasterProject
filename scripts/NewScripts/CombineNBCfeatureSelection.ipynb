{
 "cells": [
  {
   "cell_type": "code",
   "execution_count": 1,
   "metadata": {},
   "outputs": [
    {
     "name": "stderr",
     "output_type": "stream",
     "text": [
      "Using TensorFlow backend.\n"
     ]
    }
   ],
   "source": [
    "import pandas as pd \n",
    "import numpy as np\n",
    "import os \n",
    "import json\n",
    "from math import ceil, floor\n",
    "\n",
    "from sklearn.model_selection import train_test_split\n",
    "from sklearn.feature_selection import SelectKBest,chi2\n",
    "\n",
    "from sklearn.preprocessing import LabelEncoder,scale\n",
    "from sklearn.feature_extraction.text import TfidfVectorizer  \n",
    "from sklearn.naive_bayes import ComplementNB\n",
    "from sklearn.svm import LinearSVC\n",
    "from sklearn.metrics import classification_report,confusion_matrix,accuracy_score\n",
    "from sklearn.utils.multiclass import unique_labels\n",
    "\n",
    "from sklearn.pipeline import Pipeline\n",
    "from sklearn.externals import joblib\n",
    "\n",
    "import matplotlib.pyplot as plt\n",
    "plt.rcParams.update({'font.size': 11})\n",
    "\n",
    "import re\n",
    "import nltk\n",
    "from nltk.corpus import stopwords\n",
    "\n",
    "\n",
    "from keras.preprocessing.text import Tokenizer\n",
    "from keras.preprocessing.sequence import pad_sequences\n",
    "from keras.utils import to_categorical\n",
    "from keras.models import Sequential\n",
    "from keras.layers import Activation, Conv1D, Dense, Embedding, Flatten, Input, Dropout, GlobalMaxPooling1D\n",
    "from keras.metrics import categorical_accuracy\n",
    "from keras.callbacks import  EarlyStopping\n"
   ]
  },
  {
   "cell_type": "code",
   "execution_count": 2,
   "metadata": {},
   "outputs": [],
   "source": [
    "REPLACE_BY_SPACE_RE = re.compile('[/(){}\\[\\]\\|@,;-]')\n",
    "BAD_SYMBOLS_RE = re.compile('[^0-9a-z #+_]')\n",
    "STOPWORDS = set(stopwords.words('english'))\n",
    "Number_RE = re.compile('[*^0-9]')\n",
    "Bad_underline = re.compile('[*_*]')\n",
    "RemoveTag = re.compile('&lt;|br&gt;|b&gt;|ul&gt;|li&gt;')\n",
    "\n",
    "def clean_text(text):\n",
    "    \"\"\"\n",
    "        text: a string\n",
    "        \n",
    "        return: modified initial string\n",
    "    \"\"\"\n",
    "    text = text.lower() # lowercase text\n",
    "    text = RemoveTag.sub('',text)\n",
    "    text = REPLACE_BY_SPACE_RE.sub(' ', text) # replace REPLACE_BY_SPACE_RE symbols by space in text\n",
    "    text = Number_RE.sub(' ', text) # replace Number symbols by space in text\n",
    "    text = Bad_underline.sub(' ', text) # replace Underline symbols by space in text\n",
    "    text = BAD_SYMBOLS_RE.sub('', text) # delete symbols which are in BAD_SYMBOLS_RE from text\n",
    "    text = ' '.join(word for word in text.split() if word not in STOPWORDS) # delete stopwors from text\n",
    "    return text\n",
    "RemoveLastSpace = re.compile(' $')\n",
    "\n",
    "def clean_text_category(text):\n",
    "    text = RemoveLastSpace.sub('',text)\n",
    "    return text\n",
    "    "
   ]
  },
  {
   "cell_type": "code",
   "execution_count": 3,
   "metadata": {},
   "outputs": [],
   "source": [
    "def classNumberThreshold(arr):\n",
    "    dropCategory = []\n",
    "\n",
    "    for key,value in arr.items():\n",
    "        if(value<=30):\n",
    "            dropCategory.append(key)\n",
    "    return dropCategory"
   ]
  },
  {
   "cell_type": "code",
   "execution_count": 4,
   "metadata": {},
   "outputs": [],
   "source": [
    "df = pd.read_csv('../../example/combine.csv')"
   ]
  },
  {
   "cell_type": "code",
   "execution_count": 5,
   "metadata": {},
   "outputs": [],
   "source": [
    "def checkNanin(text):\n",
    "    text = str(text)\n",
    "    if(text==\"nan\"):\n",
    "        return \"\"\n",
    "    else:\n",
    "        return text\n",
    "df.description = df.description.apply(checkNanin)  \n",
    "df.description = df['description'].apply(clean_text)\n",
    "df = df[pd.notnull(df['category'])]\n",
    "df = df[pd.notnull(df['uniq_id'])]\n",
    "df = df[pd.notnull(df['description'])]\n",
    "df = df.dropna(subset=['description'])"
   ]
  },
  {
   "cell_type": "code",
   "execution_count": 6,
   "metadata": {},
   "outputs": [],
   "source": [
    "dropCategoryCode  = classNumberThreshold(df.category.value_counts())\n",
    "dropSubCategoryCode  = classNumberThreshold(df.subcategory.value_counts())\n",
    "\n",
    "for i in dropCategoryCode:\n",
    "    df = df[df.category!=i]\n",
    "    \n",
    "for i in dropSubCategoryCode:\n",
    "    df = df[df.subcategory!=i]\n"
   ]
  },
  {
   "cell_type": "code",
   "execution_count": 7,
   "metadata": {},
   "outputs": [
    {
     "name": "stdout",
     "output_type": "stream",
     "text": [
      "<class 'pandas.core.frame.DataFrame'>\n",
      "Int64Index: 28540 entries, 0 to 28689\n",
      "Data columns (total 8 columns):\n",
      "uniq_id          28540 non-null object\n",
      "product_name     28540 non-null object\n",
      "description      28540 non-null object\n",
      "category_main    27101 non-null object\n",
      "category_sub1    27101 non-null object\n",
      "category_sub2    23396 non-null object\n",
      "category         28540 non-null int64\n",
      "subcategory      28540 non-null int64\n",
      "dtypes: int64(2), object(6)\n",
      "memory usage: 2.0+ MB\n"
     ]
    }
   ],
   "source": [
    "df.info()"
   ]
  },
  {
   "cell_type": "code",
   "execution_count": 8,
   "metadata": {},
   "outputs": [],
   "source": [
    "le = LabelEncoder()\n",
    "le.fit(df.category)\n",
    "target = le.classes_\n",
    "labels = le.transform(df.category)\n",
    "\n",
    "le.fit(df.subcategory)\n",
    "subtarget = le.classes_\n",
    "sublabels = le.transform(df.subcategory)"
   ]
  },
  {
   "cell_type": "code",
   "execution_count": 9,
   "metadata": {},
   "outputs": [],
   "source": [
    "tfidfconverter = TfidfVectorizer(min_df=5, max_df=0.7)\n",
    "X = tfidfconverter.fit_transform(df.description)\n",
    "featureNames = tfidfconverter.get_feature_names()"
   ]
  },
  {
   "cell_type": "code",
   "execution_count": 10,
   "metadata": {},
   "outputs": [],
   "source": [
    "X_train, X_test, y_train_info, y_test_info = train_test_split(X, pd.DataFrame({'index':df.index, 'label':labels}), \n",
    "                                                    test_size=0.1, random_state = 27)"
   ]
  },
  {
   "cell_type": "code",
   "execution_count": 11,
   "metadata": {},
   "outputs": [],
   "source": [
    "y_train = y_train_info.label\n",
    "y_test = y_test_info.label\n"
   ]
  },
  {
   "cell_type": "code",
   "execution_count": 12,
   "metadata": {},
   "outputs": [
    {
     "data": {
      "text/plain": [
       "ComplementNB(alpha=1.0, class_prior=None, fit_prior=True, norm=False)"
      ]
     },
     "execution_count": 12,
     "metadata": {},
     "output_type": "execute_result"
    }
   ],
   "source": [
    "model = ComplementNB()\n",
    "model.fit(X_train,y_train)"
   ]
  },
  {
   "cell_type": "code",
   "execution_count": 15,
   "metadata": {},
   "outputs": [],
   "source": [
    "\n",
    "classWithInfluence = {}\n",
    "\n",
    "coef = model.coef_\n",
    "coef = scale(coef)\n",
    "\n",
    "coefTotalSize = coef.shape[0]*coef.shape[1]\n",
    "coef1DArr = coef.reshape(coefTotalSize,1)\n",
    "Max = ceil(max(coef1DArr[0]))\n",
    "Min = floor(min(coef1DArr[0]))\n",
    "\n",
    "for index in range(0,len(coef)):\n",
    "    normalisedCoef = [round((ele-Min)/(Max-Min),2) for ele in coef[index]]\n",
    "    name = featureNames\n",
    "    classWithInfluence[target[index]] = list(zip(name,normalisedCoef))\n",
    "            \n",
    "Top10InflunceFeature = {}\n",
    "for key, value in classWithInfluence.items():\n",
    "    key = str(key)\n",
    "    Top10InflunceFeature[key] = sorted(value, key=lambda x: x[1], reverse=True)[:10]\n",
    "\n",
    "with open('Combine/CompanyTopFeatureByClassNBC.json', 'w') as json_file:\n",
    "    json.dump(Top10InflunceFeature, json_file, indent=2)    "
   ]
  },
  {
   "cell_type": "code",
   "execution_count": 16,
   "metadata": {
    "scrolled": true
   },
   "outputs": [
    {
     "name": "stdout",
     "output_type": "stream",
     "text": [
      "--- Best 100 features \n",
      "\n",
      "--- Best 200 features \n",
      "\n",
      "--- Best 300 features \n",
      "\n",
      "--- Best 400 features \n",
      "\n",
      "--- Best 500 features \n",
      "\n",
      "--- Best 600 features \n",
      "\n",
      "--- Best 700 features \n",
      "\n",
      "--- Best 800 features \n",
      "\n",
      "--- Best 900 features \n",
      "\n",
      "--- Best 1000 features \n",
      "\n",
      "--- Best 1100 features \n",
      "\n",
      "--- Best 1200 features \n",
      "\n",
      "--- Best 1300 features \n",
      "\n",
      "--- Best 1400 features \n",
      "\n",
      "--- Best 1500 features \n",
      "\n",
      "--- Best 1600 features \n",
      "\n",
      "--- Best 1700 features \n",
      "\n",
      "--- Best 1800 features \n",
      "\n",
      "--- Best 1900 features \n",
      "\n",
      "--- Best 2000 features \n",
      "\n",
      "--- Best 2100 features \n",
      "\n",
      "--- Best 2200 features \n",
      "\n",
      "--- Best 2300 features \n",
      "\n",
      "--- Best 2400 features \n",
      "\n",
      "--- Best 2500 features \n",
      "\n",
      "--- Best 2600 features \n",
      "\n",
      "--- Best 2700 features \n",
      "\n",
      "--- Best 2800 features \n",
      "\n",
      "--- Best 2900 features \n",
      "\n",
      "--- Best 3000 features \n",
      "\n",
      "--- Best 3100 features \n",
      "\n",
      "--- Best 3200 features \n",
      "\n",
      "--- Best 3300 features \n",
      "\n",
      "--- Best 3400 features \n",
      "\n",
      "--- Best 3500 features \n",
      "\n",
      "--- Best 3600 features \n",
      "\n",
      "--- Best 3700 features \n",
      "\n",
      "--- Best 3800 features \n",
      "\n",
      "--- Best 3900 features \n",
      "\n",
      "--- Best 4000 features \n",
      "\n",
      "--- Best 4100 features \n",
      "\n",
      "--- Best 4200 features \n",
      "\n",
      "--- Best 4300 features \n",
      "\n",
      "--- Best 4400 features \n",
      "\n",
      "--- Best 4500 features \n",
      "\n",
      "--- Best 4600 features \n",
      "\n",
      "--- Best 4700 features \n",
      "\n",
      "--- Best 4800 features \n",
      "\n",
      "--- Best 4900 features \n",
      "\n",
      "--- Best 5000 features \n",
      "\n",
      "--- Best 5100 features \n",
      "\n",
      "--- Best 5200 features \n",
      "\n",
      "--- Best 5300 features \n",
      "\n",
      "--- Best 5400 features \n",
      "\n",
      "--- Best 5500 features \n",
      "\n",
      "--- Best 5600 features \n",
      "\n",
      "--- Best 5700 features \n",
      "\n",
      "--- Best 5800 features \n",
      "\n",
      "--- Best 5900 features \n",
      "\n",
      "--- Best 6000 features \n",
      "\n",
      "--- Best 6100 features \n",
      "\n",
      "--- Best 6200 features \n",
      "\n",
      "--- Best 6300 features \n",
      "\n",
      "--- Best 6400 features \n",
      "\n",
      "--- Best 6500 features \n",
      "\n",
      "--- Best 6600 features \n",
      "\n",
      "--- Best 6700 features \n",
      "\n",
      "--- Best 6800 features \n",
      "\n",
      "--- Best 6900 features \n",
      "\n",
      "--- Best 7000 features \n",
      "\n",
      "--- Best 7100 features \n",
      "\n",
      "--- Best 7200 features \n",
      "\n",
      "--- Best 7300 features \n",
      "\n",
      "--- Best 7400 features \n",
      "\n",
      "--- Best 7500 features \n",
      "\n",
      "--- Best 7600 features \n",
      "\n",
      "--- Best 7700 features \n",
      "\n",
      "--- Best 7800 features \n",
      "\n",
      "--- Best 7900 features \n",
      "\n",
      "--- Best 8000 features \n",
      "\n",
      "--- Best 8100 features \n",
      "\n",
      "--- Best 8200 features \n",
      "\n",
      "--- Best 8300 features \n",
      "\n",
      "--- Best 8400 features \n",
      "\n",
      "--- Best 8500 features \n",
      "\n",
      "--- Best 8600 features \n",
      "\n",
      "--- Best 8700 features \n",
      "\n",
      "--- Best 8800 features \n",
      "\n",
      "--- Best 8900 features \n",
      "\n",
      "--- Best 9000 features \n",
      "\n",
      "--- Best 9100 features \n",
      "\n",
      "--- Best 9200 features \n",
      "\n",
      "--- Best 9300 features \n",
      "\n",
      "--- Best 9400 features \n",
      "\n",
      "--- Best 9500 features \n",
      "\n",
      "--- Best 9600 features \n",
      "\n",
      "--- Best 9700 features \n",
      "\n",
      "--- Best 9800 features \n",
      "\n",
      "--- Best 9900 features \n",
      "\n",
      "--- Best 10000 features \n",
      "\n",
      "--- Best 10100 features \n",
      "\n",
      "--- Best 10200 features \n",
      "\n",
      "--- Best 10300 features \n",
      "\n",
      "--- Best 10400 features \n",
      "\n",
      "--- Best 10500 features \n",
      "\n",
      "--- Best 10600 features \n",
      "\n",
      "--- Best 10700 features \n",
      "\n",
      "--- Best 10800 features \n",
      "\n",
      "--- Best 10900 features \n",
      "\n",
      "--- Best 11000 features \n",
      "\n",
      "--- Best 11100 features \n",
      "\n"
     ]
    }
   ],
   "source": [
    "BestSize  = [ele for ele in range(100, len(featureNames), 100) ]\n",
    "Models = []\n",
    "Scores = []\n",
    "SelectModels  = []\n",
    "for ele in range(100, len(featureNames), 100):\n",
    "    print(\"--- Best \"+ str(ele) + \" features \\n\")\n",
    "    selectBest = SelectKBest(chi2, k= ele)\n",
    "    model = ComplementNB()\n",
    "    K_best_NBC = Pipeline([('SelectBest', selectBest), ('CNBC', model)])\n",
    "    K_best_NBC.fit(X_train,y_train)\n",
    "    score = K_best_NBC.score(X_test,y_test)\n",
    "    Models.append(K_best_NBC)\n",
    "    Scores.append(score)\n",
    "\n",
    "bestModel = Models[np.argmax(Scores)]\n",
    "bestSize = BestSize[np.argmax(Scores)]\n",
    "\n",
    "# save the model to disk\n",
    "filename = 'Combine/'+str(bestSize)+'BestNBC.sav'\n",
    "joblib.dump(bestModel, filename)\n",
    "\n",
    "\n",
    "\n",
    "yConfidence = bestModel.predict_proba(X_test)\n",
    "\n",
    "yPred = bestModel.predict(X_test)\n"
   ]
  },
  {
   "cell_type": "code",
   "execution_count": 17,
   "metadata": {},
   "outputs": [],
   "source": [
    "totalConfidenceSize = yConfidence.shape[0]*yConfidence.shape[1]\n",
    "Confidence1DArr = yConfidence.reshape(totalConfidenceSize,1)\n",
    "Max = ceil(max(Confidence1DArr)[0])\n",
    "Min = floor(min(Confidence1DArr)[0])\n",
    "NormalisedConfid = [round((max(ele)-Min)/(Max-Min),2) for ele in yConfidence]\n",
    "productID = [ df[df.index==ele]['uniq_id'].values[0] for ele in y_test_info['index'] ]\n",
    "ProductDescription =[ df[df.index==ele]['description'].values[0] for ele in y_test_info['index'] ]\n",
    "NBCResult = pd.DataFrame({'id':productID,'description':ProductDescription,\n",
    "                         'trueClass': y_test,'trueClassNaem':target[y_test] ,\n",
    "                         'predictClass':yPred,'predictClassName':target[yPred],\n",
    "                         'Confidence':NormalisedConfid})\n",
    "NBCResult.to_csv(\"Combine/NBCResults.csv\",index=False,compression=None)"
   ]
  },
  {
   "cell_type": "code",
   "execution_count": 18,
   "metadata": {},
   "outputs": [],
   "source": [
    "def draw_confidenceReport(data):\n",
    "    num = [ ele*0.01 for ele in range(20,81,2)]\n",
    "    totalitems = []\n",
    "    correct = []\n",
    "    incorrect = []\n",
    "    for ele in num:\n",
    "        Threshold = data[data['Confidence']>ele]\n",
    "        correct.append(len(Threshold[Threshold['trueClass']==Threshold['predictClass']].index))\n",
    "        incorrect.append(len(Threshold[Threshold['trueClass']!=Threshold['predictClass']].index))\n",
    "        totalitems.append(len(Threshold.index))\n",
    "    \n",
    "    ClassfiedProportion = [ ele/len(data.index) for ele in totalitems]\n",
    "    \n",
    "    Acc =[]\n",
    "    for ele in zip(correct,totalitems):\n",
    "        if (ele[1]==0):\n",
    "            Acc.append(0)\n",
    "        else:\n",
    "            Acc.append(ele[0]/ele[1])\n",
    "\n",
    "    fig,ax  = plt.subplots()\n",
    "    \n",
    "    color = 'tab:blue'\n",
    "    ax.scatter(num,ClassfiedProportion,label=\"Proportion classified\",color=color)\n",
    "    ax.set_xlabel(\"Confidence Score\")\n",
    "    ax.set_ylabel(\"Proportion classified\", color=color)\n",
    "    ax.xaxis.set_ticks(np.arange(0,1.1,0.1))\n",
    "    ax.yaxis.set_ticks(np.arange(0,1.1,0.1))\n",
    "    ax.tick_params(axis='y', labelcolor=color)\n",
    "\n",
    "    color = 'tab:red'\n",
    "\n",
    "    ax2 = ax.twinx()  # instantiate a second axes that shares the same x-axis\n",
    "\n",
    "    ax2.scatter(num,Acc,label=\"Accuracy\", color=color)\n",
    "    ax2.set_ylabel(\"Accuracy\", color=color)\n",
    "    ax2.yaxis.set_ticks(np.arange(0,1.1,0.1))\n",
    "    ax2.tick_params(axis='y', labelcolor=color)\n",
    "\n",
    "    ax.grid()\n",
    "    fig.savefig(\"Combine/ConfidenceScoreReportNBC.png\")"
   ]
  },
  {
   "cell_type": "code",
   "execution_count": 21,
   "metadata": {},
   "outputs": [
    {
     "name": "stdout",
     "output_type": "stream",
     "text": [
      "              precision    recall  f1-score   support\n",
      "\n",
      "      100000       0.91      0.91      0.91        89\n",
      "      110000       0.93      0.37      0.53        38\n",
      "      200000       0.93      0.56      0.69        45\n",
      "      300000       0.97      0.82      0.89        77\n",
      "      400000       0.92      0.99      0.95       160\n",
      "      500000       0.97      0.98      0.98      1276\n",
      "      700000       0.98      0.96      0.97       313\n",
      "      800000       0.93      0.98      0.95       829\n",
      "      900000       0.95      0.74      0.83        27\n",
      "\n",
      "   micro avg       0.95      0.95      0.95      2854\n",
      "   macro avg       0.94      0.81      0.86      2854\n",
      "weighted avg       0.95      0.95      0.95      2854\n",
      "\n"
     ]
    }
   ],
   "source": [
    "target = [ str(ele) for ele in target]\n",
    "print(classification_report(y_test, yPred,target_names=target))\n",
    "with open('Combine/NBCReport.txt', 'w') as file:\n",
    "    file.write(classification_report(y_test, yPred,target_names=target))"
   ]
  },
  {
   "cell_type": "code",
   "execution_count": 22,
   "metadata": {},
   "outputs": [
    {
     "data": {
      "image/png": "[encoded data removed]",
      "text/plain": [
       "<Figure size 432x288 with 2 Axes>"
      ]
     },
     "metadata": {
      "needs_background": "light"
     },
     "output_type": "display_data"
    }
   ],
   "source": [
    "draw_confidenceReport(NBCResult)"
   ]
  },
  {
   "cell_type": "code",
   "execution_count": 23,
   "metadata": {},
   "outputs": [],
   "source": [
    "cm = confusion_matrix(y_test, yPred)"
   ]
  },
  {
   "cell_type": "code",
   "execution_count": 25,
   "metadata": {},
   "outputs": [
    {
     "data": {
      "image/png": "[encoded data removed]",
      "text/plain": [
       "<Figure size 576x576 with 2 Axes>"
      ]
     },
     "metadata": {
      "needs_background": "light"
     },
     "output_type": "display_data"
    }
   ],
   "source": [
    "fig, ax = plt.subplots(figsize=(8,8))\n",
    "im =ax.imshow(cm, interpolation='nearest', cmap=plt.cm.Blues)\n",
    "ax.figure.colorbar(im, ax=ax)\n",
    "classes = target\n",
    "# We want to show all ticks...\n",
    "ax.set(xticks=np.arange(cm.shape[1]),yticks=np.arange(cm.shape[0]),\n",
    "       # ... and label them with the respective list entries\n",
    "        xticklabels=classes, yticklabels=classes,ylabel='True label',xlabel='Predicted label')\n",
    "# Rotate the tick labels and set their alignment.\n",
    "plt.setp(ax.get_xticklabels(), rotation=45, ha=\"right\",\n",
    "             rotation_mode=\"anchor\")\n",
    "fmt = 'd'\n",
    "thresh = cm.max() / 2.\n",
    "for i in range(cm.shape[0]):\n",
    "    for j in range(cm.shape[1]):\n",
    "        ax.text(j, i, format(cm[i, j], fmt),ha=\"center\", va=\"center\", color=\"white\" if cm[i, j] > thresh else \"black\")\n",
    "fig.tight_layout()\n",
    "fig.savefig(\"Combine/NBCConfusionMatrix.png\")"
   ]
  },
  {
   "cell_type": "code",
   "execution_count": 26,
   "metadata": {},
   "outputs": [
    {
     "data": {
      "image/png": "[encoded data removed]",
      "text/plain": [
       "<Figure size 432x288 with 1 Axes>"
      ]
     },
     "metadata": {
      "needs_background": "light"
     },
     "output_type": "display_data"
    }
   ],
   "source": [
    "fig,ax  = plt.subplots()\n",
    "ax.plot(BestSize,Scores,label=\"CNBC\")\n",
    "ax.set_xlabel(\"Number of best features\")\n",
    "ax.set_ylabel(\"Accuracy\")\n",
    "ax.legend()\n",
    "ax.grid()\n",
    "fig.savefig(\"Combine/CNBCbestFeatureSize.png\")"
   ]
  },
  {
   "cell_type": "code",
   "execution_count": null,
   "metadata": {},
   "outputs": [],
   "source": []
  }
 ],
 "metadata": {
  "kernelspec": {
   "display_name": "Python 3",
   "language": "python",
   "name": "python3"
  },
  "language_info": {
   "codemirror_mode": {
    "name": "ipython",
    "version": 3
   },
   "file_extension": ".py",
   "mimetype": "text/x-python",
   "name": "python",
   "nbconvert_exporter": "python",
   "pygments_lexer": "ipython3",
   "version": "3.6.5"
  }
 },
 "nbformat": 4,
 "nbformat_minor": 2
}
