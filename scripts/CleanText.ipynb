{
 "cells": [
  {
   "cell_type": "code",
   "execution_count": 73,
   "metadata": {},
   "outputs": [],
   "source": [
    "import pandas as pd\n",
    "import numpy as np\n",
    "import matplotlib.pyplot as plt\n",
    "plt.rcParams.update({'font.size': 11})\n",
    "import json\n",
    "import re\n",
    "from gensim import models, corpora\n",
    "from nltk.tokenize import sent_tokenize, word_tokenize, WordPunctTokenizer\n",
    "from nltk.corpus import stopwords\n",
    "from sklearn.preprocessing import LabelEncoder\n",
    "from sklearn.preprocessing import scale\n",
    "from sklearn.model_selection import train_test_split\n",
    "from sklearn.svm import LinearSVC,SVC\n",
    "from sklearn.feature_selection import SelectKBest,chi2\n",
    "from sklearn.feature_extraction.text import TfidfVectorizer \n",
    "from sklearn.metrics import classification_report,confusion_matrix,accuracy_score\n",
    "from sklearn.utils.multiclass import unique_labels\n",
    "from math import ceil, floor"
   ]
  },
  {
   "cell_type": "code",
   "execution_count": 74,
   "metadata": {},
   "outputs": [],
   "source": [
    "REPLACE_BY_SPACE_RE = re.compile('[/(){}\\[\\]\\|@,;-]')\n",
    "BAD_SYMBOLS_RE = re.compile('[^0-9a-z #+_]')\n",
    "STOPWORDS = set(stopwords.words('english'))\n",
    "Number_RE = re.compile('[*^0-9]')\n",
    "Bad_underline = re.compile('[*_*]')\n",
    "RemoveTag = re.compile('x\\\\b')\n",
    "def clean_text(text):\n",
    "    \"\"\"\n",
    "        text: a string\n",
    "        \n",
    "        return: modified initial string\n",
    "    \"\"\"\n",
    "#     text = BeautifulSoup(text)\n",
    "    text = text.lower() # lowercase text\n",
    "    text = RemoveTag.sub('',text)\n",
    "    text = REPLACE_BY_SPACE_RE.sub(' ', text) # replace REPLACE_BY_SPACE_RE symbols by space in text\n",
    "    text = Number_RE.sub(' ', text) # replace Number symbols by space in text\n",
    "    text = Bad_underline.sub(' ', text) # replace Underline symbols by space in text\n",
    "    text = BAD_SYMBOLS_RE.sub('', text) # delete symbols which are in BAD_SYMBOLS_RE from text\n",
    "    text = ' '.join(word for word in text.split() if word not in STOPWORDS) # delete stopwors from text\n",
    "    return text\n",
    "\n",
    "def print_plot(index,data):\n",
    "    example = data[data.index == index][['id', 'category','description']].values[0]\n",
    "    if len(example) > 0:\n",
    "        print('Unique ID :',example[0])\n",
    "        print('------------------------')\n",
    "        print('Class:'+ example[1])\n",
    "        print('------------------------')\n",
    "        print('Description:', example[2])\n",
    "        print('------------------------')\n",
    "        print('Description:', clean_text(example[2]))\n"
   ]
  },
  {
   "cell_type": "code",
   "execution_count": 75,
   "metadata": {},
   "outputs": [],
   "source": [
    "def classNumberThreshold(arr):\n",
    "    dropCategory = []\n",
    "\n",
    "    for key,value in arr.items():\n",
    "        if(value<=10):\n",
    "            dropCategory.append(key)\n",
    "    return dropCategory"
   ]
  },
  {
   "cell_type": "code",
   "execution_count": 76,
   "metadata": {},
   "outputs": [
    {
     "name": "stdout",
     "output_type": "stream",
     "text": [
      "<class 'pandas.core.frame.DataFrame'>\n",
      "Int64Index: 562 entries, 0 to 950\n",
      "Data columns (total 4 columns):\n",
      "id             562 non-null object\n",
      "Name           562 non-null object\n",
      "category       562 non-null object\n",
      "description    562 non-null object\n",
      "dtypes: object(4)\n",
      "memory usage: 22.0+ KB\n"
     ]
    }
   ],
   "source": [
    "\n",
    "\n",
    "data = pd.read_csv('../example/real.csv')\n",
    "data = pd.DataFrame({'id':data['JobNumber'],'Name':data['JobName'],'RWCategory':data['RW Category'],'category':data['RW Job Type'],'description':data['Details']})\n",
    "data = data[data['RWCategory']=='Freeformat Text']\n",
    "data = data.drop(columns=['RWCategory'])\n",
    "data = data[pd.notnull(data['description'])]\n",
    "data.info()\n"
   ]
  },
  {
   "cell_type": "code",
   "execution_count": 77,
   "metadata": {},
   "outputs": [
    {
     "data": {
      "text/plain": [
       "Leaflet                      75\n",
       "DPLM                         71\n",
       "POS                          70\n",
       "Mail Pack                    64\n",
       "Promo                        62\n",
       "Posters                      50\n",
       "Booklet                      43\n",
       "Letter                       34\n",
       "Suppressions                 29\n",
       "Envelope                     19\n",
       "Postage                      13\n",
       "Folder                        9\n",
       "Stickers                      4\n",
       "Deliveries                    3\n",
       "Business Cards                2\n",
       "Dividers & Content Sheets     2\n",
       "Data charges                  2\n",
       "Die Forms                     2\n",
       "Cheque Pouch                  1\n",
       "Christmas Card                1\n",
       "Pad                           1\n",
       "Pollywrap                     1\n",
       "Passbook                      1\n",
       "Artwork                       1\n",
       "NCR Pad                       1\n",
       "Plastic Cards                 1\n",
       "Name: category, dtype: int64"
      ]
     },
     "execution_count": 77,
     "metadata": {},
     "output_type": "execute_result"
    }
   ],
   "source": [
    "data.category.value_counts()"
   ]
  },
  {
   "cell_type": "code",
   "execution_count": 78,
   "metadata": {},
   "outputs": [
    {
     "data": {
      "image/png": "[encoded data removed]",
      "text/plain": [
       "<Figure size 432x288 with 1 Axes>"
      ]
     },
     "metadata": {
      "needs_background": "light"
     },
     "output_type": "display_data"
    }
   ],
   "source": [
    "dropClass = classNumberThreshold(data.category.value_counts())\n",
    "for ele in dropClass:\n",
    "    data = data[data['category']!=ele]\n",
    "\n",
    "value_count = data.category.value_counts()\n",
    "fig, axs = plt.subplots()\n",
    "axs.bar(value_count.index, value_count.values)\n",
    "locs, labels = plt.xticks()\n",
    "plt.setp(labels, rotation=90)\n",
    "fig.savefig(\"C/dataDistribution.png\")"
   ]
  },
  {
   "cell_type": "code",
   "execution_count": 79,
   "metadata": {},
   "outputs": [
    {
     "name": "stdout",
     "output_type": "stream",
     "text": [
      "Unique ID : J/2690\n",
      "------------------------\n",
      "Class:Posters\n",
      "------------------------\n",
      "Description: A1 - 1pp||Printed full colour||170gsm Silk||Trim to size||Supplied in bulk, flat on pallets and separated by kind||||11-0517ABCD\tBrand ISA Campaign - Lead Brand Savings 4xA1 poster sets x 180 sets of 4||11-0518\tBrand ISA Campaign - Lead Brand Savings single A1 posters x 260||11-0519ABCD\tBrand ISA Campaign - Support Brand ISA 4xA1 poster sets\tx 150 sets of 4||11-0520\tBrand ISA Campaign - Support Brand ISA single A1 posters x 180||11-0522\tBrand ISA Campaign - LISA Internal Single A1 poster x 280||11-0523\tBrand ISA Campaign - Internal Colleague Poster 1 x 190||11-0524\tBrand ISA Campaign - Internal Colleague Poster 2 x 190\n",
      "------------------------\n",
      "Description: pp printed full colour gsm silk trim size supplied bulk flat pallets separated kind abcdbrand isa campaign lead brand savings xa poster sets sets brand isa campaign lead brand savings single posters abcdbrand isa campaign support brand isa xa poster sets sets brand isa campaign support brand isa single posters brand isa campaign lisa internal single poster brand isa campaign internal colleague poster brand isa campaign internal colleague poster\n",
      "<class 'pandas.core.frame.DataFrame'>\n",
      "Int64Index: 530 entries, 0 to 950\n",
      "Data columns (total 4 columns):\n",
      "id             530 non-null object\n",
      "Name           530 non-null object\n",
      "category       530 non-null object\n",
      "description    530 non-null object\n",
      "dtypes: object(4)\n",
      "memory usage: 20.7+ KB\n"
     ]
    }
   ],
   "source": [
    "print_plot(10,data)\n",
    "data.info()"
   ]
  },
  {
   "cell_type": "code",
   "execution_count": 80,
   "metadata": {},
   "outputs": [
    {
     "name": "stdout",
     "output_type": "stream",
     "text": [
      "title header panel finished size mm artwork print ready files supplied proofs pdf proof printing colour process face materials mm foam pvc finishing cut shape apply velcro hook loop around edges bubble wrap delivery laura shackleton marketing skipton ho tuesday st jan\n",
      "---------------- \n",
      "\n",
      "Sentence tokenizer:\n",
      "['title header panel finished size mm artwork print ready files supplied proofs pdf proof printing colour process face materials mm foam pvc finishing cut shape apply velcro hook loop around edges bubble wrap delivery laura shackleton marketing skipton ho tuesday st jan']\n",
      "\n",
      " Word tokenizer:\n",
      "['title', 'header', 'panel', 'finished', 'size', 'mm', 'artwork', 'print', 'ready', 'files', 'supplied', 'proofs', 'pdf', 'proof', 'printing', 'colour', 'process', 'face', 'materials', 'mm', 'foam', 'pvc', 'finishing', 'cut', 'shape', 'apply', 'velcro', 'hook', 'loop', 'around', 'edges', 'bubble', 'wrap', 'delivery', 'laura', 'shackleton', 'marketing', 'skipton', 'ho', 'tuesday', 'st', 'jan']\n",
      "\n",
      " Word punct tokenizer: \n",
      "['title', 'header', 'panel', 'finished', 'size', 'mm', 'artwork', 'print', 'ready', 'files', 'supplied', 'proofs', 'pdf', 'proof', 'printing', 'colour', 'process', 'face', 'materials', 'mm', 'foam', 'pvc', 'finishing', 'cut', 'shape', 'apply', 'velcro', 'hook', 'loop', 'around', 'edges', 'bubble', 'wrap', 'delivery', 'laura', 'shackleton', 'marketing', 'skipton', 'ho', 'tuesday', 'st', 'jan']\n"
     ]
    }
   ],
   "source": [
    "data['description'] = data.description.apply(clean_text)\n",
    "input_Text = data.description[0]\n",
    "print(input_Text)\n",
    "\n",
    "print('---------------- \\n')\n",
    "\n",
    "print('Sentence tokenizer:')\n",
    "\n",
    "print(sent_tokenize(input_Text))\n",
    "\n",
    "print('\\n Word tokenizer:')\n",
    "\n",
    "print(word_tokenize(input_Text))\n",
    "\n",
    "print('\\n Word punct tokenizer: ')\n",
    "\n",
    "print(WordPunctTokenizer().tokenize(input_Text))\n",
    "\n",
    "new_input = WordPunctTokenizer().tokenize(input_Text)"
   ]
  },
  {
   "cell_type": "code",
   "execution_count": 81,
   "metadata": {},
   "outputs": [],
   "source": [
    "from nltk.stem.porter import PorterStemmer\n",
    "from nltk.stem.lancaster import LancasterStemmer\n",
    "from nltk.stem.snowball import SnowballStemmer\n",
    "\n",
    "# Create various stemmer objects\n",
    "\n",
    "porter = PorterStemmer()\n",
    "lancaster = LancasterStemmer()\n",
    "snowball = SnowballStemmer('english')"
   ]
  },
  {
   "cell_type": "code",
   "execution_count": 82,
   "metadata": {},
   "outputs": [
    {
     "name": "stdout",
     "output_type": "stream",
     "text": [
      "\n",
      "       Input Word          PORTER       LANCASTER        SNOWBALL \n",
      " ====================================================================\n",
      "           title            titl            titl            titl\n",
      "          header          header            head          header\n",
      "           panel           panel           panel           panel\n",
      "        finished          finish             fin          finish\n",
      "            size            size             siz            size\n",
      "              mm              mm              mm              mm\n",
      "         artwork         artwork         artwork         artwork\n",
      "           print           print           print           print\n",
      "           ready           readi           ready           readi\n",
      "           files            file             fil            file\n",
      "        supplied          suppli          supply          suppli\n",
      "          proofs           proof           proof           proof\n",
      "             pdf             pdf             pdf             pdf\n",
      "           proof           proof           proof           proof\n",
      "        printing           print           print           print\n",
      "          colour          colour            colo          colour\n",
      "         process         process         process         process\n",
      "            face            face             fac            face\n",
      "       materials          materi             mat          materi\n",
      "              mm              mm              mm              mm\n",
      "            foam            foam            foam            foam\n",
      "             pvc             pvc             pvc             pvc\n",
      "       finishing          finish             fin          finish\n",
      "             cut             cut             cut             cut\n",
      "           shape           shape            shap           shape\n",
      "           apply           appli           apply           appli\n",
      "          velcro          velcro          velcro          velcro\n",
      "            hook            hook            hook            hook\n",
      "            loop            loop            loop            loop\n",
      "          around          around          around          around\n",
      "           edges             edg             edg             edg\n",
      "          bubble           bubbl           bubbl           bubbl\n",
      "            wrap            wrap            wrap            wrap\n",
      "        delivery        deliveri        delivery        deliveri\n",
      "           laura           laura            laur           laura\n",
      "      shackleton      shackleton      shackleton      shackleton\n",
      "       marketing          market          market          market\n",
      "         skipton         skipton         skipton         skipton\n",
      "              ho              ho              ho              ho\n",
      "         tuesday         tuesday         tuesday         tuesday\n",
      "              st              st              st              st\n",
      "             jan             jan             jan             jan\n"
     ]
    }
   ],
   "source": [
    "stemName = ['PORTER', 'LANCASTER', 'SNOWBALL']\n",
    "formatted_text = '{:>16}'*(len(stemName)+1)\n",
    "print('\\n',formatted_text.format('Input Word',*stemName),'\\n','='*68)\n",
    "\n",
    "for word in new_input:\n",
    "    output = [word, porter.stem(word), lancaster.stem(word), snowball.stem(word)]\n",
    "    print(formatted_text.format(*output))"
   ]
  },
  {
   "cell_type": "code",
   "execution_count": 83,
   "metadata": {},
   "outputs": [
    {
     "name": "stdout",
     "output_type": "stream",
     "text": [
      "\n",
      "               Input Word         Noun Lemmatizer         Verb :emmatizer \n",
      " ===========================================================================\n",
      "                   title                   title                   title\n",
      "                  header                  header                  header\n",
      "                   panel                   panel                   panel\n",
      "                finished                finished                  finish\n",
      "                    size                    size                    size\n",
      "                      mm                      mm                      mm\n",
      "                 artwork                 artwork                 artwork\n",
      "                   print                   print                   print\n",
      "                   ready                   ready                   ready\n",
      "                   files                    file                    file\n",
      "                supplied                supplied                  supply\n",
      "                  proofs                   proof                   proof\n",
      "                     pdf                     pdf                     pdf\n",
      "                   proof                   proof                   proof\n",
      "                printing                printing                   print\n",
      "                  colour                  colour                  colour\n",
      "                 process                 process                 process\n",
      "                    face                    face                    face\n",
      "               materials                material               materials\n",
      "                      mm                      mm                      mm\n",
      "                    foam                    foam                    foam\n",
      "                     pvc                     pvc                     pvc\n",
      "               finishing               finishing                  finish\n",
      "                     cut                     cut                     cut\n",
      "                   shape                   shape                   shape\n",
      "                   apply                   apply                   apply\n",
      "                  velcro                  velcro                  velcro\n",
      "                    hook                    hook                    hook\n",
      "                    loop                    loop                    loop\n",
      "                  around                  around                  around\n",
      "                   edges                    edge                    edge\n",
      "                  bubble                  bubble                  bubble\n",
      "                    wrap                    wrap                    wrap\n",
      "                delivery                delivery                delivery\n",
      "                   laura                   laura                   laura\n",
      "              shackleton              shackleton              shackleton\n",
      "               marketing               marketing                  market\n",
      "                 skipton                 skipton                 skipton\n",
      "                      ho                      ho                      ho\n",
      "                 tuesday                 tuesday                 tuesday\n",
      "                      st                      st                      st\n",
      "                     jan                     jan                     jan\n"
     ]
    }
   ],
   "source": [
    "from nltk.stem import WordNetLemmatizer\n",
    "\n",
    "lemmatizer = WordNetLemmatizer()\n",
    "lemmatizerName = ['Noun Lemmatizer', 'Verb :emmatizer']\n",
    "formattedText = '{:>24}'*(len(lemmatizerName)+1)\n",
    "# print(formattedText)\n",
    "print('\\n',formattedText.format('Input Word', *lemmatizerName),'\\n','='*75)\n",
    "\n",
    "for word in new_input:\n",
    "    output = [word, lemmatizer.lemmatize(word,pos = 'n'), lemmatizer.lemmatize(word,pos = 'v')]\n",
    "    print(formattedText.format(*output))"
   ]
  },
  {
   "cell_type": "code",
   "execution_count": 84,
   "metadata": {},
   "outputs": [],
   "source": [
    "def lemmatizer_text(text):\n",
    "    \"\"\"\n",
    "        text: a string\n",
    "        \n",
    "        return: modified initial string\n",
    "    \"\"\"\n",
    "    lemmatizer = WordNetLemmatizer()\n",
    "    text = ' '.join(lemmatizer.lemmatize(word,pos = 'v') for word in text.split())\n",
    "    return text\n",
    "\n",
    "data.description = data.description.apply(lemmatizer_text)"
   ]
  },
  {
   "cell_type": "code",
   "execution_count": 87,
   "metadata": {},
   "outputs": [],
   "source": [
    "from nltk.tokenize import RegexpTokenizer\n",
    "def createToken(inputText):\n",
    "    tokenizer = RegexpTokenizer(r'\\w+')\n",
    "    tokens = tokenizer.tokenize(inputText)\n",
    "    \n",
    "    return tokens\n",
    "newToken = [createToken(x) for x in data.description]"
   ]
  },
  {
   "cell_type": "code",
   "execution_count": 88,
   "metadata": {},
   "outputs": [],
   "source": [
    "dictTokens = corpora.Dictionary(newToken)\n",
    "\n",
    "docTermMatrix = [dictTokens.doc2bow(tk) for tk in newToken]\n",
    "\n",
    "numTopic = len(np.unique(data.category))"
   ]
  },
  {
   "cell_type": "code",
   "execution_count": 90,
   "metadata": {},
   "outputs": [
    {
     "name": "stdout",
     "output_type": "stream",
     "text": [
      "\n",
      " Top510contributing words to each topic: \n",
      "\n",
      "Topic 0\n",
      "\"colour\" ==> 2.9%\n",
      "\"mm\" ==> 2.8%\n",
      "\"print\" ==> 2.7%\n",
      "\"full\" ==> 2.5%\n",
      "\"personalise\" ==> 2.4%\n",
      "\"data\" ==> 2.2%\n",
      "\"mail\" ==> 2.1%\n",
      "\"insert\" ==> 1.7%\n",
      "\"bag\" ==> 1.7%\n",
      "\"fold\" ==> 1.6%\n",
      "\n",
      "Topic 1\n",
      "\"letter\" ==> 5.5%\n",
      "\"booklet\" ==> 5.3%\n",
      "\"release\" ==> 5.1%\n",
      "\"gsm\" ==> 4.9%\n",
      "\"supply\" ==> 4.2%\n",
      "\"dsa\" ==> 3.7%\n",
      "\"c\" ==> 3.5%\n",
      "\"outer\" ==> 3.1%\n",
      "\"provider\" ==> 2.9%\n",
      "\"pp\" ==> 2.8%\n",
      "\n",
      "Topic 2\n",
      "\"print\" ==> 4.6%\n",
      "\"finish\" ==> 3.9%\n",
      "\"mm\" ==> 3.8%\n",
      "\"supply\" ==> 3.7%\n",
      "\"colour\" ==> 3.4%\n",
      "\"proof\" ==> 2.9%\n",
      "\"size\" ==> 2.6%\n",
      "\"cut\" ==> 2.5%\n",
      "\"flat\" ==> 2.4%\n",
      "\"shape\" ==> 2.3%\n",
      "\n",
      "Topic 3\n",
      "\"letter\" ==> 5.2%\n",
      "\"print\" ==> 3.6%\n",
      "\"insert\" ==> 3.3%\n",
      "\"supply\" ==> 3.2%\n",
      "\"require\" ==> 2.9%\n",
      "\"release\" ==> 2.8%\n",
      "\"personalise\" ==> 2.7%\n",
      "\"sample\" ==> 2.3%\n",
      "\"fold\" ==> 2.3%\n",
      "\"account\" ==> 2.1%\n",
      "\n",
      "Topic 4\n",
      "\"mm\" ==> 8.4%\n",
      "\"colour\" ==> 3.9%\n",
      "\"envelope\" ==> 3.7%\n",
      "\"window\" ==> 3.2%\n",
      "\"face\" ==> 2.5%\n",
      "\"size\" ==> 2.1%\n",
      "\"black\" ==> 2.1%\n",
      "\"flap\" ==> 2.0%\n",
      "\"gsm\" ==> 2.0%\n",
      "\"print\" ==> 1.7%\n",
      "\n",
      "Topic 5\n",
      "\"side\" ==> 7.1%\n",
      "\"one\" ==> 5.3%\n",
      "\"colour\" ==> 5.1%\n",
      "\"full\" ==> 5.0%\n",
      "\"gsm\" ==> 4.3%\n",
      "\"uncoated\" ==> 4.1%\n",
      "\"letter\" ==> 2.7%\n",
      "\"fold\" ==> 2.7%\n",
      "\"cover\" ==> 2.7%\n",
      "\"hold\" ==> 2.4%\n",
      "\n",
      "Topic 6\n",
      "\"suppressions\" ==> 9.0%\n",
      "\"mail\" ==> 6.7%\n",
      "\"suppression\" ==> 5.7%\n",
      "\"decease\" ==> 4.4%\n",
      "\"gdpr\" ==> 4.4%\n",
      "\"filename\" ==> 3.4%\n",
      "\"spreadsheet\" ==> 3.4%\n",
      "\"seminar\" ==> 3.0%\n",
      "\"name\" ==> 1.7%\n",
      "\"data\" ==> 1.7%\n",
      "\n",
      "Topic 7\n",
      "\"size\" ==> 5.0%\n",
      "\"colour\" ==> 4.0%\n",
      "\"finish\" ==> 3.9%\n",
      "\"pp\" ==> 3.7%\n",
      "\"gsm\" ==> 3.7%\n",
      "\"fold\" ==> 3.7%\n",
      "\"print\" ==> 3.5%\n",
      "\"mm\" ==> 3.5%\n",
      "\"full\" ==> 3.4%\n",
      "\"trim\" ==> 2.9%\n",
      "\n",
      "Topic 8\n",
      "\"supply\" ==> 5.5%\n",
      "\"record\" ==> 4.3%\n",
      "\"mail\" ==> 3.8%\n",
      "\"letter\" ==> 3.5%\n",
      "\"large\" ==> 3.3%\n",
      "\"uk\" ==> 2.6%\n",
      "\"data\" ==> 2.5%\n",
      "\"insert\" ==> 2.5%\n",
      "\"window\" ==> 2.4%\n",
      "\"post\" ==> 2.4%\n",
      "\n",
      "Topic 9\n",
      "\"poster\" ==> 3.9%\n",
      "\"delivery\" ==> 3.7%\n",
      "\"size\" ==> 3.7%\n",
      "\"print\" ==> 3.6%\n",
      "\"pp\" ==> 3.3%\n",
      "\"gsm\" ==> 3.2%\n",
      "\"ark\" ==> 3.2%\n",
      "\"h\" ==> 3.2%\n",
      "\"trim\" ==> 3.1%\n",
      "\"brand\" ==> 2.6%\n",
      "\n",
      "Topic 10\n",
      "\"colour\" ==> 7.3%\n",
      "\"print\" ==> 7.2%\n",
      "\"size\" ==> 5.6%\n",
      "\"gsm\" ==> 5.5%\n",
      "\"trim\" ==> 5.4%\n",
      "\"pp\" ==> 5.4%\n",
      "\"full\" ==> 4.5%\n",
      "\"silk\" ==> 4.0%\n",
      "\"pack\" ==> 3.0%\n",
      "\"suitably\" ==> 2.8%\n"
     ]
    }
   ],
   "source": [
    "ladaModel = models.ldamodel.LdaModel(docTermMatrix, num_topics=numTopic, id2word=dictTokens, passes= 25)\n",
    "numTop5 = 10\n",
    "\n",
    "print('\\n Top5'+ str(numTop5) + 'contributing words to each topic: ')\n",
    "\n",
    "for item in ladaModel.print_topics(num_topics = numTopic, num_words = numTop5):\n",
    "    print('\\nTopic', item[0])\n",
    "    \n",
    "#     Contributing words along with their relative contribution\n",
    "    list_of_strings = item[1].split(' + ')\n",
    "    for text in list_of_strings:\n",
    "        weight = text.split('*')[0]\n",
    "        word = text.split('*')[1]\n",
    "        print(word, '==>', str(round(float(weight)*100,2))+'%')"
   ]
  },
  {
   "cell_type": "code",
   "execution_count": 91,
   "metadata": {},
   "outputs": [
    {
     "name": "stdout",
     "output_type": "stream",
     "text": [
      "<class 'pandas.core.frame.DataFrame'>\n",
      "Int64Index: 530 entries, 0 to 950\n",
      "Data columns (total 4 columns):\n",
      "id             530 non-null object\n",
      "Name           530 non-null object\n",
      "category       530 non-null object\n",
      "description    530 non-null object\n",
      "dtypes: object(4)\n",
      "memory usage: 40.7+ KB\n"
     ]
    }
   ],
   "source": [
    "data.info()"
   ]
  },
  {
   "cell_type": "code",
   "execution_count": 92,
   "metadata": {},
   "outputs": [],
   "source": [
    "tfidfconverter = TfidfVectorizer(min_df=5, max_df=0.7,ngram_range=(1,3))\n",
    "X = tfidfconverter.fit_transform(data.description)\n",
    "total_feature = X.shape[1]\n",
    "\n",
    "le = LabelEncoder()\n",
    "le.fit(data.category)\n",
    "target = le.classes_\n",
    "labels = le.transform(data.category)\n",
    "y = pd.DataFrame({'id':data.id,'category':labels,'categoryName':target[labels],'originText':data.description.apply(clean_text)})"
   ]
  },
  {
   "cell_type": "code",
   "execution_count": 93,
   "metadata": {},
   "outputs": [],
   "source": [
    "X_train, X_test, yTrain, yTest = train_test_split(X, y, test_size=0.2, random_state = 27)\n",
    "y_train = yTrain.category\n",
    "y_test = yTest.category"
   ]
  },
  {
   "cell_type": "code",
   "execution_count": 94,
   "metadata": {},
   "outputs": [
    {
     "data": {
      "text/plain": [
       "(86, 20.41509433962264)"
      ]
     },
     "execution_count": 94,
     "metadata": {},
     "output_type": "execute_result"
    }
   ],
   "source": [
    "from keras.preprocessing.text import Tokenizer\n",
    "data = yTrain.originText\n",
    "tokenizer = Tokenizer()\n",
    "tokenizer.fit_on_texts(data)\n",
    "sequences = tokenizer.texts_to_sequences(data)\n",
    "trainlengths = [len(ele) for ele in sequences]\n",
    "max(trainlengths), np.mean(trainlengths)"
   ]
  },
  {
   "cell_type": "code",
   "execution_count": 95,
   "metadata": {},
   "outputs": [
    {
     "name": "stdout",
     "output_type": "stream",
     "text": [
      "Total features: 1167\n",
      "Best size: 700 Best accuracy: 0.9433962264150944\n"
     ]
    }
   ],
   "source": [
    "scores = []\n",
    "nums = []\n",
    "print(\"Total features: \"+ str(total_feature))\n",
    "for num in range(50,total_feature,50):\n",
    "    selectBest = SelectKBest(chi2, k=num).fit(X_train, y_train)\n",
    "    Xtrainbest = selectBest.transform(X_train)\n",
    "    Xtestbest = selectBest.transform(X_test)\n",
    "    model = LinearSVC(random_state=42,class_weight=\"balanced\")\n",
    "    model.fit(Xtrainbest,y_train)\n",
    "    score = model.score(Xtestbest,y_test)\n",
    "    scores.append(score)\n",
    "    nums.append(num)\n",
    "\n",
    "index = np.argmax(scores)\n",
    "print(\"Best size: \"+ str(nums[index]) + \" Best accuracy: \"+ str(max(scores))) "
   ]
  },
  {
   "cell_type": "code",
   "execution_count": 96,
   "metadata": {},
   "outputs": [],
   "source": [
    "selectBest = SelectKBest(chi2, k=nums[index]).fit(X_train, y_train)\n",
    "Xtrainbest = selectBest.transform(X_train)\n",
    "Xtestbest = selectBest.transform(X_test)"
   ]
  },
  {
   "cell_type": "code",
   "execution_count": 97,
   "metadata": {},
   "outputs": [
    {
     "name": "stdout",
     "output_type": "stream",
     "text": [
      "CPU times: user 2 µs, sys: 0 ns, total: 2 µs\n",
      "Wall time: 6.2 µs\n"
     ]
    },
    {
     "data": {
      "text/plain": [
       "LinearSVC(C=1.0, class_weight='balanced', dual=True, fit_intercept=True,\n",
       "     intercept_scaling=1, loss='squared_hinge', max_iter=1000,\n",
       "     multi_class='ovr', penalty='l2', random_state=42, tol=0.0001,\n",
       "     verbose=0)"
      ]
     },
     "execution_count": 97,
     "metadata": {},
     "output_type": "execute_result"
    }
   ],
   "source": [
    "\n",
    "%time\n",
    "# 5.01\n",
    "model.fit(Xtrainbest,y_train)"
   ]
  },
  {
   "cell_type": "code",
   "execution_count": 98,
   "metadata": {},
   "outputs": [],
   "source": [
    "coef = model.coef_\n",
    "y_confidence = model.decision_function(Xtestbest)\n"
   ]
  },
  {
   "cell_type": "code",
   "execution_count": 99,
   "metadata": {},
   "outputs": [
    {
     "name": "stdout",
     "output_type": "stream",
     "text": [
      "CPU times: user 2 µs, sys: 0 ns, total: 2 µs\n",
      "Wall time: 4.77 µs\n"
     ]
    }
   ],
   "source": [
    "%time\n",
    "y_pred = model.predict(Xtestbest)"
   ]
  },
  {
   "cell_type": "code",
   "execution_count": 100,
   "metadata": {},
   "outputs": [
    {
     "name": "stdout",
     "output_type": "stream",
     "text": [
      "              precision    recall  f1-score   support\n",
      "\n",
      "     Booklet       1.00      1.00      1.00         6\n",
      "        DPLM       1.00      1.00      1.00        11\n",
      "    Envelope       1.00      1.00      1.00         4\n",
      "     Leaflet       0.83      1.00      0.91        10\n",
      "      Letter       1.00      1.00      1.00         8\n",
      "   Mail Pack       1.00      0.93      0.96        14\n",
      "         POS       0.89      0.89      0.89        18\n",
      "     Postage       1.00      1.00      1.00         1\n",
      "     Posters       1.00      0.94      0.97        16\n",
      "       Promo       0.85      0.85      0.85        13\n",
      "Suppressions       1.00      1.00      1.00         5\n",
      "\n",
      "   micro avg       0.94      0.94      0.94       106\n",
      "   macro avg       0.96      0.96      0.96       106\n",
      "weighted avg       0.95      0.94      0.94       106\n",
      "\n"
     ]
    }
   ],
   "source": [
    "print(classification_report(y_test, y_pred,target_names=target))\n"
   ]
  },
  {
   "cell_type": "code",
   "execution_count": null,
   "metadata": {},
   "outputs": [],
   "source": []
  },
  {
   "cell_type": "code",
   "execution_count": null,
   "metadata": {},
   "outputs": [],
   "source": []
  }
 ],
 "metadata": {
  "kernelspec": {
   "display_name": "Python 3",
   "language": "python",
   "name": "python3"
  },
  "language_info": {
   "codemirror_mode": {
    "name": "ipython",
    "version": 3
   },
   "file_extension": ".py",
   "mimetype": "text/x-python",
   "name": "python",
   "nbconvert_exporter": "python",
   "pygments_lexer": "ipython3",
   "version": "3.6.5"
  }
 },
 "nbformat": 4,
 "nbformat_minor": 2
}
