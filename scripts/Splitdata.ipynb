{
 "cells": [
  {
   "cell_type": "code",
   "execution_count": 39,
   "metadata": {},
   "outputs": [],
   "source": [
    "import re\n",
    "import nltk\n",
    "from nltk.corpus import stopwords\n",
    "\n",
    "REPLACE_BY_SPACE_RE = re.compile('[/(){}\\[\\]\\|@,;-]')\n",
    "BAD_SYMBOLS_RE = re.compile('[^0-9a-z #+_]')\n",
    "STOPWORDS = set(stopwords.words('english'))\n",
    "Number_RE = re.compile('[*^0-9]')\n",
    "Bad_underline = re.compile('[*_*]')\n",
    "RemoveTag = re.compile('&lt;|br&gt;|b&gt;|ul&gt;|li&gt;|lt|gt|brgt|ligt|ul|b|p|div')\n",
    "\n",
    "def clean_text(text):\n",
    "    \"\"\"\n",
    "        text: a string\n",
    "        \n",
    "        return: modified initial string\n",
    "    \"\"\"\n",
    "    text = text.lower() # lowercase text\n",
    "    text = RemoveTag.sub('',text)\n",
    "    text = REPLACE_BY_SPACE_RE.sub(' ', text) # replace REPLACE_BY_SPACE_RE symbols by space in text\n",
    "    text = Number_RE.sub(' ', text) # replace Number symbols by space in text\n",
    "    text = Bad_underline.sub(' ', text) # replace Underline symbols by space in text\n",
    "    text = BAD_SYMBOLS_RE.sub('', text) # delete symbols which are in BAD_SYMBOLS_RE from text\n",
    "    text = ' '.join(word for word in text.split() if word not in STOPWORDS) # delete stopwors from text\n",
    "    return text"
   ]
  },
  {
   "cell_type": "code",
   "execution_count": 40,
   "metadata": {},
   "outputs": [],
   "source": [
    "def classNumberThreshold(arr):\n",
    "    dropCategory = []\n",
    "\n",
    "    for key,value in arr.items():\n",
    "        if(value<=30):\n",
    "            dropCategory.append(key)\n",
    "    return dropCategory"
   ]
  },
  {
   "cell_type": "code",
   "execution_count": 41,
   "metadata": {},
   "outputs": [
    {
     "data": {
      "text/html": [
       "<div>\n",
       "<style scoped>\n",
       "    .dataframe tbody tr th:only-of-type {\n",
       "        vertical-align: middle;\n",
       "    }\n",
       "\n",
       "    .dataframe tbody tr th {\n",
       "        vertical-align: top;\n",
       "    }\n",
       "\n",
       "    .dataframe thead th {\n",
       "        text-align: right;\n",
       "    }\n",
       "</style>\n",
       "<table border=\"1\" class=\"dataframe\">\n",
       "  <thead>\n",
       "    <tr style=\"text-align: right;\">\n",
       "      <th></th>\n",
       "      <th>productName</th>\n",
       "      <th>shortDescription</th>\n",
       "      <th>longDescription</th>\n",
       "      <th>itemId</th>\n",
       "      <th>category</th>\n",
       "      <th>subcategory</th>\n",
       "      <th>sub2category</th>\n",
       "      <th>categoryName</th>\n",
       "      <th>subcategoryName</th>\n",
       "      <th>sub2categoryName</th>\n",
       "    </tr>\n",
       "  </thead>\n",
       "  <tbody>\n",
       "    <tr>\n",
       "      <th>0</th>\n",
       "      <td>Rose Cottage Girls' Hunter Green  Jacket Dress</td>\n",
       "      <td>Paired with its' trendy jacket or worn alone, ...</td>\n",
       "      <td>Sean John Boys Tiger Frame Graphic T-Shirt</td>\n",
       "      <td>107</td>\n",
       "      <td>5438.0</td>\n",
       "      <td>7712430.0</td>\n",
       "      <td>7809949.0</td>\n",
       "      <td>Clothing</td>\n",
       "      <td>Kids Clothing</td>\n",
       "      <td>Boys Clothing</td>\n",
       "    </tr>\n",
       "    <tr>\n",
       "      <th>1</th>\n",
       "      <td>Wrangler Men's Relaxed Fit Jeans</td>\n",
       "      <td>These Wrangler Men's Relaxed Fit Jeans are gre...</td>\n",
       "      <td>&amp;lt;br&amp;gt;&amp;lt;b&amp;gt;Wrangler Men's Relaxed Fit ...</td>\n",
       "      <td>637</td>\n",
       "      <td>5438.0</td>\n",
       "      <td>133197.0</td>\n",
       "      <td>6127105.0</td>\n",
       "      <td>Clothing</td>\n",
       "      <td>Men</td>\n",
       "      <td>Mens Jeans</td>\n",
       "    </tr>\n",
       "    <tr>\n",
       "      <th>2</th>\n",
       "      <td>Wrangler Men's Relaxed Fit Jeans</td>\n",
       "      <td>These Wrangler Men's Relaxed Fit Jeans are gre...</td>\n",
       "      <td>&amp;lt;br&amp;gt;&amp;lt;b&amp;gt;Wrangler Men's Relaxed Fit ...</td>\n",
       "      <td>638</td>\n",
       "      <td>5438.0</td>\n",
       "      <td>133197.0</td>\n",
       "      <td>6127105.0</td>\n",
       "      <td>Clothing</td>\n",
       "      <td>Men</td>\n",
       "      <td>Mens Jeans</td>\n",
       "    </tr>\n",
       "    <tr>\n",
       "      <th>3</th>\n",
       "      <td>Wrangler Men's Relaxed Fit Jeans</td>\n",
       "      <td>These Wrangler Men's Relaxed Fit Jeans are gre...</td>\n",
       "      <td>&amp;lt;br&amp;gt;&amp;lt;b&amp;gt;Wrangler Men's Relaxed Fit ...</td>\n",
       "      <td>642</td>\n",
       "      <td>5438.0</td>\n",
       "      <td>133197.0</td>\n",
       "      <td>6127105.0</td>\n",
       "      <td>Clothing</td>\n",
       "      <td>Men</td>\n",
       "      <td>Mens Jeans</td>\n",
       "    </tr>\n",
       "    <tr>\n",
       "      <th>4</th>\n",
       "      <td>Wrangler Men's Relaxed Fit Jeans</td>\n",
       "      <td>These Wrangler Men's Relaxed Fit Jeans are gre...</td>\n",
       "      <td>&amp;lt;br&amp;gt;&amp;lt;b&amp;gt;Wrangler Men's Relaxed Fit ...</td>\n",
       "      <td>643</td>\n",
       "      <td>5438.0</td>\n",
       "      <td>133197.0</td>\n",
       "      <td>6127105.0</td>\n",
       "      <td>Clothing</td>\n",
       "      <td>Men</td>\n",
       "      <td>Mens Jeans</td>\n",
       "    </tr>\n",
       "  </tbody>\n",
       "</table>\n",
       "</div>"
      ],
      "text/plain": [
       "                                      productName  \\\n",
       "0  Rose Cottage Girls' Hunter Green  Jacket Dress   \n",
       "1                Wrangler Men's Relaxed Fit Jeans   \n",
       "2                Wrangler Men's Relaxed Fit Jeans   \n",
       "3                Wrangler Men's Relaxed Fit Jeans   \n",
       "4                Wrangler Men's Relaxed Fit Jeans   \n",
       "\n",
       "                                    shortDescription  \\\n",
       "0  Paired with its' trendy jacket or worn alone, ...   \n",
       "1  These Wrangler Men's Relaxed Fit Jeans are gre...   \n",
       "2  These Wrangler Men's Relaxed Fit Jeans are gre...   \n",
       "3  These Wrangler Men's Relaxed Fit Jeans are gre...   \n",
       "4  These Wrangler Men's Relaxed Fit Jeans are gre...   \n",
       "\n",
       "                                     longDescription  itemId  category  \\\n",
       "0         Sean John Boys Tiger Frame Graphic T-Shirt     107    5438.0   \n",
       "1  &lt;br&gt;&lt;b&gt;Wrangler Men's Relaxed Fit ...     637    5438.0   \n",
       "2  &lt;br&gt;&lt;b&gt;Wrangler Men's Relaxed Fit ...     638    5438.0   \n",
       "3  &lt;br&gt;&lt;b&gt;Wrangler Men's Relaxed Fit ...     642    5438.0   \n",
       "4  &lt;br&gt;&lt;b&gt;Wrangler Men's Relaxed Fit ...     643    5438.0   \n",
       "\n",
       "   subcategory  sub2category categoryName subcategoryName sub2categoryName  \n",
       "0    7712430.0     7809949.0     Clothing   Kids Clothing    Boys Clothing  \n",
       "1     133197.0     6127105.0     Clothing             Men       Mens Jeans  \n",
       "2     133197.0     6127105.0     Clothing             Men       Mens Jeans  \n",
       "3     133197.0     6127105.0     Clothing             Men       Mens Jeans  \n",
       "4     133197.0     6127105.0     Clothing             Men       Mens Jeans  "
      ]
     },
     "execution_count": 41,
     "metadata": {},
     "output_type": "execute_result"
    }
   ],
   "source": [
    "import pandas as pd\n",
    "import numpy as np\n",
    "from sklearn.preprocessing import LabelEncoder\n",
    "\n",
    "df = pd.read_csv('../example/walmartNewData.csv')\n",
    "df.head()"
   ]
  },
  {
   "cell_type": "code",
   "execution_count": 42,
   "metadata": {},
   "outputs": [
    {
     "name": "stdout",
     "output_type": "stream",
     "text": [
      "<class 'pandas.core.frame.DataFrame'>\n",
      "RangeIndex: 138401 entries, 0 to 138400\n",
      "Data columns (total 10 columns):\n",
      "productName         138401 non-null object\n",
      "shortDescription    138401 non-null object\n",
      "longDescription     138401 non-null object\n",
      "itemId              138401 non-null int64\n",
      "category            135674 non-null float64\n",
      "subcategory         135674 non-null float64\n",
      "sub2category        134701 non-null float64\n",
      "categoryName        138401 non-null object\n",
      "subcategoryName     135674 non-null object\n",
      "sub2categoryName    134703 non-null object\n",
      "dtypes: float64(3), int64(1), object(6)\n",
      "memory usage: 10.6+ MB\n"
     ]
    }
   ],
   "source": [
    "df.info()"
   ]
  },
  {
   "cell_type": "code",
   "execution_count": 43,
   "metadata": {},
   "outputs": [],
   "source": [
    "df = df[pd.notnull(df['longDescription'])]\n",
    "df = df[pd.notnull(df['category'])]\n",
    "df = df[pd.notnull(df['subcategory'])]\n",
    "df = df[pd.notnull(df['sub2category'])]\n",
    "df = df[pd.notnull(df['itemId'])]"
   ]
  },
  {
   "cell_type": "code",
   "execution_count": 44,
   "metadata": {},
   "outputs": [],
   "source": [
    "df['category'] = df['category'].apply(int)\n",
    "df['subcategory'] = df['subcategory'].apply(int)\n",
    "df['sub2category'] = df['sub2category'].apply(int)"
   ]
  },
  {
   "cell_type": "code",
   "execution_count": 45,
   "metadata": {},
   "outputs": [
    {
     "data": {
      "text/html": [
       "<div>\n",
       "<style scoped>\n",
       "    .dataframe tbody tr th:only-of-type {\n",
       "        vertical-align: middle;\n",
       "    }\n",
       "\n",
       "    .dataframe tbody tr th {\n",
       "        vertical-align: top;\n",
       "    }\n",
       "\n",
       "    .dataframe thead th {\n",
       "        text-align: right;\n",
       "    }\n",
       "</style>\n",
       "<table border=\"1\" class=\"dataframe\">\n",
       "  <thead>\n",
       "    <tr style=\"text-align: right;\">\n",
       "      <th></th>\n",
       "      <th>productName</th>\n",
       "      <th>shortDescription</th>\n",
       "      <th>longDescription</th>\n",
       "      <th>itemId</th>\n",
       "      <th>category</th>\n",
       "      <th>subcategory</th>\n",
       "      <th>sub2category</th>\n",
       "      <th>categoryName</th>\n",
       "      <th>subcategoryName</th>\n",
       "      <th>sub2categoryName</th>\n",
       "    </tr>\n",
       "  </thead>\n",
       "  <tbody>\n",
       "    <tr>\n",
       "      <th>0</th>\n",
       "      <td>Rose Cottage Girls' Hunter Green  Jacket Dress</td>\n",
       "      <td>Paired with its' trendy jacket or worn alone, ...</td>\n",
       "      <td>Sean John Boys Tiger Frame Graphic T-Shirt</td>\n",
       "      <td>107</td>\n",
       "      <td>5438</td>\n",
       "      <td>7712430</td>\n",
       "      <td>7809949</td>\n",
       "      <td>Clothing</td>\n",
       "      <td>Kids Clothing</td>\n",
       "      <td>Boys Clothing</td>\n",
       "    </tr>\n",
       "    <tr>\n",
       "      <th>1</th>\n",
       "      <td>Wrangler Men's Relaxed Fit Jeans</td>\n",
       "      <td>These Wrangler Men's Relaxed Fit Jeans are gre...</td>\n",
       "      <td>&amp;lt;br&amp;gt;&amp;lt;b&amp;gt;Wrangler Men's Relaxed Fit ...</td>\n",
       "      <td>637</td>\n",
       "      <td>5438</td>\n",
       "      <td>133197</td>\n",
       "      <td>6127105</td>\n",
       "      <td>Clothing</td>\n",
       "      <td>Men</td>\n",
       "      <td>Mens Jeans</td>\n",
       "    </tr>\n",
       "    <tr>\n",
       "      <th>2</th>\n",
       "      <td>Wrangler Men's Relaxed Fit Jeans</td>\n",
       "      <td>These Wrangler Men's Relaxed Fit Jeans are gre...</td>\n",
       "      <td>&amp;lt;br&amp;gt;&amp;lt;b&amp;gt;Wrangler Men's Relaxed Fit ...</td>\n",
       "      <td>638</td>\n",
       "      <td>5438</td>\n",
       "      <td>133197</td>\n",
       "      <td>6127105</td>\n",
       "      <td>Clothing</td>\n",
       "      <td>Men</td>\n",
       "      <td>Mens Jeans</td>\n",
       "    </tr>\n",
       "    <tr>\n",
       "      <th>3</th>\n",
       "      <td>Wrangler Men's Relaxed Fit Jeans</td>\n",
       "      <td>These Wrangler Men's Relaxed Fit Jeans are gre...</td>\n",
       "      <td>&amp;lt;br&amp;gt;&amp;lt;b&amp;gt;Wrangler Men's Relaxed Fit ...</td>\n",
       "      <td>642</td>\n",
       "      <td>5438</td>\n",
       "      <td>133197</td>\n",
       "      <td>6127105</td>\n",
       "      <td>Clothing</td>\n",
       "      <td>Men</td>\n",
       "      <td>Mens Jeans</td>\n",
       "    </tr>\n",
       "    <tr>\n",
       "      <th>4</th>\n",
       "      <td>Wrangler Men's Relaxed Fit Jeans</td>\n",
       "      <td>These Wrangler Men's Relaxed Fit Jeans are gre...</td>\n",
       "      <td>&amp;lt;br&amp;gt;&amp;lt;b&amp;gt;Wrangler Men's Relaxed Fit ...</td>\n",
       "      <td>643</td>\n",
       "      <td>5438</td>\n",
       "      <td>133197</td>\n",
       "      <td>6127105</td>\n",
       "      <td>Clothing</td>\n",
       "      <td>Men</td>\n",
       "      <td>Mens Jeans</td>\n",
       "    </tr>\n",
       "  </tbody>\n",
       "</table>\n",
       "</div>"
      ],
      "text/plain": [
       "                                      productName  \\\n",
       "0  Rose Cottage Girls' Hunter Green  Jacket Dress   \n",
       "1                Wrangler Men's Relaxed Fit Jeans   \n",
       "2                Wrangler Men's Relaxed Fit Jeans   \n",
       "3                Wrangler Men's Relaxed Fit Jeans   \n",
       "4                Wrangler Men's Relaxed Fit Jeans   \n",
       "\n",
       "                                    shortDescription  \\\n",
       "0  Paired with its' trendy jacket or worn alone, ...   \n",
       "1  These Wrangler Men's Relaxed Fit Jeans are gre...   \n",
       "2  These Wrangler Men's Relaxed Fit Jeans are gre...   \n",
       "3  These Wrangler Men's Relaxed Fit Jeans are gre...   \n",
       "4  These Wrangler Men's Relaxed Fit Jeans are gre...   \n",
       "\n",
       "                                     longDescription  itemId  category  \\\n",
       "0         Sean John Boys Tiger Frame Graphic T-Shirt     107      5438   \n",
       "1  &lt;br&gt;&lt;b&gt;Wrangler Men's Relaxed Fit ...     637      5438   \n",
       "2  &lt;br&gt;&lt;b&gt;Wrangler Men's Relaxed Fit ...     638      5438   \n",
       "3  &lt;br&gt;&lt;b&gt;Wrangler Men's Relaxed Fit ...     642      5438   \n",
       "4  &lt;br&gt;&lt;b&gt;Wrangler Men's Relaxed Fit ...     643      5438   \n",
       "\n",
       "   subcategory  sub2category categoryName subcategoryName sub2categoryName  \n",
       "0      7712430       7809949     Clothing   Kids Clothing    Boys Clothing  \n",
       "1       133197       6127105     Clothing             Men       Mens Jeans  \n",
       "2       133197       6127105     Clothing             Men       Mens Jeans  \n",
       "3       133197       6127105     Clothing             Men       Mens Jeans  \n",
       "4       133197       6127105     Clothing             Men       Mens Jeans  "
      ]
     },
     "execution_count": 45,
     "metadata": {},
     "output_type": "execute_result"
    }
   ],
   "source": [
    "df.head()"
   ]
  },
  {
   "cell_type": "code",
   "execution_count": 46,
   "metadata": {},
   "outputs": [],
   "source": [
    "le = LabelEncoder()\n",
    "le.fit(df.category)\n",
    "target = le.classes_\n",
    "labels = le.transform(df.category)\n",
    "\n",
    "le.fit(df.subcategory)\n",
    "subtarget = le.classes_\n",
    "sublabels = le.transform(df.subcategory)\n",
    "\n",
    "le.fit(df.sub2category)\n",
    "sub2target = le.classes_\n",
    "sub2labels = le.transform(df.sub2category)"
   ]
  },
  {
   "cell_type": "code",
   "execution_count": 47,
   "metadata": {},
   "outputs": [],
   "source": [
    "categorydict = dict(df.groupby(['category','categoryName']).groups.keys()) \n",
    "subcategorydict = dict(df.groupby(['subcategory','subcategoryName']).groups.keys()) \n",
    "targetName = [categorydict[ele] for ele in target]\n",
    "subTargetName = [subcategorydict[ele] for ele in subtarget]"
   ]
  },
  {
   "cell_type": "code",
   "execution_count": 48,
   "metadata": {},
   "outputs": [],
   "source": [
    "y = pd.DataFrame({'id':df.itemId,'category':labels, 'subcategory':sublabels,'sub2category':sub2labels,'description':df.longDescription})"
   ]
  },
  {
   "cell_type": "code",
   "execution_count": 49,
   "metadata": {},
   "outputs": [],
   "source": [
    "from sklearn.model_selection import train_test_split\n",
    "X_train, X_test, y_train, y_test = train_test_split(df.longDescription, y, test_size=0.2, random_state = 27)"
   ]
  },
  {
   "cell_type": "code",
   "execution_count": 50,
   "metadata": {},
   "outputs": [],
   "source": [
    "pd.DataFrame({'X_train':X_train}).to_csv(\"Walmart/X_train.csv\",index=False,compression=None)"
   ]
  },
  {
   "cell_type": "code",
   "execution_count": 51,
   "metadata": {},
   "outputs": [],
   "source": [
    "pd.DataFrame({'X_test':X_test}).to_csv(\"Walmart/X_test.csv\",index=False,compression=None)"
   ]
  },
  {
   "cell_type": "code",
   "execution_count": 52,
   "metadata": {},
   "outputs": [],
   "source": [
    "y_train.to_csv(\"Walmart/y_train.csv\",index=False,compression=None)"
   ]
  },
  {
   "cell_type": "code",
   "execution_count": 53,
   "metadata": {},
   "outputs": [],
   "source": [
    "y_test.to_csv(\"Walmart/y_test.csv\",index=False,compression=None)"
   ]
  },
  {
   "cell_type": "code",
   "execution_count": 54,
   "metadata": {},
   "outputs": [],
   "source": [
    "pd.DataFrame({'target':target,'targetName':targetName,'newLabel':np.unique(labels)}).to_csv(\"Walmart/label.csv\",index=False,compression=None)\n",
    "pd.DataFrame({'subtarget':subtarget,'subTargetName':subTargetName,'newSubLabel':np.unique(sublabels)}).to_csv(\"Walmart/sublabel.csv\",index=False,compression=None)\n",
    "pd.DataFrame({'sub2target':sub2target,'newSub2Label':np.unique(sub2labels)}).to_csv(\"Walmart/sub2label.csv\",index=False,compression=None)\n"
   ]
  },
  {
   "cell_type": "code",
   "execution_count": 55,
   "metadata": {},
   "outputs": [
    {
     "data": {
      "text/html": [
       "<div>\n",
       "<style scoped>\n",
       "    .dataframe tbody tr th:only-of-type {\n",
       "        vertical-align: middle;\n",
       "    }\n",
       "\n",
       "    .dataframe tbody tr th {\n",
       "        vertical-align: top;\n",
       "    }\n",
       "\n",
       "    .dataframe thead th {\n",
       "        text-align: right;\n",
       "    }\n",
       "</style>\n",
       "<table border=\"1\" class=\"dataframe\">\n",
       "  <thead>\n",
       "    <tr style=\"text-align: right;\">\n",
       "      <th></th>\n",
       "      <th>uniq_id</th>\n",
       "      <th>product_url</th>\n",
       "      <th>product_name</th>\n",
       "      <th>pid</th>\n",
       "      <th>description</th>\n",
       "      <th>category_main</th>\n",
       "      <th>category_sub1</th>\n",
       "      <th>category_sub2</th>\n",
       "    </tr>\n",
       "  </thead>\n",
       "  <tbody>\n",
       "    <tr>\n",
       "      <th>0</th>\n",
       "      <td>c2d766ca982eca8304150849735ffef9</td>\n",
       "      <td>http://www.flipkart.com/alisha-solid-women-s-c...</td>\n",
       "      <td>Alisha Solid Women's Cycling Shorts</td>\n",
       "      <td>SRTEH2FF9KEDEFGF</td>\n",
       "      <td>Key Features of Alisha Solid Women's Cycling S...</td>\n",
       "      <td>Clothing</td>\n",
       "      <td>Women's Clothing</td>\n",
       "      <td>Lingerie, Sleep &amp; Swimwear</td>\n",
       "    </tr>\n",
       "    <tr>\n",
       "      <th>1</th>\n",
       "      <td>7f7036a6d550aaa89d34c77bd39a5e48</td>\n",
       "      <td>http://www.flipkart.com/fabhomedecor-fabric-do...</td>\n",
       "      <td>FabHomeDecor Fabric Double Sofa Bed</td>\n",
       "      <td>SBEEH3QGU7MFYJFY</td>\n",
       "      <td>FabHomeDecor Fabric Double Sofa Bed (Finish Co...</td>\n",
       "      <td>Furniture</td>\n",
       "      <td>Living Room Furniture</td>\n",
       "      <td>Sofa Beds &amp; Futons</td>\n",
       "    </tr>\n",
       "    <tr>\n",
       "      <th>2</th>\n",
       "      <td>f449ec65dcbc041b6ae5e6a32717d01b</td>\n",
       "      <td>http://www.flipkart.com/aw-bellies/p/itmeh4grg...</td>\n",
       "      <td>AW Bellies</td>\n",
       "      <td>SHOEH4GRSUBJGZXE</td>\n",
       "      <td>Key Features of AW Bellies Sandals Wedges Heel...</td>\n",
       "      <td>Footwear</td>\n",
       "      <td>Women's Footwear</td>\n",
       "      <td>Ballerinas</td>\n",
       "    </tr>\n",
       "    <tr>\n",
       "      <th>3</th>\n",
       "      <td>0973b37acd0c664e3de26e97e5571454</td>\n",
       "      <td>http://www.flipkart.com/alisha-solid-women-s-c...</td>\n",
       "      <td>Alisha Solid Women's Cycling Shorts</td>\n",
       "      <td>SRTEH2F6HUZMQ6SJ</td>\n",
       "      <td>Key Features of Alisha Solid Women's Cycling S...</td>\n",
       "      <td>Clothing</td>\n",
       "      <td>Women's Clothing</td>\n",
       "      <td>Lingerie, Sleep &amp; Swimwear</td>\n",
       "    </tr>\n",
       "    <tr>\n",
       "      <th>4</th>\n",
       "      <td>bc940ea42ee6bef5ac7cea3fb5cfbee7</td>\n",
       "      <td>http://www.flipkart.com/sicons-all-purpose-arn...</td>\n",
       "      <td>Sicons All Purpose Arnica Dog Shampoo</td>\n",
       "      <td>PSOEH3ZYDMSYARJ5</td>\n",
       "      <td>Specifications of Sicons All Purpose Arnica Do...</td>\n",
       "      <td>Pet Supplies</td>\n",
       "      <td>Grooming</td>\n",
       "      <td>Skin &amp; Coat Care</td>\n",
       "    </tr>\n",
       "  </tbody>\n",
       "</table>\n",
       "</div>"
      ],
      "text/plain": [
       "                            uniq_id  \\\n",
       "0  c2d766ca982eca8304150849735ffef9   \n",
       "1  7f7036a6d550aaa89d34c77bd39a5e48   \n",
       "2  f449ec65dcbc041b6ae5e6a32717d01b   \n",
       "3  0973b37acd0c664e3de26e97e5571454   \n",
       "4  bc940ea42ee6bef5ac7cea3fb5cfbee7   \n",
       "\n",
       "                                         product_url  \\\n",
       "0  http://www.flipkart.com/alisha-solid-women-s-c...   \n",
       "1  http://www.flipkart.com/fabhomedecor-fabric-do...   \n",
       "2  http://www.flipkart.com/aw-bellies/p/itmeh4grg...   \n",
       "3  http://www.flipkart.com/alisha-solid-women-s-c...   \n",
       "4  http://www.flipkart.com/sicons-all-purpose-arn...   \n",
       "\n",
       "                            product_name               pid  \\\n",
       "0    Alisha Solid Women's Cycling Shorts  SRTEH2FF9KEDEFGF   \n",
       "1    FabHomeDecor Fabric Double Sofa Bed  SBEEH3QGU7MFYJFY   \n",
       "2                             AW Bellies  SHOEH4GRSUBJGZXE   \n",
       "3    Alisha Solid Women's Cycling Shorts  SRTEH2F6HUZMQ6SJ   \n",
       "4  Sicons All Purpose Arnica Dog Shampoo  PSOEH3ZYDMSYARJ5   \n",
       "\n",
       "                                         description  category_main  \\\n",
       "0  Key Features of Alisha Solid Women's Cycling S...      Clothing    \n",
       "1  FabHomeDecor Fabric Double Sofa Bed (Finish Co...     Furniture    \n",
       "2  Key Features of AW Bellies Sandals Wedges Heel...      Footwear    \n",
       "3  Key Features of Alisha Solid Women's Cycling S...      Clothing    \n",
       "4  Specifications of Sicons All Purpose Arnica Do...  Pet Supplies    \n",
       "\n",
       "             category_sub1                 category_sub2  \n",
       "0        Women's Clothing    Lingerie, Sleep & Swimwear   \n",
       "1   Living Room Furniture            Sofa Beds & Futons   \n",
       "2        Women's Footwear                    Ballerinas   \n",
       "3        Women's Clothing    Lingerie, Sleep & Swimwear   \n",
       "4                Grooming              Skin & Coat Care   "
      ]
     },
     "execution_count": 55,
     "metadata": {},
     "output_type": "execute_result"
    }
   ],
   "source": [
    "import pandas as pd\n",
    "import numpy as np\n",
    "\n",
    "df = pd.read_csv('../example/fliptkart.csv')\n",
    "df.head()"
   ]
  },
  {
   "cell_type": "code",
   "execution_count": 56,
   "metadata": {},
   "outputs": [],
   "source": [
    "df = df[pd.notnull(df['description'])]\n",
    "CleanText = df['description'].apply(clean_text)"
   ]
  },
  {
   "cell_type": "code",
   "execution_count": 57,
   "metadata": {},
   "outputs": [],
   "source": [
    "df = df[pd.notnull(df['category_main'])]\n",
    "df = df[pd.notnull(df['pid'])]"
   ]
  },
  {
   "cell_type": "code",
   "execution_count": 58,
   "metadata": {},
   "outputs": [],
   "source": [
    "dropCategoryCode  = classNumberThreshold(df.category_main.value_counts())\n",
    "dropSubCategoryCode  = classNumberThreshold(df.category_sub1.value_counts())\n",
    "dropSub2CategoryCode  = classNumberThreshold(df.category_sub2.value_counts())\n",
    "\n",
    "for i in dropCategoryCode:\n",
    "    df = df[df.category_main!=i]\n",
    "    \n",
    "for i in dropSubCategoryCode:\n",
    "    df = df[df.category_sub1!=i]\n",
    "\n",
    "for i in dropSub2CategoryCode:\n",
    "    df = df[df.category_sub2!=i]"
   ]
  },
  {
   "cell_type": "code",
   "execution_count": 59,
   "metadata": {},
   "outputs": [
    {
     "name": "stdout",
     "output_type": "stream",
     "text": [
      "<class 'pandas.core.frame.DataFrame'>\n",
      "Int64Index: 15487 entries, 0 to 19997\n",
      "Data columns (total 8 columns):\n",
      "uniq_id          15487 non-null object\n",
      "product_url      15487 non-null object\n",
      "product_name     15487 non-null object\n",
      "pid              15487 non-null object\n",
      "description      15487 non-null object\n",
      "category_main    15487 non-null object\n",
      "category_sub1    15487 non-null object\n",
      "category_sub2    15487 non-null object\n",
      "dtypes: object(8)\n",
      "memory usage: 1.1+ MB\n"
     ]
    }
   ],
   "source": [
    "df.info()"
   ]
  },
  {
   "cell_type": "code",
   "execution_count": 60,
   "metadata": {},
   "outputs": [],
   "source": [
    "le = LabelEncoder()\n",
    "le.fit(df.category_main)\n",
    "target = le.classes_\n",
    "labels = le.transform(df.category_main)\n",
    "\n",
    "le.fit(df.category_sub1)\n",
    "subtarget = le.classes_\n",
    "sublabels = le.transform(df.category_sub1)\n",
    "\n",
    "le.fit(df.category_sub2)\n",
    "sub2target = le.classes_\n",
    "sub2labels = le.transform(df.category_sub2)"
   ]
  },
  {
   "cell_type": "code",
   "execution_count": 61,
   "metadata": {},
   "outputs": [],
   "source": [
    "# categorydict = dict(df.groupby(['category','categoryName']).groups.keys()) \n",
    "# subcategorydict = dict(df.groupby(['subcategory','subcategoryName']).groups.keys()) \n",
    "# targetName = [categorydict[ele] for ele in target]\n",
    "# subTargetName = [subcategorydict[ele] for ele in subtarget]"
   ]
  },
  {
   "cell_type": "code",
   "execution_count": 62,
   "metadata": {},
   "outputs": [],
   "source": [
    "y = pd.DataFrame({'id':df.pid,'category':labels, 'subcategory':sublabels,'sub2category':sub2labels,'description':df.description})"
   ]
  },
  {
   "cell_type": "code",
   "execution_count": 63,
   "metadata": {},
   "outputs": [],
   "source": [
    "from sklearn.model_selection import train_test_split\n",
    "X_train, X_test, y_train, y_test = train_test_split(df.description, y, test_size=0.2, random_state = 27)"
   ]
  },
  {
   "cell_type": "code",
   "execution_count": 64,
   "metadata": {},
   "outputs": [],
   "source": [
    "pd.DataFrame({'X_train':X_train}).to_csv(\"FlipKart/X_train.csv\",index=False,compression=None)"
   ]
  },
  {
   "cell_type": "code",
   "execution_count": 65,
   "metadata": {},
   "outputs": [],
   "source": [
    "pd.DataFrame({'X_test':X_test}).to_csv(\"FlipKart/X_test.csv\",index=False,compression=None)"
   ]
  },
  {
   "cell_type": "code",
   "execution_count": 66,
   "metadata": {},
   "outputs": [],
   "source": [
    "y_train.to_csv(\"FlipKart/y_train.csv\",index=False,compression=None)"
   ]
  },
  {
   "cell_type": "code",
   "execution_count": 67,
   "metadata": {},
   "outputs": [],
   "source": [
    "y_test.to_csv(\"FlipKart/y_test.csv\",index=False,compression=None)"
   ]
  },
  {
   "cell_type": "code",
   "execution_count": 68,
   "metadata": {},
   "outputs": [],
   "source": [
    "pd.DataFrame({'target':target,'newLabel':np.unique(labels)}).to_csv(\"FlipKart/label.csv\",index=False,compression=None)\n",
    "pd.DataFrame({'subtarget':subtarget,'newSubLabel':np.unique(sublabels)}).to_csv(\"FlipKart/sublabel.csv\",index=False,compression=None)\n",
    "pd.DataFrame({'sub2target':sub2target,'newSub2Label':np.unique(sub2labels)}).to_csv(\"FlipKart/sub2label.csv\",index=False,compression=None)\n"
   ]
  },
  {
   "cell_type": "code",
   "execution_count": 69,
   "metadata": {},
   "outputs": [
    {
     "data": {
      "text/plain": [
       "(12389, 5)"
      ]
     },
     "execution_count": 69,
     "metadata": {},
     "output_type": "execute_result"
    }
   ],
   "source": [
    "y_train.shape"
   ]
  },
  {
   "cell_type": "code",
   "execution_count": 70,
   "metadata": {},
   "outputs": [
    {
     "data": {
      "text/html": [
       "<div>\n",
       "<style scoped>\n",
       "    .dataframe tbody tr th:only-of-type {\n",
       "        vertical-align: middle;\n",
       "    }\n",
       "\n",
       "    .dataframe tbody tr th {\n",
       "        vertical-align: top;\n",
       "    }\n",
       "\n",
       "    .dataframe thead th {\n",
       "        text-align: right;\n",
       "    }\n",
       "</style>\n",
       "<table border=\"1\" class=\"dataframe\">\n",
       "  <thead>\n",
       "    <tr style=\"text-align: right;\">\n",
       "      <th></th>\n",
       "      <th>uniq_id</th>\n",
       "      <th>product_name</th>\n",
       "      <th>manufacturer</th>\n",
       "      <th>price</th>\n",
       "      <th>number_available_in_stock</th>\n",
       "      <th>number_of_reviews</th>\n",
       "      <th>number_of_answered_questions</th>\n",
       "      <th>average_review_rating</th>\n",
       "      <th>amazon_category_and_sub_category</th>\n",
       "      <th>customers_who_bought_this_item_also_bought</th>\n",
       "      <th>description</th>\n",
       "      <th>product_information</th>\n",
       "      <th>product_description</th>\n",
       "      <th>items_customers_buy_after_viewing_this_item</th>\n",
       "      <th>customer_questions_and_answers</th>\n",
       "      <th>customer_reviews</th>\n",
       "      <th>sellers</th>\n",
       "    </tr>\n",
       "  </thead>\n",
       "  <tbody>\n",
       "    <tr>\n",
       "      <th>0</th>\n",
       "      <td>eac7efa5dbd3d667f26eb3d3ab504464</td>\n",
       "      <td>Hornby 2014 Catalogue</td>\n",
       "      <td>Hornby</td>\n",
       "      <td>£3.42</td>\n",
       "      <td>5 new</td>\n",
       "      <td>15</td>\n",
       "      <td>1.0</td>\n",
       "      <td>4.9 out of 5 stars</td>\n",
       "      <td>Hobbies &gt; Model Trains &amp; Railway Sets &gt; Rail V...</td>\n",
       "      <td>http://www.amazon.co.uk/Hornby-R8150-Catalogue...</td>\n",
       "      <td>Product Description Hornby 2014 Catalogue Box ...</td>\n",
       "      <td>Technical Details Item Weight640 g Product Dim...</td>\n",
       "      <td>Product Description Hornby 2014 Catalogue Box ...</td>\n",
       "      <td>http://www.amazon.co.uk/Hornby-R8150-Catalogue...</td>\n",
       "      <td>Does this catalogue detail all the previous Ho...</td>\n",
       "      <td>Worth Buying For The Pictures Alone (As Ever) ...</td>\n",
       "      <td>{\"seller\"=&gt;[{\"Seller_name_1\"=&gt;\"Amazon.co.uk\", ...</td>\n",
       "    </tr>\n",
       "    <tr>\n",
       "      <th>1</th>\n",
       "      <td>b17540ef7e86e461d37f3ae58b7b72ac</td>\n",
       "      <td>FunkyBuys® Large Christmas Holiday Express Fes...</td>\n",
       "      <td>FunkyBuys</td>\n",
       "      <td>£16.99</td>\n",
       "      <td>NaN</td>\n",
       "      <td>2</td>\n",
       "      <td>1.0</td>\n",
       "      <td>4.5 out of 5 stars</td>\n",
       "      <td>Hobbies &gt; Model Trains &amp; Railway Sets &gt; Rail V...</td>\n",
       "      <td>http://www.amazon.co.uk/Christmas-Holiday-Expr...</td>\n",
       "      <td>Size Name:Large FunkyBuys® Large Christmas Hol...</td>\n",
       "      <td>Technical Details Manufacturer recommended age...</td>\n",
       "      <td>Size Name:Large FunkyBuys® Large Christmas Hol...</td>\n",
       "      <td>http://www.amazon.co.uk/Christmas-Holiday-Expr...</td>\n",
       "      <td>can you turn off sounds // hi no you cant turn...</td>\n",
       "      <td>Four Stars // 4.0 // 18 Dec. 2015 // By\\n    \\...</td>\n",
       "      <td>{\"seller\"=&gt;{\"Seller_name_1\"=&gt;\"UHD WHOLESALE\", ...</td>\n",
       "    </tr>\n",
       "    <tr>\n",
       "      <th>2</th>\n",
       "      <td>348f344247b0c1a935b1223072ef9d8a</td>\n",
       "      <td>CLASSIC TOY TRAIN SET TRACK CARRIAGES LIGHT EN...</td>\n",
       "      <td>ccf</td>\n",
       "      <td>£9.99</td>\n",
       "      <td>2 new</td>\n",
       "      <td>17</td>\n",
       "      <td>2.0</td>\n",
       "      <td>3.9 out of 5 stars</td>\n",
       "      <td>Hobbies &gt; Model Trains &amp; Railway Sets &gt; Rail V...</td>\n",
       "      <td>http://www.amazon.co.uk/Classic-Train-Lights-B...</td>\n",
       "      <td>BIG CLASSIC TOY TRAIN SET TRACK CARRIAGE LIGHT...</td>\n",
       "      <td>Technical Details Manufacturer recommended age...</td>\n",
       "      <td>BIG CLASSIC TOY TRAIN SET TRACK CARRIAGE LIGHT...</td>\n",
       "      <td>http://www.amazon.co.uk/Train-With-Tracks-Batt...</td>\n",
       "      <td>What is the gauge of the track // Hi Paul.Trut...</td>\n",
       "      <td>**Highly Recommended!** // 5.0 // 26 May 2015 ...</td>\n",
       "      <td>{\"seller\"=&gt;[{\"Seller_name_1\"=&gt;\"DEAL-BOX\", \"Sel...</td>\n",
       "    </tr>\n",
       "    <tr>\n",
       "      <th>3</th>\n",
       "      <td>e12b92dbb8eaee78b22965d2a9bbbd9f</td>\n",
       "      <td>HORNBY Coach R4410A BR Hawksworth Corridor 3rd</td>\n",
       "      <td>Hornby</td>\n",
       "      <td>£39.99</td>\n",
       "      <td>NaN</td>\n",
       "      <td>1</td>\n",
       "      <td>2.0</td>\n",
       "      <td>5.0 out of 5 stars</td>\n",
       "      <td>Hobbies &gt; Model Trains &amp; Railway Sets &gt; Rail V...</td>\n",
       "      <td>NaN</td>\n",
       "      <td>Hornby 00 Gauge BR Hawksworth 3rd Class W 2107...</td>\n",
       "      <td>Technical Details Item Weight259 g Product Dim...</td>\n",
       "      <td>Hornby 00 Gauge BR Hawksworth 3rd Class W 2107...</td>\n",
       "      <td>NaN</td>\n",
       "      <td>NaN</td>\n",
       "      <td>I love it // 5.0 // 22 July 2013 // By\\n    \\n...</td>\n",
       "      <td>NaN</td>\n",
       "    </tr>\n",
       "    <tr>\n",
       "      <th>4</th>\n",
       "      <td>e33a9adeed5f36840ccc227db4682a36</td>\n",
       "      <td>Hornby 00 Gauge 0-4-0 Gildenlow Salt Co. Steam...</td>\n",
       "      <td>Hornby</td>\n",
       "      <td>£32.19</td>\n",
       "      <td>NaN</td>\n",
       "      <td>3</td>\n",
       "      <td>2.0</td>\n",
       "      <td>4.7 out of 5 stars</td>\n",
       "      <td>Hobbies &gt; Model Trains &amp; Railway Sets &gt; Rail V...</td>\n",
       "      <td>http://www.amazon.co.uk/Hornby-R6367-RailRoad-...</td>\n",
       "      <td>Product Description Hornby RailRoad 0-4-0 Gild...</td>\n",
       "      <td>Technical Details Item Weight159 g Product Dim...</td>\n",
       "      <td>Product Description Hornby RailRoad 0-4-0 Gild...</td>\n",
       "      <td>http://www.amazon.co.uk/Hornby-R2672-RailRoad-...</td>\n",
       "      <td>NaN</td>\n",
       "      <td>Birthday present // 5.0 // 14 April 2014 // By...</td>\n",
       "      <td>NaN</td>\n",
       "    </tr>\n",
       "  </tbody>\n",
       "</table>\n",
       "</div>"
      ],
      "text/plain": [
       "                            uniq_id  \\\n",
       "0  eac7efa5dbd3d667f26eb3d3ab504464   \n",
       "1  b17540ef7e86e461d37f3ae58b7b72ac   \n",
       "2  348f344247b0c1a935b1223072ef9d8a   \n",
       "3  e12b92dbb8eaee78b22965d2a9bbbd9f   \n",
       "4  e33a9adeed5f36840ccc227db4682a36   \n",
       "\n",
       "                                        product_name manufacturer   price  \\\n",
       "0                              Hornby 2014 Catalogue       Hornby   £3.42   \n",
       "1  FunkyBuys® Large Christmas Holiday Express Fes...    FunkyBuys  £16.99   \n",
       "2  CLASSIC TOY TRAIN SET TRACK CARRIAGES LIGHT EN...          ccf   £9.99   \n",
       "3     HORNBY Coach R4410A BR Hawksworth Corridor 3rd       Hornby  £39.99   \n",
       "4  Hornby 00 Gauge 0-4-0 Gildenlow Salt Co. Steam...       Hornby  £32.19   \n",
       "\n",
       "  number_available_in_stock number_of_reviews  number_of_answered_questions  \\\n",
       "0                     5 new                15                           1.0   \n",
       "1                       NaN                 2                           1.0   \n",
       "2                     2 new                17                           2.0   \n",
       "3                       NaN                 1                           2.0   \n",
       "4                       NaN                 3                           2.0   \n",
       "\n",
       "  average_review_rating                   amazon_category_and_sub_category  \\\n",
       "0    4.9 out of 5 stars  Hobbies > Model Trains & Railway Sets > Rail V...   \n",
       "1    4.5 out of 5 stars  Hobbies > Model Trains & Railway Sets > Rail V...   \n",
       "2    3.9 out of 5 stars  Hobbies > Model Trains & Railway Sets > Rail V...   \n",
       "3    5.0 out of 5 stars  Hobbies > Model Trains & Railway Sets > Rail V...   \n",
       "4    4.7 out of 5 stars  Hobbies > Model Trains & Railway Sets > Rail V...   \n",
       "\n",
       "          customers_who_bought_this_item_also_bought  \\\n",
       "0  http://www.amazon.co.uk/Hornby-R8150-Catalogue...   \n",
       "1  http://www.amazon.co.uk/Christmas-Holiday-Expr...   \n",
       "2  http://www.amazon.co.uk/Classic-Train-Lights-B...   \n",
       "3                                                NaN   \n",
       "4  http://www.amazon.co.uk/Hornby-R6367-RailRoad-...   \n",
       "\n",
       "                                         description  \\\n",
       "0  Product Description Hornby 2014 Catalogue Box ...   \n",
       "1  Size Name:Large FunkyBuys® Large Christmas Hol...   \n",
       "2  BIG CLASSIC TOY TRAIN SET TRACK CARRIAGE LIGHT...   \n",
       "3  Hornby 00 Gauge BR Hawksworth 3rd Class W 2107...   \n",
       "4  Product Description Hornby RailRoad 0-4-0 Gild...   \n",
       "\n",
       "                                 product_information  \\\n",
       "0  Technical Details Item Weight640 g Product Dim...   \n",
       "1  Technical Details Manufacturer recommended age...   \n",
       "2  Technical Details Manufacturer recommended age...   \n",
       "3  Technical Details Item Weight259 g Product Dim...   \n",
       "4  Technical Details Item Weight159 g Product Dim...   \n",
       "\n",
       "                                 product_description  \\\n",
       "0  Product Description Hornby 2014 Catalogue Box ...   \n",
       "1  Size Name:Large FunkyBuys® Large Christmas Hol...   \n",
       "2  BIG CLASSIC TOY TRAIN SET TRACK CARRIAGE LIGHT...   \n",
       "3  Hornby 00 Gauge BR Hawksworth 3rd Class W 2107...   \n",
       "4  Product Description Hornby RailRoad 0-4-0 Gild...   \n",
       "\n",
       "         items_customers_buy_after_viewing_this_item  \\\n",
       "0  http://www.amazon.co.uk/Hornby-R8150-Catalogue...   \n",
       "1  http://www.amazon.co.uk/Christmas-Holiday-Expr...   \n",
       "2  http://www.amazon.co.uk/Train-With-Tracks-Batt...   \n",
       "3                                                NaN   \n",
       "4  http://www.amazon.co.uk/Hornby-R2672-RailRoad-...   \n",
       "\n",
       "                      customer_questions_and_answers  \\\n",
       "0  Does this catalogue detail all the previous Ho...   \n",
       "1  can you turn off sounds // hi no you cant turn...   \n",
       "2  What is the gauge of the track // Hi Paul.Trut...   \n",
       "3                                                NaN   \n",
       "4                                                NaN   \n",
       "\n",
       "                                    customer_reviews  \\\n",
       "0  Worth Buying For The Pictures Alone (As Ever) ...   \n",
       "1  Four Stars // 4.0 // 18 Dec. 2015 // By\\n    \\...   \n",
       "2  **Highly Recommended!** // 5.0 // 26 May 2015 ...   \n",
       "3  I love it // 5.0 // 22 July 2013 // By\\n    \\n...   \n",
       "4  Birthday present // 5.0 // 14 April 2014 // By...   \n",
       "\n",
       "                                             sellers  \n",
       "0  {\"seller\"=>[{\"Seller_name_1\"=>\"Amazon.co.uk\", ...  \n",
       "1  {\"seller\"=>{\"Seller_name_1\"=>\"UHD WHOLESALE\", ...  \n",
       "2  {\"seller\"=>[{\"Seller_name_1\"=>\"DEAL-BOX\", \"Sel...  \n",
       "3                                                NaN  \n",
       "4                                                NaN  "
      ]
     },
     "execution_count": 70,
     "metadata": {},
     "output_type": "execute_result"
    }
   ],
   "source": [
    "df = pd.read_csv('../example/amazon_co-ecommerce_sample.csv')\n",
    "df.head()"
   ]
  },
  {
   "cell_type": "code",
   "execution_count": 71,
   "metadata": {},
   "outputs": [
    {
     "name": "stdout",
     "output_type": "stream",
     "text": [
      "<class 'pandas.core.frame.DataFrame'>\n",
      "Int64Index: 8692 entries, 0 to 9998\n",
      "Data columns (total 17 columns):\n",
      "uniq_id                                        8692 non-null object\n",
      "product_name                                   8692 non-null object\n",
      "manufacturer                                   8691 non-null object\n",
      "price                                          7484 non-null object\n",
      "number_available_in_stock                      6601 non-null object\n",
      "number_of_reviews                              8683 non-null object\n",
      "number_of_answered_questions                   8045 non-null float64\n",
      "average_review_rating                          8683 non-null object\n",
      "amazon_category_and_sub_category               8692 non-null object\n",
      "customers_who_bought_this_item_also_bought     7807 non-null object\n",
      "description                                    8692 non-null object\n",
      "product_information                            8639 non-null object\n",
      "product_description                            8692 non-null object\n",
      "items_customers_buy_after_viewing_this_item    6075 non-null object\n",
      "customer_questions_and_answers                 816 non-null object\n",
      "customer_reviews                               8680 non-null object\n",
      "sellers                                        5967 non-null object\n",
      "dtypes: float64(1), object(16)\n",
      "memory usage: 1.2+ MB\n"
     ]
    }
   ],
   "source": [
    "df = df[pd.notnull(df['amazon_category_and_sub_category'])]\n",
    "df = df[pd.notnull(df['description'])]\n",
    "df = df[pd.notnull(df['uniq_id'])]\n",
    "\n",
    "df.info()"
   ]
  },
  {
   "cell_type": "code",
   "execution_count": 72,
   "metadata": {},
   "outputs": [
    {
     "data": {
      "text/html": [
       "<div>\n",
       "<style scoped>\n",
       "    .dataframe tbody tr th:only-of-type {\n",
       "        vertical-align: middle;\n",
       "    }\n",
       "\n",
       "    .dataframe tbody tr th {\n",
       "        vertical-align: top;\n",
       "    }\n",
       "\n",
       "    .dataframe thead th {\n",
       "        text-align: right;\n",
       "    }\n",
       "</style>\n",
       "<table border=\"1\" class=\"dataframe\">\n",
       "  <thead>\n",
       "    <tr style=\"text-align: right;\">\n",
       "      <th></th>\n",
       "      <th>uniq_id</th>\n",
       "      <th>product_name</th>\n",
       "      <th>category_main</th>\n",
       "      <th>category_sub1</th>\n",
       "      <th>category_sub2</th>\n",
       "      <th>description</th>\n",
       "    </tr>\n",
       "  </thead>\n",
       "  <tbody>\n",
       "    <tr>\n",
       "      <th>0</th>\n",
       "      <td>eac7efa5dbd3d667f26eb3d3ab504464</td>\n",
       "      <td>Hornby 2014 Catalogue</td>\n",
       "      <td>Hobbies</td>\n",
       "      <td>Model Trains &amp; Railway Sets</td>\n",
       "      <td>Rail Vehicles</td>\n",
       "      <td>Product Description Hornby 2014 Catalogue Box ...</td>\n",
       "    </tr>\n",
       "    <tr>\n",
       "      <th>1</th>\n",
       "      <td>b17540ef7e86e461d37f3ae58b7b72ac</td>\n",
       "      <td>FunkyBuys® Large Christmas Holiday Express Fes...</td>\n",
       "      <td>Hobbies</td>\n",
       "      <td>Model Trains &amp; Railway Sets</td>\n",
       "      <td>Rail Vehicles</td>\n",
       "      <td>Size Name:Large FunkyBuys® Large Christmas Hol...</td>\n",
       "    </tr>\n",
       "    <tr>\n",
       "      <th>2</th>\n",
       "      <td>348f344247b0c1a935b1223072ef9d8a</td>\n",
       "      <td>CLASSIC TOY TRAIN SET TRACK CARRIAGES LIGHT EN...</td>\n",
       "      <td>Hobbies</td>\n",
       "      <td>Model Trains &amp; Railway Sets</td>\n",
       "      <td>Rail Vehicles</td>\n",
       "      <td>BIG CLASSIC TOY TRAIN SET TRACK CARRIAGE LIGHT...</td>\n",
       "    </tr>\n",
       "    <tr>\n",
       "      <th>3</th>\n",
       "      <td>e12b92dbb8eaee78b22965d2a9bbbd9f</td>\n",
       "      <td>HORNBY Coach R4410A BR Hawksworth Corridor 3rd</td>\n",
       "      <td>Hobbies</td>\n",
       "      <td>Model Trains &amp; Railway Sets</td>\n",
       "      <td>Rail Vehicles</td>\n",
       "      <td>Hornby 00 Gauge BR Hawksworth 3rd Class W 2107...</td>\n",
       "    </tr>\n",
       "    <tr>\n",
       "      <th>4</th>\n",
       "      <td>e33a9adeed5f36840ccc227db4682a36</td>\n",
       "      <td>Hornby 00 Gauge 0-4-0 Gildenlow Salt Co. Steam...</td>\n",
       "      <td>Hobbies</td>\n",
       "      <td>Model Trains &amp; Railway Sets</td>\n",
       "      <td>Rail Vehicles</td>\n",
       "      <td>Product Description Hornby RailRoad 0-4-0 Gild...</td>\n",
       "    </tr>\n",
       "  </tbody>\n",
       "</table>\n",
       "</div>"
      ],
      "text/plain": [
       "                            uniq_id  \\\n",
       "0  eac7efa5dbd3d667f26eb3d3ab504464   \n",
       "1  b17540ef7e86e461d37f3ae58b7b72ac   \n",
       "2  348f344247b0c1a935b1223072ef9d8a   \n",
       "3  e12b92dbb8eaee78b22965d2a9bbbd9f   \n",
       "4  e33a9adeed5f36840ccc227db4682a36   \n",
       "\n",
       "                                        product_name category_main  \\\n",
       "0                              Hornby 2014 Catalogue      Hobbies    \n",
       "1  FunkyBuys® Large Christmas Holiday Express Fes...      Hobbies    \n",
       "2  CLASSIC TOY TRAIN SET TRACK CARRIAGES LIGHT EN...      Hobbies    \n",
       "3     HORNBY Coach R4410A BR Hawksworth Corridor 3rd      Hobbies    \n",
       "4  Hornby 00 Gauge 0-4-0 Gildenlow Salt Co. Steam...      Hobbies    \n",
       "\n",
       "                   category_sub1    category_sub2  \\\n",
       "0   Model Trains & Railway Sets    Rail Vehicles    \n",
       "1   Model Trains & Railway Sets    Rail Vehicles    \n",
       "2   Model Trains & Railway Sets    Rail Vehicles    \n",
       "3   Model Trains & Railway Sets    Rail Vehicles    \n",
       "4   Model Trains & Railway Sets    Rail Vehicles    \n",
       "\n",
       "                                         description  \n",
       "0  Product Description Hornby 2014 Catalogue Box ...  \n",
       "1  Size Name:Large FunkyBuys® Large Christmas Hol...  \n",
       "2  BIG CLASSIC TOY TRAIN SET TRACK CARRIAGE LIGHT...  \n",
       "3  Hornby 00 Gauge BR Hawksworth 3rd Class W 2107...  \n",
       "4  Product Description Hornby RailRoad 0-4-0 Gild...  "
      ]
     },
     "execution_count": 72,
     "metadata": {},
     "output_type": "execute_result"
    }
   ],
   "source": [
    "category = []\n",
    "subcategory = []\n",
    "sub2category = []\n",
    "for ele in df['amazon_category_and_sub_category'].apply(lambda x: str(x).split('>')):\n",
    "    category.append(ele[0])\n",
    "    if(len(ele)>2):\n",
    "        subcategory.append(ele[1])\n",
    "        sub2category.append(ele[2])\n",
    "    elif(len(ele)>1):\n",
    "        subcategory.append(ele[1])\n",
    "        sub2category.append(np.NaN)\n",
    "    else:\n",
    "        subcategory.append(np.NaN)\n",
    "        sub2category.append(np.NaN)\n",
    "\n",
    "data= {'uniq_id':df['uniq_id'], 'product_name':df['product_name'],'category_main':category,'category_sub1':subcategory,'category_sub2':sub2category,'description':df['description']}\n",
    "df = pd.DataFrame(data)\n",
    "df.head()"
   ]
  },
  {
   "cell_type": "code",
   "execution_count": 73,
   "metadata": {},
   "outputs": [
    {
     "name": "stdout",
     "output_type": "stream",
     "text": [
      "<class 'pandas.core.frame.DataFrame'>\n",
      "Int64Index: 8692 entries, 0 to 9998\n",
      "Data columns (total 6 columns):\n",
      "uniq_id          8692 non-null object\n",
      "product_name     8692 non-null object\n",
      "category_main    8692 non-null object\n",
      "category_sub1    8692 non-null object\n",
      "category_sub2    4969 non-null object\n",
      "description      8692 non-null object\n",
      "dtypes: object(6)\n",
      "memory usage: 475.3+ KB\n"
     ]
    }
   ],
   "source": [
    "df.info()"
   ]
  },
  {
   "cell_type": "code",
   "execution_count": 74,
   "metadata": {},
   "outputs": [],
   "source": [
    "df.description = df['description'].apply(clean_text)"
   ]
  },
  {
   "cell_type": "code",
   "execution_count": 75,
   "metadata": {},
   "outputs": [],
   "source": [
    "df = df[pd.notnull(df['category_main'])]"
   ]
  },
  {
   "cell_type": "code",
   "execution_count": 76,
   "metadata": {},
   "outputs": [],
   "source": [
    "dropCategoryCode  = classNumberThreshold(df.category_main.value_counts())\n",
    "dropSubCategoryCode  = classNumberThreshold(df.category_sub1.value_counts())\n",
    "dropSub2CategoryCode  = classNumberThreshold(df.category_sub2.value_counts())\n",
    "\n",
    "for i in dropCategoryCode:\n",
    "    df = df[df.category_main!=i]\n",
    "    \n",
    "for i in dropSubCategoryCode:\n",
    "    df = df[df.category_sub1!=i]\n"
   ]
  },
  {
   "cell_type": "code",
   "execution_count": 77,
   "metadata": {},
   "outputs": [
    {
     "name": "stdout",
     "output_type": "stream",
     "text": [
      "<class 'pandas.core.frame.DataFrame'>\n",
      "Int64Index: 8166 entries, 0 to 9998\n",
      "Data columns (total 6 columns):\n",
      "uniq_id          8166 non-null object\n",
      "product_name     8166 non-null object\n",
      "category_main    8166 non-null object\n",
      "category_sub1    8166 non-null object\n",
      "category_sub2    4827 non-null object\n",
      "description      8166 non-null object\n",
      "dtypes: object(6)\n",
      "memory usage: 446.6+ KB\n"
     ]
    }
   ],
   "source": [
    "df.info()"
   ]
  },
  {
   "cell_type": "code",
   "execution_count": 78,
   "metadata": {},
   "outputs": [],
   "source": [
    "le = LabelEncoder()\n",
    "le.fit(df.category_main)\n",
    "target = le.classes_\n",
    "labels = le.transform(df.category_main)\n",
    "\n",
    "le.fit(df.category_sub1.apply(str))\n",
    "subtarget = le.classes_\n",
    "sublabels = le.transform(df.category_sub1)\n",
    "\n"
   ]
  },
  {
   "cell_type": "code",
   "execution_count": 79,
   "metadata": {},
   "outputs": [],
   "source": [
    "y = pd.DataFrame({'id':df.uniq_id,'category':labels, 'subcategory':sublabels,'description':df.description})"
   ]
  },
  {
   "cell_type": "code",
   "execution_count": 80,
   "metadata": {},
   "outputs": [],
   "source": [
    "from sklearn.model_selection import train_test_split\n",
    "X_train, X_test, y_train, y_test = train_test_split(df.description, y, test_size=0.2, random_state = 27)"
   ]
  },
  {
   "cell_type": "code",
   "execution_count": 81,
   "metadata": {},
   "outputs": [],
   "source": [
    "pd.DataFrame({'X_train':X_train}).to_csv(\"Amazon/X_train.csv\",index=False,compression=None)"
   ]
  },
  {
   "cell_type": "code",
   "execution_count": 82,
   "metadata": {},
   "outputs": [],
   "source": [
    "pd.DataFrame({'X_test':X_test}).to_csv(\"Amazon/X_test.csv\",index=False,compression=None)"
   ]
  },
  {
   "cell_type": "code",
   "execution_count": 83,
   "metadata": {},
   "outputs": [],
   "source": [
    "y_train.to_csv(\"Amazon/y_train.csv\",index=False,compression=None)"
   ]
  },
  {
   "cell_type": "code",
   "execution_count": 84,
   "metadata": {},
   "outputs": [],
   "source": [
    "y_test.to_csv(\"Amazon/y_test.csv\",index=False,compression=None)"
   ]
  },
  {
   "cell_type": "code",
   "execution_count": 85,
   "metadata": {},
   "outputs": [],
   "source": [
    "pd.DataFrame({'target':target,'newLabel':np.unique(labels)}).to_csv(\"Amazon/label.csv\",index=False,compression=None)\n",
    "pd.DataFrame({'subtarget':subtarget,'newSubLabel':np.unique(sublabels)}).to_csv(\"Amazon/sublabel.csv\",index=False,compression=None)\n",
    "# pd.DataFrame({'sub2target':sub2target,'newSub2Label':np.unique(sub2labels)}).to_csv(\"FlipKart/sub2label.csv\",index=False,compression=None)\n"
   ]
  },
  {
   "cell_type": "code",
   "execution_count": 86,
   "metadata": {
    "scrolled": true
   },
   "outputs": [
    {
     "data": {
      "text/html": [
       "<div>\n",
       "<style scoped>\n",
       "    .dataframe tbody tr th:only-of-type {\n",
       "        vertical-align: middle;\n",
       "    }\n",
       "\n",
       "    .dataframe tbody tr th {\n",
       "        vertical-align: top;\n",
       "    }\n",
       "\n",
       "    .dataframe thead th {\n",
       "        text-align: right;\n",
       "    }\n",
       "</style>\n",
       "<table border=\"1\" class=\"dataframe\">\n",
       "  <thead>\n",
       "    <tr style=\"text-align: right;\">\n",
       "      <th></th>\n",
       "      <th>uniq_id</th>\n",
       "      <th>product_name</th>\n",
       "      <th>description</th>\n",
       "      <th>category_main</th>\n",
       "      <th>category_sub1</th>\n",
       "      <th>category_sub2</th>\n",
       "      <th>category</th>\n",
       "      <th>subcategory</th>\n",
       "    </tr>\n",
       "  </thead>\n",
       "  <tbody>\n",
       "    <tr>\n",
       "      <th>0</th>\n",
       "      <td>c2e71e7c97489d4efa5eab796ae354ac</td>\n",
       "      <td>Zyxel VMG1312-B10A VDSL2 Wireless N VDSL2 4-po...</td>\n",
       "      <td>Buy Zyxel VMG1312-B10A VDSL2 Wireless N VDSL2 ...</td>\n",
       "      <td>computers</td>\n",
       "      <td>network components</td>\n",
       "      <td>routers</td>\n",
       "      <td>400000</td>\n",
       "      <td>400200</td>\n",
       "    </tr>\n",
       "    <tr>\n",
       "      <th>1</th>\n",
       "      <td>8d5196bb4b2ad74b557768e9f666c21c</td>\n",
       "      <td>Zyxel PLA4231 500 Mbps Powerline Wireless N Ex...</td>\n",
       "      <td>Buy Zyxel PLA4231 500 Mbps Powerline Wireless ...</td>\n",
       "      <td>computers</td>\n",
       "      <td>network components</td>\n",
       "      <td>routers</td>\n",
       "      <td>400000</td>\n",
       "      <td>400200</td>\n",
       "    </tr>\n",
       "    <tr>\n",
       "      <th>2</th>\n",
       "      <td>833a87b0af3b84fe246d2ebf271af177</td>\n",
       "      <td>Zyxel PLA-4205</td>\n",
       "      <td>Buy Zyxel PLA-4205 only for Rs. 8100 from Flip...</td>\n",
       "      <td>computers</td>\n",
       "      <td>network components</td>\n",
       "      <td>routers</td>\n",
       "      <td>400000</td>\n",
       "      <td>400200</td>\n",
       "    </tr>\n",
       "    <tr>\n",
       "      <th>3</th>\n",
       "      <td>9c41fc08bd9e99ba7550816f00c9b9bd</td>\n",
       "      <td>Zyxel p-661h-d1</td>\n",
       "      <td>Buy Zyxel p-661h-d1 only for Rs. 4042 from Fli...</td>\n",
       "      <td>computers</td>\n",
       "      <td>network components</td>\n",
       "      <td>routers</td>\n",
       "      <td>400000</td>\n",
       "      <td>400200</td>\n",
       "    </tr>\n",
       "    <tr>\n",
       "      <th>4</th>\n",
       "      <td>f3f433714d8c535d28d0663c021e3769</td>\n",
       "      <td>Zyxel NWA1100N 802.11 b/g/n PoE Access Point</td>\n",
       "      <td>Buy Zyxel NWA1100N 802.11 b/g/n PoE Access Poi...</td>\n",
       "      <td>computers</td>\n",
       "      <td>network components</td>\n",
       "      <td>routers</td>\n",
       "      <td>400000</td>\n",
       "      <td>400200</td>\n",
       "    </tr>\n",
       "  </tbody>\n",
       "</table>\n",
       "</div>"
      ],
      "text/plain": [
       "                            uniq_id  \\\n",
       "0  c2e71e7c97489d4efa5eab796ae354ac   \n",
       "1  8d5196bb4b2ad74b557768e9f666c21c   \n",
       "2  833a87b0af3b84fe246d2ebf271af177   \n",
       "3  9c41fc08bd9e99ba7550816f00c9b9bd   \n",
       "4  f3f433714d8c535d28d0663c021e3769   \n",
       "\n",
       "                                        product_name  \\\n",
       "0  Zyxel VMG1312-B10A VDSL2 Wireless N VDSL2 4-po...   \n",
       "1  Zyxel PLA4231 500 Mbps Powerline Wireless N Ex...   \n",
       "2                                     Zyxel PLA-4205   \n",
       "3                                    Zyxel p-661h-d1   \n",
       "4       Zyxel NWA1100N 802.11 b/g/n PoE Access Point   \n",
       "\n",
       "                                         description category_main  \\\n",
       "0  Buy Zyxel VMG1312-B10A VDSL2 Wireless N VDSL2 ...     computers   \n",
       "1  Buy Zyxel PLA4231 500 Mbps Powerline Wireless ...     computers   \n",
       "2  Buy Zyxel PLA-4205 only for Rs. 8100 from Flip...     computers   \n",
       "3  Buy Zyxel p-661h-d1 only for Rs. 4042 from Fli...     computers   \n",
       "4  Buy Zyxel NWA1100N 802.11 b/g/n PoE Access Poi...     computers   \n",
       "\n",
       "        category_sub1 category_sub2  category  subcategory  \n",
       "0  network components       routers    400000       400200  \n",
       "1  network components       routers    400000       400200  \n",
       "2  network components       routers    400000       400200  \n",
       "3  network components       routers    400000       400200  \n",
       "4  network components       routers    400000       400200  "
      ]
     },
     "execution_count": 86,
     "metadata": {},
     "output_type": "execute_result"
    }
   ],
   "source": [
    "df = pd.read_csv('../example/combine.csv')\n",
    "df.head()"
   ]
  },
  {
   "cell_type": "code",
   "execution_count": 87,
   "metadata": {},
   "outputs": [],
   "source": [
    "def checkNanin(text):\n",
    "    text = str(text)\n",
    "    if(text==\"nan\"):\n",
    "        return \"\"\n",
    "    else:\n",
    "        return text\n",
    "df.description = df.description.apply(checkNanin)    "
   ]
  },
  {
   "cell_type": "code",
   "execution_count": 88,
   "metadata": {},
   "outputs": [
    {
     "data": {
      "text/plain": [
       "0        None\n",
       "1        None\n",
       "2        None\n",
       "3        None\n",
       "4        None\n",
       "5        None\n",
       "6        None\n",
       "7        None\n",
       "8        None\n",
       "9        None\n",
       "10       None\n",
       "11       None\n",
       "12       None\n",
       "13       None\n",
       "14       None\n",
       "15       None\n",
       "16       None\n",
       "17       None\n",
       "18       None\n",
       "19       None\n",
       "20       None\n",
       "21       None\n",
       "22       None\n",
       "23       None\n",
       "24       None\n",
       "25       None\n",
       "26       None\n",
       "27       None\n",
       "28       None\n",
       "29       None\n",
       "         ... \n",
       "28660    None\n",
       "28661    None\n",
       "28662    None\n",
       "28663    None\n",
       "28664    None\n",
       "28665    None\n",
       "28666    None\n",
       "28667    None\n",
       "28668    None\n",
       "28669    None\n",
       "28670    None\n",
       "28671    None\n",
       "28672    None\n",
       "28673    None\n",
       "28674    None\n",
       "28675    None\n",
       "28676    None\n",
       "28677    None\n",
       "28678    None\n",
       "28679    None\n",
       "28680    None\n",
       "28681    None\n",
       "28682    None\n",
       "28683    None\n",
       "28684    None\n",
       "28685    None\n",
       "28686    None\n",
       "28687    None\n",
       "28688    None\n",
       "28689    None\n",
       "Name: description, Length: 28690, dtype: object"
      ]
     },
     "execution_count": 88,
     "metadata": {},
     "output_type": "execute_result"
    }
   ],
   "source": [
    "def checkNanin(text):\n",
    "    text = str(text)\n",
    "    if(text==\"nan\"):\n",
    "        print(text)\n",
    "df.description.apply(checkNanin)    "
   ]
  },
  {
   "cell_type": "code",
   "execution_count": 89,
   "metadata": {},
   "outputs": [],
   "source": [
    "df.description = df['description'].apply(clean_text)"
   ]
  },
  {
   "cell_type": "code",
   "execution_count": 90,
   "metadata": {},
   "outputs": [],
   "source": [
    "df = df[pd.notnull(df['category'])]\n",
    "\n",
    "df = df[pd.notnull(df['uniq_id'])]\n",
    "df = df[pd.notnull(df['description'])]\n",
    "df = df.dropna(subset=['description'])"
   ]
  },
  {
   "cell_type": "code",
   "execution_count": 91,
   "metadata": {},
   "outputs": [],
   "source": [
    "dropCategoryCode  = classNumberThreshold(df.category.value_counts())\n",
    "dropSubCategoryCode  = classNumberThreshold(df.subcategory.value_counts())\n",
    "\n",
    "for i in dropCategoryCode:\n",
    "    df = df[df.category!=i]\n",
    "    \n",
    "for i in dropSubCategoryCode:\n",
    "    df = df[df.subcategory!=i]\n"
   ]
  },
  {
   "cell_type": "code",
   "execution_count": 92,
   "metadata": {},
   "outputs": [],
   "source": [
    "le = LabelEncoder()\n",
    "le.fit(df.category)\n",
    "target = le.classes_\n",
    "labels = le.transform(df.category)\n",
    "\n",
    "le.fit(df.subcategory)\n",
    "subtarget = le.classes_\n",
    "sublabels = le.transform(df.subcategory)\n",
    "\n"
   ]
  },
  {
   "cell_type": "code",
   "execution_count": 93,
   "metadata": {},
   "outputs": [],
   "source": [
    "y = pd.DataFrame({'id':df.uniq_id,'category':labels, 'subcategory':sublabels, 'description':df.description})"
   ]
  },
  {
   "cell_type": "code",
   "execution_count": 94,
   "metadata": {},
   "outputs": [],
   "source": [
    "from sklearn.model_selection import train_test_split\n",
    "X_train, X_test, y_train, y_test = train_test_split(df.description, y, test_size=0.2, random_state = 27)"
   ]
  },
  {
   "cell_type": "code",
   "execution_count": 95,
   "metadata": {},
   "outputs": [
    {
     "data": {
      "text/plain": [
       "((22832,), (5708,))"
      ]
     },
     "execution_count": 95,
     "metadata": {},
     "output_type": "execute_result"
    }
   ],
   "source": [
    "X_train.shape, X_test.shape"
   ]
  },
  {
   "cell_type": "code",
   "execution_count": 96,
   "metadata": {},
   "outputs": [],
   "source": [
    "count = 0 \n",
    "for i in pd.isnull(X_train).values:\n",
    "    if(i):\n",
    "        print(count)\n",
    "    count = count +1"
   ]
  },
  {
   "cell_type": "code",
   "execution_count": 97,
   "metadata": {},
   "outputs": [],
   "source": [
    "Xtrain = pd.DataFrame({'X_train':X_train})\n",
    "Xtest = pd.DataFrame({'X_test':X_test})"
   ]
  },
  {
   "cell_type": "code",
   "execution_count": 98,
   "metadata": {},
   "outputs": [
    {
     "name": "stdout",
     "output_type": "stream",
     "text": [
      "<class 'pandas.core.frame.DataFrame'>\n",
      "Int64Index: 22832 entries, 2469 to 5159\n",
      "Data columns (total 1 columns):\n",
      "X_train    22832 non-null object\n",
      "dtypes: object(1)\n",
      "memory usage: 356.8+ KB\n"
     ]
    }
   ],
   "source": [
    "Xtrain.info()"
   ]
  },
  {
   "cell_type": "code",
   "execution_count": 99,
   "metadata": {},
   "outputs": [],
   "source": [
    "Xtrain.to_csv(\"Combine/X_train.csv\",index=False,compression=None)"
   ]
  },
  {
   "cell_type": "code",
   "execution_count": 100,
   "metadata": {},
   "outputs": [],
   "source": [
    "Xtest.to_csv(\"Combine/X_test.csv\",index=False,compression=None)"
   ]
  },
  {
   "cell_type": "code",
   "execution_count": 101,
   "metadata": {},
   "outputs": [],
   "source": [
    "y_train.to_csv(\"Combine/y_train.csv\",index=False,compression=None)"
   ]
  },
  {
   "cell_type": "code",
   "execution_count": 102,
   "metadata": {},
   "outputs": [],
   "source": [
    "y_test.to_csv(\"Combine/y_test.csv\",index=False,compression=None)"
   ]
  },
  {
   "cell_type": "code",
   "execution_count": 103,
   "metadata": {},
   "outputs": [],
   "source": [
    "pd.DataFrame({'target':target,'newLabel':np.unique(labels)}).to_csv(\"Combine/label.csv\",index=False,compression=None)\n",
    "pd.DataFrame({'subtarget':subtarget,'newSubLabel':np.unique(sublabels)}).to_csv(\"Combine/sublabel.csv\",index=False,compression=None)\n",
    "# pd.DataFrame({'sub2target':sub2target,'newSub2Label':np.unique(sub2labels)}).to_csv(\"FlipKart/sub2label.csv\",index=False,compression=None)\n"
   ]
  },
  {
   "cell_type": "code",
   "execution_count": null,
   "metadata": {},
   "outputs": [],
   "source": []
  },
  {
   "cell_type": "code",
   "execution_count": null,
   "metadata": {},
   "outputs": [],
   "source": []
  }
 ],
 "metadata": {
  "kernelspec": {
   "display_name": "Python 3",
   "language": "python",
   "name": "python3"
  },
  "language_info": {
   "codemirror_mode": {
    "name": "ipython",
    "version": 3
   },
   "file_extension": ".py",
   "mimetype": "text/x-python",
   "name": "python",
   "nbconvert_exporter": "python",
   "pygments_lexer": "ipython3",
   "version": "3.6.8"
  }
 },
 "nbformat": 4,
 "nbformat_minor": 2
}
