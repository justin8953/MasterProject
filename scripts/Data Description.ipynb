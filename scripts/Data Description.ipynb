{
 "cells": [
  {
   "cell_type": "code",
   "execution_count": 44,
   "metadata": {},
   "outputs": [],
   "source": [
    "import pandas as pd\n",
    "import numpy as np\n",
    "from keras.preprocessing.text import Tokenizer\n",
    "from nltk.stem import WordNetLemmatizer\n",
    "\n",
    "\n",
    "folder = ['Amazon','FlipKart','Combine','Walmart']\n",
    "class FeatureSelection:\n",
    "    def __init__(self,num):\n",
    "        self.num = num\n",
    "    # initialise the train and test data\n",
    "    def openFile(self):\n",
    "        num = self.num\n",
    "        print(\"----- OPEN \"+folder[num]+\" data ----- \\n\")\n",
    "        trainData = pd.read_csv(folder[num]+'/X_train.csv')\n",
    "        trainLabel = pd.read_csv(folder[num]+'/y_train.csv')\n",
    "        testData = pd.read_csv(folder[num]+'/X_test.csv')\n",
    "        testLabel = pd.read_csv(folder[num]+'/y_test.csv')\n",
    "        target = pd.read_csv(folder[num]+'/label.csv')\n",
    "        subtarget = pd.read_csv(folder[num]+'/sublabel.csv')\n",
    "\n",
    "        if(num==0 or num==2):\n",
    "            # For Description has nan row\n",
    "            df = pd.concat([trainData,trainLabel], axis = 1)\n",
    "            df = df.dropna(subset=['X_train'])\n",
    "            trainData = pd.DataFrame({'X_train':df.X_train})\n",
    "            trainLabel = pd.DataFrame({'category':df.category,'subcategory':df.subcategory})\n",
    "            df = pd.concat([testData,testLabel], axis = 1)\n",
    "            df = df.dropna(subset=['X_test'])\n",
    "            testData = pd.DataFrame({'X_test':df.X_test})\n",
    "            testLabel = pd.DataFrame({'category':df.category,'subcategory':df.subcategory})\n",
    "        return trainData,trainLabel,testData,testLabel,target,subtarget"
   ]
  },
  {
   "cell_type": "code",
   "execution_count": 45,
   "metadata": {
    "scrolled": true
   },
   "outputs": [
    {
     "name": "stdout",
     "output_type": "stream",
     "text": [
      "----- OPEN FlipKart data ----- \n",
      "\n"
     ]
    }
   ],
   "source": [
    "trainData,trainLabel,testData,testLabel,target,sub2target = FeatureSelection(1).openFile()"
   ]
  },
  {
   "cell_type": "code",
   "execution_count": 46,
   "metadata": {},
   "outputs": [
    {
     "data": {
      "text/plain": [
       "(18, 41)"
      ]
     },
     "execution_count": 46,
     "metadata": {},
     "output_type": "execute_result"
    }
   ],
   "source": [
    "len(target),len(sub2target)"
   ]
  },
  {
   "cell_type": "code",
   "execution_count": 47,
   "metadata": {},
   "outputs": [
    {
     "data": {
      "text/plain": [
       "(12389, 3098)"
      ]
     },
     "execution_count": 47,
     "metadata": {},
     "output_type": "execute_result"
    }
   ],
   "source": [
    "len(trainLabel),len(testLabel)"
   ]
  },
  {
   "cell_type": "code",
   "execution_count": 48,
   "metadata": {},
   "outputs": [
    {
     "data": {
      "text/plain": [
       "15487"
      ]
     },
     "execution_count": 48,
     "metadata": {},
     "output_type": "execute_result"
    }
   ],
   "source": [
    "len(trainLabel)+len(testLabel)"
   ]
  },
  {
   "cell_type": "code",
   "execution_count": 49,
   "metadata": {
    "scrolled": true
   },
   "outputs": [
    {
     "name": "stdout",
     "output_type": "stream",
     "text": [
      "----- OPEN FlipKart data ----- \n",
      "\n"
     ]
    }
   ],
   "source": [
    "trainData,trainLabel,testData,testLabel,target,sub2target = FeatureSelection(1).openFile()"
   ]
  },
  {
   "cell_type": "code",
   "execution_count": 50,
   "metadata": {},
   "outputs": [
    {
     "data": {
      "text/plain": [
       "(18, 41)"
      ]
     },
     "execution_count": 50,
     "metadata": {},
     "output_type": "execute_result"
    }
   ],
   "source": [
    "len(target),len(sub2target)"
   ]
  },
  {
   "cell_type": "code",
   "execution_count": 51,
   "metadata": {},
   "outputs": [
    {
     "data": {
      "text/plain": [
       "(12389, 3098)"
      ]
     },
     "execution_count": 51,
     "metadata": {},
     "output_type": "execute_result"
    }
   ],
   "source": [
    "len(trainLabel),len(testLabel)"
   ]
  },
  {
   "cell_type": "code",
   "execution_count": 52,
   "metadata": {},
   "outputs": [
    {
     "data": {
      "text/plain": [
       "15487"
      ]
     },
     "execution_count": 52,
     "metadata": {},
     "output_type": "execute_result"
    }
   ],
   "source": [
    "len(trainLabel)+len(testLabel)"
   ]
  },
  {
   "cell_type": "code",
   "execution_count": 53,
   "metadata": {
    "scrolled": true
   },
   "outputs": [
    {
     "name": "stdout",
     "output_type": "stream",
     "text": [
      "----- OPEN Combine data ----- \n",
      "\n"
     ]
    }
   ],
   "source": [
    "trainData,trainLabel,testData,testLabel,target,sub2target = FeatureSelection(2).openFile()"
   ]
  },
  {
   "cell_type": "code",
   "execution_count": 54,
   "metadata": {},
   "outputs": [
    {
     "data": {
      "text/plain": [
       "(9, 33)"
      ]
     },
     "execution_count": 54,
     "metadata": {},
     "output_type": "execute_result"
    }
   ],
   "source": [
    "len(target),len(sub2target)"
   ]
  },
  {
   "cell_type": "code",
   "execution_count": 55,
   "metadata": {},
   "outputs": [
    {
     "data": {
      "text/plain": [
       "(22827, 5704)"
      ]
     },
     "execution_count": 55,
     "metadata": {},
     "output_type": "execute_result"
    }
   ],
   "source": [
    "len(trainLabel),len(testLabel)"
   ]
  },
  {
   "cell_type": "code",
   "execution_count": 56,
   "metadata": {},
   "outputs": [
    {
     "data": {
      "text/plain": [
       "28531"
      ]
     },
     "execution_count": 56,
     "metadata": {},
     "output_type": "execute_result"
    }
   ],
   "source": [
    "len(trainLabel)+len(testLabel)"
   ]
  },
  {
   "cell_type": "code",
   "execution_count": 57,
   "metadata": {
    "scrolled": true
   },
   "outputs": [
    {
     "name": "stdout",
     "output_type": "stream",
     "text": [
      "----- OPEN Walmart data ----- \n",
      "\n"
     ]
    }
   ],
   "source": [
    "trainData,trainLabel,testData,testLabel,target,sub2target = FeatureSelection(3).openFile()"
   ]
  },
  {
   "cell_type": "code",
   "execution_count": 58,
   "metadata": {},
   "outputs": [
    {
     "data": {
      "text/plain": [
       "(38, 561)"
      ]
     },
     "execution_count": 58,
     "metadata": {},
     "output_type": "execute_result"
    }
   ],
   "source": [
    "len(target),len(sub2target)"
   ]
  },
  {
   "cell_type": "code",
   "execution_count": 59,
   "metadata": {},
   "outputs": [
    {
     "data": {
      "text/plain": [
       "(107760, 26941)"
      ]
     },
     "execution_count": 59,
     "metadata": {},
     "output_type": "execute_result"
    }
   ],
   "source": [
    "len(trainLabel),len(testLabel)"
   ]
  },
  {
   "cell_type": "code",
   "execution_count": 60,
   "metadata": {},
   "outputs": [
    {
     "data": {
      "text/plain": [
       "134701"
      ]
     },
     "execution_count": 60,
     "metadata": {},
     "output_type": "execute_result"
    }
   ],
   "source": [
    "len(trainLabel)+len(testLabel)"
   ]
  },
  {
   "cell_type": "code",
   "execution_count": 61,
   "metadata": {},
   "outputs": [
    {
     "data": {
      "text/html": [
       "<div>\n",
       "<style scoped>\n",
       "    .dataframe tbody tr th:only-of-type {\n",
       "        vertical-align: middle;\n",
       "    }\n",
       "\n",
       "    .dataframe tbody tr th {\n",
       "        vertical-align: top;\n",
       "    }\n",
       "\n",
       "    .dataframe thead th {\n",
       "        text-align: right;\n",
       "    }\n",
       "</style>\n",
       "<table border=\"1\" class=\"dataframe\">\n",
       "  <thead>\n",
       "    <tr style=\"text-align: right;\">\n",
       "      <th></th>\n",
       "      <th>productName</th>\n",
       "      <th>shortDescription</th>\n",
       "      <th>longDescription</th>\n",
       "      <th>itemId</th>\n",
       "      <th>category</th>\n",
       "      <th>subcategory</th>\n",
       "      <th>sub2category</th>\n",
       "      <th>categoryName</th>\n",
       "      <th>subcategoryName</th>\n",
       "      <th>sub2categoryName</th>\n",
       "    </tr>\n",
       "  </thead>\n",
       "  <tbody>\n",
       "    <tr>\n",
       "      <th>0</th>\n",
       "      <td>Rose Cottage Girls' Hunter Green  Jacket Dress</td>\n",
       "      <td>Paired with its' trendy jacket or worn alone, ...</td>\n",
       "      <td>Sean John Boys Tiger Frame Graphic T-Shirt</td>\n",
       "      <td>107</td>\n",
       "      <td>5438.0</td>\n",
       "      <td>7712430.0</td>\n",
       "      <td>7809949.0</td>\n",
       "      <td>Clothing</td>\n",
       "      <td>Kids Clothing</td>\n",
       "      <td>Boys Clothing</td>\n",
       "    </tr>\n",
       "    <tr>\n",
       "      <th>1</th>\n",
       "      <td>Wrangler Men's Relaxed Fit Jeans</td>\n",
       "      <td>These Wrangler Men's Relaxed Fit Jeans are gre...</td>\n",
       "      <td>&amp;lt;br&amp;gt;&amp;lt;b&amp;gt;Wrangler Men's Relaxed Fit ...</td>\n",
       "      <td>637</td>\n",
       "      <td>5438.0</td>\n",
       "      <td>133197.0</td>\n",
       "      <td>6127105.0</td>\n",
       "      <td>Clothing</td>\n",
       "      <td>Men</td>\n",
       "      <td>Mens Jeans</td>\n",
       "    </tr>\n",
       "    <tr>\n",
       "      <th>2</th>\n",
       "      <td>Wrangler Men's Relaxed Fit Jeans</td>\n",
       "      <td>These Wrangler Men's Relaxed Fit Jeans are gre...</td>\n",
       "      <td>&amp;lt;br&amp;gt;&amp;lt;b&amp;gt;Wrangler Men's Relaxed Fit ...</td>\n",
       "      <td>638</td>\n",
       "      <td>5438.0</td>\n",
       "      <td>133197.0</td>\n",
       "      <td>6127105.0</td>\n",
       "      <td>Clothing</td>\n",
       "      <td>Men</td>\n",
       "      <td>Mens Jeans</td>\n",
       "    </tr>\n",
       "    <tr>\n",
       "      <th>3</th>\n",
       "      <td>Wrangler Men's Relaxed Fit Jeans</td>\n",
       "      <td>These Wrangler Men's Relaxed Fit Jeans are gre...</td>\n",
       "      <td>&amp;lt;br&amp;gt;&amp;lt;b&amp;gt;Wrangler Men's Relaxed Fit ...</td>\n",
       "      <td>642</td>\n",
       "      <td>5438.0</td>\n",
       "      <td>133197.0</td>\n",
       "      <td>6127105.0</td>\n",
       "      <td>Clothing</td>\n",
       "      <td>Men</td>\n",
       "      <td>Mens Jeans</td>\n",
       "    </tr>\n",
       "    <tr>\n",
       "      <th>4</th>\n",
       "      <td>Wrangler Men's Relaxed Fit Jeans</td>\n",
       "      <td>These Wrangler Men's Relaxed Fit Jeans are gre...</td>\n",
       "      <td>&amp;lt;br&amp;gt;&amp;lt;b&amp;gt;Wrangler Men's Relaxed Fit ...</td>\n",
       "      <td>643</td>\n",
       "      <td>5438.0</td>\n",
       "      <td>133197.0</td>\n",
       "      <td>6127105.0</td>\n",
       "      <td>Clothing</td>\n",
       "      <td>Men</td>\n",
       "      <td>Mens Jeans</td>\n",
       "    </tr>\n",
       "  </tbody>\n",
       "</table>\n",
       "</div>"
      ],
      "text/plain": [
       "                                      productName  \\\n",
       "0  Rose Cottage Girls' Hunter Green  Jacket Dress   \n",
       "1                Wrangler Men's Relaxed Fit Jeans   \n",
       "2                Wrangler Men's Relaxed Fit Jeans   \n",
       "3                Wrangler Men's Relaxed Fit Jeans   \n",
       "4                Wrangler Men's Relaxed Fit Jeans   \n",
       "\n",
       "                                    shortDescription  \\\n",
       "0  Paired with its' trendy jacket or worn alone, ...   \n",
       "1  These Wrangler Men's Relaxed Fit Jeans are gre...   \n",
       "2  These Wrangler Men's Relaxed Fit Jeans are gre...   \n",
       "3  These Wrangler Men's Relaxed Fit Jeans are gre...   \n",
       "4  These Wrangler Men's Relaxed Fit Jeans are gre...   \n",
       "\n",
       "                                     longDescription  itemId  category  \\\n",
       "0         Sean John Boys Tiger Frame Graphic T-Shirt     107    5438.0   \n",
       "1  &lt;br&gt;&lt;b&gt;Wrangler Men's Relaxed Fit ...     637    5438.0   \n",
       "2  &lt;br&gt;&lt;b&gt;Wrangler Men's Relaxed Fit ...     638    5438.0   \n",
       "3  &lt;br&gt;&lt;b&gt;Wrangler Men's Relaxed Fit ...     642    5438.0   \n",
       "4  &lt;br&gt;&lt;b&gt;Wrangler Men's Relaxed Fit ...     643    5438.0   \n",
       "\n",
       "   subcategory  sub2category categoryName subcategoryName sub2categoryName  \n",
       "0    7712430.0     7809949.0     Clothing   Kids Clothing    Boys Clothing  \n",
       "1     133197.0     6127105.0     Clothing             Men       Mens Jeans  \n",
       "2     133197.0     6127105.0     Clothing             Men       Mens Jeans  \n",
       "3     133197.0     6127105.0     Clothing             Men       Mens Jeans  \n",
       "4     133197.0     6127105.0     Clothing             Men       Mens Jeans  "
      ]
     },
     "execution_count": 61,
     "metadata": {},
     "output_type": "execute_result"
    }
   ],
   "source": [
    "df_example = pd.read_csv('../example/walmartNewData.csv')\n",
    "df_example.head()"
   ]
  },
  {
   "cell_type": "code",
   "execution_count": 62,
   "metadata": {},
   "outputs": [],
   "source": [
    "import re\n",
    "import nltk\n",
    "from nltk.corpus import stopwords\n",
    "from bs4 import BeautifulSoup\n",
    "\n",
    "\n",
    "REPLACE_BY_SPACE_RE = re.compile('[/(){}\\[\\]\\|@,;-]')\n",
    "BAD_SYMBOLS_RE = re.compile('[^0-9a-z #+_]')\n",
    "STOPWORDS = set(stopwords.words('english'))\n",
    "Number_RE = re.compile('[*^0-9]')\n",
    "Bad_underline = re.compile('[*_*]')\n",
    "RemoveTag = re.compile('&lt;|br&gt;|b&gt;|ul&gt;|li&gt;|lt|gt|brgt|ligt|ul|b|p|div')\n",
    "def clean_text(text):\n",
    "    \"\"\"\n",
    "        text: a string\n",
    "        \n",
    "        return: modified initial string\n",
    "    \"\"\"\n",
    "#     text = BeautifulSoup(text)\n",
    "    text = text.lower() # lowercase text\n",
    "    text = RemoveTag.sub('',text)\n",
    "    text = REPLACE_BY_SPACE_RE.sub(' ', text) # replace REPLACE_BY_SPACE_RE symbols by space in text\n",
    "    text = Number_RE.sub(' ', text) # replace Number symbols by space in text\n",
    "    text = Bad_underline.sub(' ', text) # replace Underline symbols by space in text\n",
    "    text = BAD_SYMBOLS_RE.sub('', text) # delete symbols which are in BAD_SYMBOLS_RE from text\n",
    "    text = ' '.join(word for word in text.split() if word not in STOPWORDS) # delete stopwors from text\n",
    "    lemmatizer = WordNetLemmatizer()\n",
    "    text = ' '.join(lemmatizer.lemmatize(word,pos = 'v') for word in text.split())\n",
    "    return text\n",
    "\n",
    "def print_plot(index):\n",
    "    example = df_example[df_example.index == index][['itemId', 'productName','longDescription','category','subcategory','categoryName','subcategoryName']].values[0]\n",
    "    if len(example) > 0:\n",
    "        print('Unique ID :',example[0])\n",
    "        print('------------------------')\n",
    "        print('Product Name:', example[1])\n",
    "        print('------------------------')\n",
    "        print('Description:', example[2])\n",
    "        print('------------------------')\n",
    "        print('Pre-processing data description:', clean_text(example[2]))\n",
    "\n",
    "        print('------------------------')\n",
    "        print('Category code:' + str(int(example[3])) + ' Category name: ' + example[5])\n",
    "        print('------------------------')\n",
    "        print('Subcategory:'+ str(int(example[4])) + ' Subcategory name: ' + example[6])\n",
    "        Items = ['Unique ID: ', 'Product Name: ','Description: ','Pre-processing description: ','Category code: '\n",
    "                          ,'Category Name: ','Subcategory Code: ','Subcategory Name: ']\n",
    "        output = [str(example[0]),example[1],example[2],clean_text(example[2]), str(example[3]),example[5],str(example[4]),example[6]]\n",
    "        SaveDescript = \"\"\n",
    "        for ele in zip(Items,output):\n",
    "            SaveDescript = SaveDescript + ele[0] + ele[1] + ' \\n ------------------------ \\n'\n",
    "        with open('Descript.txt', 'w') as file:\n",
    "            file.write(SaveDescript)\n",
    "            \n",
    "            "
   ]
  },
  {
   "cell_type": "code",
   "execution_count": 63,
   "metadata": {},
   "outputs": [
    {
     "name": "stdout",
     "output_type": "stream",
     "text": [
      "Unique ID : 712\n",
      "------------------------\n",
      "Product Name: Gold Lights Holiday 2017\n",
      "------------------------\n",
      "Description: Easy to UseFor purchases at Walmart.com and in U.S. Walmart stores.For purchases by SAM'S Club members in U.S. SAM'S Club stores and at Samsclub.com.In stores, present the Walmart gift card at checkout.Online, enter gift card number and PIN (on back of gift card) during checkout. The PIN provides secure online shopping.As you make purchases, the gift card amount decreases. Add to gift card balance anytime in a Walmart store.Check card balance in stores or online.More InformationWalmart Gift Cards have no fees and never expire.Not returnable or refundable for cash except in states where required by law.For orders of 25 gift cards or more, or $250 and higher, we'll send you an email about activating your gift cards.Gift envelopes are not included or available for Walmart gift card purchases.By purchasing this Walmart Gift Card, you agree to Shopping Cards Terms and Conditions.\n",
      "------------------------\n",
      "Pre-processing data description: easy usefor urchases walmartcom us walmart storesfor urchases sams clu memers us sams clu store samsclucomin store resent walmart gift card checkoutonline enter gift card numer ack gift card checkout rovides secure online shoingas make urchases gift card amount decrease add gift card alance anytime walmart storecheck card alance store onlinemore informationwalmart gift card fee never exirenot returnale refundale cash excet state require lawfor order gift card higher well send email aout activate gift cardsgift enveloes include availale walmart gift card urchasesy urchasing walmart gift card agree shoe card term condition\n",
      "------------------------\n",
      "Category code:91083 Category name: Auto & Tires\n",
      "------------------------\n",
      "Subcategory:1074769 Subcategory name: Automotive Interior\n"
     ]
    }
   ],
   "source": [
    "print_plot(10)"
   ]
  },
  {
   "cell_type": "code",
   "execution_count": 64,
   "metadata": {},
   "outputs": [
    {
     "name": "stdout",
     "output_type": "stream",
     "text": [
      "----- OPEN Amazon data ----- \n",
      "\n"
     ]
    }
   ],
   "source": [
    "trainData,trainLabel,testData,testLabel,target,sub2target = FeatureSelection(0).openFile()"
   ]
  },
  {
   "cell_type": "code",
   "execution_count": 65,
   "metadata": {},
   "outputs": [
    {
     "name": "stdout",
     "output_type": "stream",
     "text": [
      "Train data max length is: 8056 Average length is: 46.405272838749234\n",
      "\n"
     ]
    }
   ],
   "source": [
    "def unique_word_count_average_length_max_length(data):\n",
    "    tokenizer = Tokenizer()\n",
    "    tokenizer.fit_on_texts(data)\n",
    "    sequences = tokenizer.texts_to_sequences(data)\n",
    "    trainlengths = [len(ele) for ele in sequences]\n",
    "    return max(trainlengths), np.mean(trainlengths)\n",
    "\n",
    "maxlen, meanlen = unique_word_count_average_length_max_length(trainData['X_train'])\n",
    "print(\"Train data max length is: \" + str(maxlen)+ \" Average length is: \"+ str(meanlen) +'\\n')\n"
   ]
  },
  {
   "cell_type": "code",
   "execution_count": 66,
   "metadata": {},
   "outputs": [
    {
     "name": "stdout",
     "output_type": "stream",
     "text": [
      "----- OPEN FlipKart data ----- \n",
      "\n"
     ]
    }
   ],
   "source": [
    "trainData,trainLabel,testData,testLabel,target,sub2target = FeatureSelection(1).openFile()"
   ]
  },
  {
   "cell_type": "code",
   "execution_count": 67,
   "metadata": {},
   "outputs": [
    {
     "name": "stdout",
     "output_type": "stream",
     "text": [
      "Train data max length is: 679 Average length is: 63.623698442166436\n",
      "\n"
     ]
    }
   ],
   "source": [
    "def unique_word_count_average_length_max_length(data):\n",
    "    tokenizer = Tokenizer()\n",
    "    tokenizer.fit_on_texts(data)\n",
    "    sequences = tokenizer.texts_to_sequences(data)\n",
    "    trainlengths = [len(ele) for ele in sequences]\n",
    "    return max(trainlengths), np.mean(trainlengths)\n",
    "\n",
    "maxlen, meanlen = unique_word_count_average_length_max_length(trainData['X_train'])\n",
    "print(\"Train data max length is: \" + str(maxlen)+ \" Average length is: \"+ str(meanlen) +'\\n')\n"
   ]
  },
  {
   "cell_type": "code",
   "execution_count": 68,
   "metadata": {},
   "outputs": [
    {
     "name": "stdout",
     "output_type": "stream",
     "text": [
      "----- OPEN Combine data ----- \n",
      "\n"
     ]
    }
   ],
   "source": [
    "trainData,trainLabel,testData,testLabel,target,sub2target = FeatureSelection(2).openFile()"
   ]
  },
  {
   "cell_type": "code",
   "execution_count": 69,
   "metadata": {},
   "outputs": [
    {
     "name": "stdout",
     "output_type": "stream",
     "text": [
      "Train data max length is: 8056 Average length is: 48.00543216366584\n",
      "\n"
     ]
    }
   ],
   "source": [
    "def unique_word_count_average_length_max_length(data):\n",
    "    tokenizer = Tokenizer()\n",
    "    tokenizer.fit_on_texts(data)\n",
    "    sequences = tokenizer.texts_to_sequences(data)\n",
    "    trainlengths = [len(ele) for ele in sequences]\n",
    "    return max(trainlengths), np.mean(trainlengths)\n",
    "\n",
    "maxlen, meanlen = unique_word_count_average_length_max_length(trainData['X_train'])\n",
    "print(\"Train data max length is: \" + str(maxlen)+ \" Average length is: \"+ str(meanlen) +'\\n')\n"
   ]
  },
  {
   "cell_type": "code",
   "execution_count": 70,
   "metadata": {},
   "outputs": [
    {
     "name": "stdout",
     "output_type": "stream",
     "text": [
      "----- OPEN Walmart data ----- \n",
      "\n"
     ]
    }
   ],
   "source": [
    "trainData,trainLabel,testData,testLabel,target,sub2target = FeatureSelection(3).openFile()"
   ]
  },
  {
   "cell_type": "code",
   "execution_count": 71,
   "metadata": {},
   "outputs": [
    {
     "name": "stdout",
     "output_type": "stream",
     "text": [
      "Train data max length is: 1749 Average length is: 78.13138455827766\n",
      "\n"
     ]
    }
   ],
   "source": [
    "def unique_word_count_average_length_max_length(data):\n",
    "    tokenizer = Tokenizer()\n",
    "    tokenizer.fit_on_texts(data)\n",
    "    sequences = tokenizer.texts_to_sequences(data)\n",
    "    trainlengths = [len(ele) for ele in sequences]\n",
    "    return max(trainlengths), np.mean(trainlengths)\n",
    "\n",
    "maxlen, meanlen = unique_word_count_average_length_max_length(trainData['X_train'])\n",
    "print(\"Train data max length is: \" + str(maxlen)+ \" Average length is: \"+ str(meanlen) +'\\n')\n"
   ]
  }
 ],
 "metadata": {
  "kernelspec": {
   "display_name": "Python 3",
   "language": "python",
   "name": "python3"
  },
  "language_info": {
   "codemirror_mode": {
    "name": "ipython",
    "version": 3
   },
   "file_extension": ".py",
   "mimetype": "text/x-python",
   "name": "python",
   "nbconvert_exporter": "python",
   "pygments_lexer": "ipython3",
   "version": "3.6.8"
  }
 },
 "nbformat": 4,
 "nbformat_minor": 2
}
